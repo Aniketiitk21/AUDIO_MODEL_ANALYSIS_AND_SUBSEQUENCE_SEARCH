{
  "cells": [
    {
      "cell_type": "code",
      "execution_count": null,
      "metadata": {
        "id": "3fcWBIw4guxl"
      },
      "outputs": [],
      "source": [
        "import torchaudio\n",
        "librispeech_test = torchaudio.datasets.LIBRISPEECH(\".\", url=\"test-clean\", download=True)"
      ]
    },
    {
      "cell_type": "code",
      "execution_count": null,
      "metadata": {
        "colab": {
          "base_uri": "https://localhost:8080/"
        },
        "id": "z2yA4SgKg1OR",
        "outputId": "5aaa91f5-bcd3-4589-af6c-7ed3d31125cb"
      },
      "outputs": [
        {
          "output_type": "stream",
          "name": "stdout",
          "text": [
            "Requirement already satisfied: pyrubberband in /usr/local/lib/python3.10/dist-packages (0.3.0)\n",
            "Requirement already satisfied: six in /usr/local/lib/python3.10/dist-packages (from pyrubberband) (1.16.0)\n",
            "Requirement already satisfied: pysoundfile>=0.8.0 in /usr/local/lib/python3.10/dist-packages (from pyrubberband) (0.9.0.post1)\n",
            "Requirement already satisfied: cffi>=0.6 in /usr/local/lib/python3.10/dist-packages (from pysoundfile>=0.8.0->pyrubberband) (1.16.0)\n",
            "Requirement already satisfied: pycparser in /usr/local/lib/python3.10/dist-packages (from cffi>=0.6->pysoundfile>=0.8.0->pyrubberband) (2.22)\n",
            "Requirement already satisfied: torch-time-stretch in /usr/local/lib/python3.10/dist-packages (1.0.3)\n",
            "Requirement already satisfied: torch>=1.7.0 in /usr/local/lib/python3.10/dist-packages (from torch-time-stretch) (2.2.1+cu121)\n",
            "Requirement already satisfied: torchaudio>=0.7.0 in /usr/local/lib/python3.10/dist-packages (from torch-time-stretch) (2.2.1+cu121)\n",
            "Requirement already satisfied: primePy>=1.3 in /usr/local/lib/python3.10/dist-packages (from torch-time-stretch) (1.3)\n",
            "Requirement already satisfied: filelock in /usr/local/lib/python3.10/dist-packages (from torch>=1.7.0->torch-time-stretch) (3.13.4)\n",
            "Requirement already satisfied: typing-extensions>=4.8.0 in /usr/local/lib/python3.10/dist-packages (from torch>=1.7.0->torch-time-stretch) (4.11.0)\n",
            "Requirement already satisfied: sympy in /usr/local/lib/python3.10/dist-packages (from torch>=1.7.0->torch-time-stretch) (1.12)\n",
            "Requirement already satisfied: networkx in /usr/local/lib/python3.10/dist-packages (from torch>=1.7.0->torch-time-stretch) (3.3)\n",
            "Requirement already satisfied: jinja2 in /usr/local/lib/python3.10/dist-packages (from torch>=1.7.0->torch-time-stretch) (3.1.3)\n",
            "Requirement already satisfied: fsspec in /usr/local/lib/python3.10/dist-packages (from torch>=1.7.0->torch-time-stretch) (2023.6.0)\n",
            "Requirement already satisfied: nvidia-cuda-nvrtc-cu12==12.1.105 in /usr/local/lib/python3.10/dist-packages (from torch>=1.7.0->torch-time-stretch) (12.1.105)\n",
            "Requirement already satisfied: nvidia-cuda-runtime-cu12==12.1.105 in /usr/local/lib/python3.10/dist-packages (from torch>=1.7.0->torch-time-stretch) (12.1.105)\n",
            "Requirement already satisfied: nvidia-cuda-cupti-cu12==12.1.105 in /usr/local/lib/python3.10/dist-packages (from torch>=1.7.0->torch-time-stretch) (12.1.105)\n",
            "Requirement already satisfied: nvidia-cudnn-cu12==8.9.2.26 in /usr/local/lib/python3.10/dist-packages (from torch>=1.7.0->torch-time-stretch) (8.9.2.26)\n",
            "Requirement already satisfied: nvidia-cublas-cu12==12.1.3.1 in /usr/local/lib/python3.10/dist-packages (from torch>=1.7.0->torch-time-stretch) (12.1.3.1)\n",
            "Requirement already satisfied: nvidia-cufft-cu12==11.0.2.54 in /usr/local/lib/python3.10/dist-packages (from torch>=1.7.0->torch-time-stretch) (11.0.2.54)\n",
            "Requirement already satisfied: nvidia-curand-cu12==10.3.2.106 in /usr/local/lib/python3.10/dist-packages (from torch>=1.7.0->torch-time-stretch) (10.3.2.106)\n",
            "Requirement already satisfied: nvidia-cusolver-cu12==11.4.5.107 in /usr/local/lib/python3.10/dist-packages (from torch>=1.7.0->torch-time-stretch) (11.4.5.107)\n",
            "Requirement already satisfied: nvidia-cusparse-cu12==12.1.0.106 in /usr/local/lib/python3.10/dist-packages (from torch>=1.7.0->torch-time-stretch) (12.1.0.106)\n",
            "Requirement already satisfied: nvidia-nccl-cu12==2.19.3 in /usr/local/lib/python3.10/dist-packages (from torch>=1.7.0->torch-time-stretch) (2.19.3)\n",
            "Requirement already satisfied: nvidia-nvtx-cu12==12.1.105 in /usr/local/lib/python3.10/dist-packages (from torch>=1.7.0->torch-time-stretch) (12.1.105)\n",
            "Requirement already satisfied: triton==2.2.0 in /usr/local/lib/python3.10/dist-packages (from torch>=1.7.0->torch-time-stretch) (2.2.0)\n",
            "Requirement already satisfied: nvidia-nvjitlink-cu12 in /usr/local/lib/python3.10/dist-packages (from nvidia-cusolver-cu12==11.4.5.107->torch>=1.7.0->torch-time-stretch) (12.4.127)\n",
            "Requirement already satisfied: MarkupSafe>=2.0 in /usr/local/lib/python3.10/dist-packages (from jinja2->torch>=1.7.0->torch-time-stretch) (2.1.5)\n",
            "Requirement already satisfied: mpmath>=0.19 in /usr/local/lib/python3.10/dist-packages (from sympy->torch>=1.7.0->torch-time-stretch) (1.3.0)\n"
          ]
        }
      ],
      "source": [
        "!pip install pyrubberband\n",
        "!pip install torch-time-stretch"
      ]
    },
    {
      "cell_type": "code",
      "execution_count": null,
      "metadata": {
        "id": "vdiF3XHVg3qa"
      },
      "outputs": [],
      "source": [
        "import os\n",
        "from scipy import signal\n",
        "import pyrubberband as pyrb\n",
        "import torch\n",
        "import torchaudio\n",
        "import torchaudio.transforms as T\n",
        "from torch_time_stretch import time_stretch\n",
        "import numpy as np\n",
        "# import shutil\n",
        "import tempfile\n",
        "import subprocess\n",
        "import soundfile as sf\n",
        "\n",
        "def read_audio(filepath, fs=16000,  mono=True, normalize=False, preemphasis=False):\n",
        "    \"\"\"\n",
        "    Reads audio file stored at <filepath>\n",
        "    Parameters:\n",
        "        filepath (str): audio file path\n",
        "        fs (int, optional): samping rate\n",
        "        mono (boolean, optional): return single channel\n",
        "        normalize(boolean, optional): peak normalization of signal\n",
        "        preemphasis (boolean, optional): apply pre-emphasis filter\n",
        "    Returns:\n",
        "        waveform (tensor): audio signal, dim(N,)\n",
        "    \"\"\"\n",
        "    assert isinstance(filepath, str), \"filepath must be specified as string\"\n",
        "    assert os.path.exists(filepath), f\"{filepath} does not exist.\"\n",
        "\n",
        "    try:\n",
        "        waveform, sr = torchaudio.load(filepath)\n",
        "        # mono channel\n",
        "        if waveform.shape[0] == 2 and mono is True: waveform = waveform[0]\n",
        "        else: waveform = waveform.reshape(-1)\n",
        "        # preemphasis\n",
        "        if preemphasis:\n",
        "            waveform = pre_emphasis(waveform)\n",
        "        # resample\n",
        "        if sr != fs:\n",
        "            resampler = T.Resample(sr, fs, dtype=waveform.dtype)\n",
        "            waveform = resampler(waveform)\n",
        "        # normalize\n",
        "        if normalize:\n",
        "            waveform = rms_normalize(waveform)\n",
        "        return waveform\n",
        "    except Exception as e:\n",
        "        return None\n",
        "\n",
        "\n",
        "def peak_normalize(waveform):\n",
        "    \"\"\"\n",
        "    Peak normalizes the <waveform>\n",
        "    Parameter:\n",
        "        waveform (tensor): waveform, dims: (N,)\n",
        "    \"\"\"\n",
        "    return waveform/torch.max(torch.abs(waveform))\n",
        "\n",
        "\n",
        "def rms_normalize(waveform, r=-10):\n",
        "    \"\"\"\n",
        "    RMS-normalization of  <waveform>\n",
        "    Parameter:\n",
        "        waveform (tensor): waveform, dims: (N,)\n",
        "        rms (float): rms in dB\n",
        "    \"\"\"\n",
        "    current_rms = torch.pow(torch.mean(torch.pow(waveform,2)) ,0.5)\n",
        "    scaling_factor = (10**(r/10))/current_rms\n",
        "    return waveform*scaling_factor\n",
        "\n",
        "\n",
        "def pre_emphasis(waveform, coeff=0.97):\n",
        "    filtered_sig = torch.empty_like(waveform)\n",
        "    filtered_sig[1:] = waveform[1:] - coeff*waveform[:-1]\n",
        "    filtered_sig[0] = waveform[0]\n",
        "    return filtered_sig\n",
        "\n",
        "\n",
        "def add_time_stretch(audio, fs, stretch_rate):\n",
        "    \"\"\"\n",
        "    Adds time stretch to <clean> audio by <stretch_rate> factor.\n",
        "    Parameters:\n",
        "        audio (tensor): waveform, dims: (N,)\n",
        "        fs (float): audio sample rate\n",
        "        stretch_rate (float): playback rate\n",
        "    Returns:\n",
        "        audio_stretch (tensor): time stretched waveform dims: (N*<stretch_rate>,)\n",
        "\n",
        "    \"\"\"\n",
        "    audio_stretch = time_stretch(audio.unsqueeze(0).unsqueeze(0), 1/stretch_rate, fs)\n",
        "    # assert len(audio)/stretch_rate == len(audio_stretch), f\"stretched audio length mismatch. Expected {len(audio)*stretch_rate}, got {len(audio_stretch)}\"\n",
        "    return audio_stretch.squeeze_()\n",
        "\n",
        "\n",
        "def add_pitch_shift_rb(y, sr, shift, tmpdir=None):\n",
        "    \"\"\"\n",
        "    Adds pitch shift to <y> audio sampled at <sr> by <shift> semitones. It calls rubberband package directly; does not use pyrubberband package.\n",
        "    \"\"\"\n",
        "    if isinstance(y, np.ndarray) is False:\n",
        "        y = y.numpy()\n",
        "\n",
        "    if tmpdir is not None:\n",
        "        tempfile.tempdir = tmpdir\n",
        "\n",
        "    # Get the input and output tempfile\n",
        "    fd, infile = tempfile.mkstemp(suffix='.wav')\n",
        "    os.close(fd)\n",
        "    fd, outfile = tempfile.mkstemp(suffix='.wav')\n",
        "    os.close(fd)\n",
        "\n",
        "    sf.write(infile, y, sr)\n",
        "    command = [\"rubberband\", \"-q\", \"--pitch\", str(shift), infile, outfile]\n",
        "    subprocess.run(command, stdout=subprocess.DEVNULL, stderr=subprocess.DEVNULL)\n",
        "\n",
        "    y_out, _ = sf.read(outfile, always_2d=True, dtype=y.dtype)\n",
        "    if y.ndim == 1:\n",
        "        y_out = np.squeeze(y_out)\n",
        "\n",
        "    os.unlink(infile)\n",
        "    os.unlink(outfile)\n",
        "    return torch.from_numpy(y_out).type(torch.float32)\n",
        "\n",
        "\n",
        "def add_pitch_shift(audio, fs, semitone_shift, use_rb=True):\n",
        "    \"\"\"\n",
        "    Adds pitch shift to <clean> audio by <semitone_shit> semitones.\n",
        "    Parameters:\n",
        "        audio (tensor): clean waveform, dims: (N,)\n",
        "        fs (float): audio sample rate\n",
        "        semitone_shift (float): semitones (can be between -12 and 12, but keep it low for good sound quality)\n",
        "    Returns:\n",
        "        audio_shift: pitch shifted added signal (tensor), dims: (N,)\n",
        "\n",
        "    \"\"\"\n",
        "    if use_rb:\n",
        "        audio_shift = pyrb.pitch_shift(audio.numpy(), fs, semitone_shift)\n",
        "        return torch.from_numpy(audio_shift).type(torch.float32)\n",
        "    else:\n",
        "        audio_shift = torchaudio.functional.pitch_shift(audio, fs, semitone_shift)\n",
        "        return audio_shift\n",
        "\n",
        "def add_noise(audio, noise, snr):\n",
        "    \"\"\"\n",
        "    Adds background <noise> to <clean> signal at desired <SNR> level\n",
        "    Parameters:\n",
        "        audio (tensor): clean waveform, dims: (N,)\n",
        "        noise (tensor): noise waveform, dims: (M,)\n",
        "        snr (int): SNR level in dB\n",
        "    Returns:\n",
        "        noisy_audio: noisy signal (tensor), dims: (N,)\n",
        "    \"\"\"\n",
        "    # make equal lengths for clean and noise signals\n",
        "    if len(audio) >= len(noise):\n",
        "        reps = torch.ceil(torch.tensor(len(audio)/len(noise))).int()\n",
        "        noise = torch.tile(noise, (reps,))[:len(audio)]\n",
        "    else:\n",
        "        start_idx = torch.randint(len(noise) - len(audio), (1,))\n",
        "        noise = noise[start_idx:start_idx+len(audio)]\n",
        "\n",
        "    assert len(noise) == len(audio), f\"noise signal {len(noise)} and clean signal {len(audio)} length mismatch\"\n",
        "\n",
        "    # add noise at desired snr\n",
        "    audio_rms = torch.mean(torch.pow(audio, 2))\n",
        "    noise_rms = torch.mean(torch.pow(noise, 2))\n",
        "    factor = torch.pow((audio_rms/noise_rms)/torch.pow(torch.tensor(10), (snr/10)), 0.5)\n",
        "    noise = factor*noise\n",
        "    noisy_audio = audio + noise\n",
        "    assert 10*torch.log10(audio_rms/torch.mean(torch.pow(noise, 2))) - snr < 1e-4, f\"snr mismatch {10*torch.log10(audio_rms/torch.mean(torch.pow(noise, 2))), snr, len(audio), len(noise), audio_rms, torch.mean(torch.pow(noise, 2)), noise_rms, factor, audio, torch.count_nonzero(audio)}\"\n",
        "    return noisy_audio\n",
        "\n",
        "\n",
        "def add_reverb(clean, rir):\n",
        "    \"\"\"\n",
        "    Filters <clean> signal with <rir> to get reverberation effect\n",
        "    Parameters:\n",
        "        clean (tensor): clean waveform, dims: (N,)\n",
        "        rir (tensor): room impulse response, dims: (M,)\n",
        "    Returns:\n",
        "        reverb added signal (tensor), dims: (N,)\n",
        "    \"\"\"\n",
        "    clean = clean.numpy()\n",
        "    rir = rir.numpy()\n",
        "    rir = rir/np.linalg.norm(rir)\n",
        "    # filering\n",
        "    p_max = np.argmax(np.abs(rir))\n",
        "    filtered_clean = signal.convolve(clean, rir, mode=\"full\")\n",
        "\n",
        "    # time offset\n",
        "    e = np.empty_like(filtered_clean, dtype=np.float32)\n",
        "    e[-p_max:] = 0.0\n",
        "    e[:-p_max] = filtered_clean[p_max:]\n",
        "    # filtered_clean = e.copy()\n",
        "    # e=None\n",
        "    filtered_clean = e[:len(clean)]\n",
        "    assert(len(filtered_clean)==len(clean))\n",
        "    filtered_clean = torch.from_numpy(filtered_clean)\n",
        "    return filtered_clean\n",
        "\n",
        "\n",
        "def add_noise_reverb(audio, noise, snr, rir):\n",
        "    \"\"\"\n",
        "    Adds background <noise> at desired <snr> level and reveberation using <rir> to <clean> signal\n",
        "    Parameters:\n",
        "        audio (tensor): clean waveform, dims: (N,)\n",
        "        noise (tensor): noise waveform, dims: (M,)\n",
        "        snr (int): SNR level in dB\n",
        "        rir (tensor): room impulse response, dims: (M,)\n",
        "    Returns:\n",
        "        noise and reverb added signal (tensor), dims: (N,)\n",
        "    \"\"\"\n",
        "    audio_reverb = add_reverb(audio, rir)\n",
        "    noise_reverb = add_reverb(noise, rir)\n",
        "    noise_reverb_clean = add_noise(audio_reverb, noise_reverb, snr)\n",
        "    return noise_reverb_clean"
      ]
    },
    {
      "cell_type": "code",
      "execution_count": null,
      "metadata": {
        "id": "XKNmzd0NjmxT"
      },
      "outputs": [],
      "source": [
        "import glob\n",
        "\n",
        "# Load dataset using glob\n",
        "flac_files = glob.glob(\"/content/LibriSpeech/test-clean/**/*.flac\", recursive=True)\n",
        "files_subset = flac_files[:40]"
      ]
    },
    {
      "cell_type": "code",
      "execution_count": null,
      "metadata": {
        "colab": {
          "base_uri": "https://localhost:8080/"
        },
        "id": "n80lv4TDg57R",
        "outputId": "b45d5f12-70b3-4097-9ebf-855d362edec2"
      },
      "outputs": [
        {
          "output_type": "stream",
          "name": "stderr",
          "text": [
            "Special tokens have been added in the vocabulary, make sure the associated word embeddings are fine-tuned or trained.\n",
            "Some weights of WavLMModel were not initialized from the model checkpoint at patrickvonplaten/wavlm-libri-clean-100h-base-plus and are newly initialized: ['wavlm.encoder.pos_conv_embed.conv.parametrizations.weight.original0', 'wavlm.encoder.pos_conv_embed.conv.parametrizations.weight.original1']\n",
            "You should probably TRAIN this model on a down-stream task to be able to use it for predictions and inference.\n"
          ]
        }
      ],
      "source": [
        "from transformers import AutoProcessor, WavLMModel\n",
        "import torch\n",
        "\n",
        "# Load pre-trained processor and model\n",
        "processor = AutoProcessor.from_pretrained(\"patrickvonplaten/wavlm-libri-clean-100h-base-plus\")\n",
        "model = WavLMModel.from_pretrained(\"patrickvonplaten/wavlm-libri-clean-100h-base-plus\")"
      ]
    },
    {
      "cell_type": "code",
      "execution_count": null,
      "metadata": {
        "id": "QS2A4wO1jqZ2"
      },
      "outputs": [],
      "source": [
        "# Function to get hidden states\n",
        "def get_hidden_states(audio_file_path):\n",
        "    # Read audio file\n",
        "    speech = read_audio(audio_file_path)  # Assuming you have a function to read audio files\n",
        "    # Process input using processor\n",
        "    inputs = processor(speech, sampling_rate=16000, return_tensors=\"pt\")\n",
        "    # Forward pass through the model\n",
        "    with torch.no_grad():\n",
        "        outputs = model(**inputs)\n",
        "    # Get last hidden states\n",
        "    last_hidden_states = outputs.last_hidden_state\n",
        "    return last_hidden_states"
      ]
    },
    {
      "cell_type": "code",
      "execution_count": null,
      "metadata": {
        "colab": {
          "base_uri": "https://localhost:8080/"
        },
        "id": "zD9qQFf6lAVn",
        "outputId": "cc889ed1-44e6-4463-e161-d068a4b2b4ed"
      },
      "outputs": [
        {
          "output_type": "stream",
          "name": "stdout",
          "text": [
            "2D Output:\n",
            "[[ 0.21160552 -0.36747366  0.2591602  ...  0.3991834  -0.11817186\n",
            "  -0.64794457]\n",
            " [ 0.19422345 -0.33622998  0.20106186 ...  0.3921625  -0.10909397\n",
            "  -0.4404112 ]\n",
            " [ 0.19320723 -0.37407845  0.2569126  ...  0.3850337  -0.11940678\n",
            "  -0.649481  ]\n",
            " ...\n",
            " [ 0.29545727 -0.29760972  0.20333748 ...  0.42432004 -0.0532552\n",
            "  -0.6705804 ]\n",
            " [ 0.2995834  -0.2862816   0.20226032 ...  0.43538797 -0.03722861\n",
            "  -0.71321124]\n",
            " [ 0.29365996 -0.29113418  0.20840597 ...  0.4357684  -0.02600184\n",
            "  -0.7974921 ]]\n"
          ]
        }
      ],
      "source": [
        "import numpy as np\n",
        "\n",
        "# Initialize an empty list to store all flattened arrays\n",
        "all_flattened_arrays = []\n",
        "\n",
        "# Iterate over each file path\n",
        "for file_path in files_subset:\n",
        "    #print(\"File:\", file_path)\n",
        "    hidden_states = get_hidden_states(file_path)\n",
        "    hidden_states_np = hidden_states.detach().cpu().numpy()  # Convert to NumPy array\n",
        "    #print(hidden_states_np.shape)\n",
        "    #print(hidden_states_np)\n",
        "\n",
        "    # Flatten the 3D array to make it 2D\n",
        "    flattened_array = hidden_states_np.reshape(-1, hidden_states_np.shape[-1])\n",
        "\n",
        "    # Append the flattened array to the list\n",
        "    all_flattened_arrays.append(flattened_array)\n",
        "\n",
        "# Convert the list of flattened arrays into a 2D NumPy array\n",
        "all_flattened_arrays_stacked = np.vstack(all_flattened_arrays)\n",
        "\n",
        "# Now 'all_flattened_arrays_stacked' is a 2D NumPy array containing all flattened arrays\n",
        "# Print the 2D output\n",
        "print(\"2D Output:\")\n",
        "print(all_flattened_arrays_stacked)"
      ]
    },
    {
      "cell_type": "code",
      "execution_count": null,
      "metadata": {
        "colab": {
          "base_uri": "https://localhost:8080/"
        },
        "id": "umaGwH_alMMa",
        "outputId": "8413cca0-4d5f-4b1c-b1a2-0148fef97b90"
      },
      "outputs": [
        {
          "output_type": "stream",
          "name": "stdout",
          "text": [
            "(16340, 768)\n"
          ]
        }
      ],
      "source": [
        "print(all_flattened_arrays_stacked.shape)"
      ]
    },
    {
      "cell_type": "code",
      "execution_count": null,
      "metadata": {
        "id": "eqBi0NdxlkY7"
      },
      "outputs": [],
      "source": [
        "from sklearn.cluster import KMeans"
      ]
    },
    {
      "cell_type": "code",
      "execution_count": null,
      "metadata": {
        "colab": {
          "base_uri": "https://localhost:8080/"
        },
        "id": "aUFnT2JQlR7R",
        "outputId": "4b86e7a7-f284-4eb1-ff54-1f30d5a38fd4"
      },
      "outputs": [
        {
          "output_type": "stream",
          "name": "stdout",
          "text": [
            "Cluster Centroids:\n",
            "[[ 0.21127245 -0.0455268  -0.06991363 ... -0.08187881 -0.09550318\n",
            "  -0.892311  ]\n",
            " [ 0.23658565 -0.37759066  0.23056588 ...  0.39844608 -0.12076151\n",
            "  -0.3566254 ]\n",
            " [ 0.28506923 -0.02195954  0.14926395 ... -0.03776896 -0.12490071\n",
            "  -0.05496407]\n",
            " ...\n",
            " [ 0.21568468 -0.11676767  0.19417864 ...  0.11633828 -0.10565186\n",
            "   0.24380258]\n",
            " [ 0.05629434 -0.5145386   0.1717377  ...  0.3568815  -0.00949694\n",
            "   0.02305865]\n",
            " [ 0.21603067 -0.39209893  0.26516452 ...  0.32841694 -0.13919258\n",
            "  -0.32482284]]\n"
          ]
        }
      ],
      "source": [
        "# Convert the list of flattened arrays into a 2D NumPy array\n",
        "#all_flattened_arrays_stacked = np.vstack(all_flattened_arrays)\n",
        "\n",
        "# Apply k-means clustering\n",
        "kmeans = KMeans(n_clusters=1024)\n",
        "kmeans.fit(all_flattened_arrays_stacked)\n",
        "\n",
        "# Get the cluster centroids\n",
        "cluster_centroids = kmeans.cluster_centers_\n",
        "\n",
        "np.save('cluster_centroids.npy', cluster_centroids)\n",
        "# Print the cluster centroids\n",
        "print(\"Cluster Centroids:\")\n",
        "print(cluster_centroids)"
      ]
    },
    {
      "cell_type": "code",
      "execution_count": null,
      "metadata": {
        "colab": {
          "base_uri": "https://localhost:8080/"
        },
        "id": "zXTtsA0vlVfE",
        "outputId": "b1f8eac2-ea92-440e-daad-8efbfd68be44"
      },
      "outputs": [
        {
          "output_type": "stream",
          "name": "stdout",
          "text": [
            "(1024, 768)\n"
          ]
        }
      ],
      "source": [
        "print(cluster_centroids.shape)"
      ]
    },
    {
      "cell_type": "markdown",
      "metadata": {
        "id": "oUluRNlUmSUj"
      },
      "source": [
        "## Functions to assign cluster indices"
      ]
    },
    {
      "cell_type": "code",
      "execution_count": null,
      "metadata": {
        "id": "7HVqjL34mXMA"
      },
      "outputs": [],
      "source": [
        "def get_hidden_states_clean(audio_file_path):\n",
        "    speech = read_audio(audio_file_path)\n",
        "    input_values = processor(speech, sampling_rate=16000, return_tensors=\"pt\").input_values  # Batch size 1\n",
        "    hidden_states = model(input_values).last_hidden_state\n",
        "    return hidden_states"
      ]
    },
    {
      "cell_type": "code",
      "execution_count": null,
      "metadata": {
        "id": "Ve-vM048misA"
      },
      "outputs": [],
      "source": [
        "def get_hidden_states_noisy(noisy_audio):\n",
        "    input_values = processor(noisy_audio, sampling_rate=16000, return_tensors=\"pt\").input_values  # Batch size 1\n",
        "    hidden_states = model(input_values).last_hidden_state\n",
        "    return hidden_states"
      ]
    },
    {
      "cell_type": "code",
      "execution_count": null,
      "metadata": {
        "id": "80Oe4vz4mlI_"
      },
      "outputs": [],
      "source": [
        "import numpy as np\n",
        "\n",
        "def compare_clean_noisy_files(file_paths, kmeans_model, noise_data, snr, offset_ms):\n",
        "    # Initialize variables to store total states\n",
        "    total_original_states = 0\n",
        "    total_noise_states = 0\n",
        "    total_diff_states = 0\n",
        "\n",
        "    # Iterate over each file path\n",
        "    for file_path in file_paths:\n",
        "        # Assign clean files to clusters\n",
        "        clean_cluster_indices = assign_clean_files_to_clusters(file_path, kmeans_model)\n",
        "\n",
        "        # Assign noisy files to clusters\n",
        "        noisy_cluster_indices = assign_noisy_files_to_clusters(file_path, kmeans_model, noise_data, snr, offset_ms)\n",
        "\n",
        "        # Compare cluster indices between clean and noisy files\n",
        "        num_original_states, num_noise_states, num_diff_states = compare_cluster_indices(clean_cluster_indices, noisy_cluster_indices)\n",
        "\n",
        "        # Add to total states\n",
        "        total_original_states += num_original_states\n",
        "        total_noise_states += num_noise_states\n",
        "        total_diff_states += num_diff_states\n",
        "\n",
        "    # Calculate total percentage changed\n",
        "    total_percentage_changed = (total_diff_states / total_original_states) * 100\n",
        "\n",
        "    return total_original_states, total_noise_states, total_diff_states, total_percentage_changed"
      ]
    },
    {
      "cell_type": "code",
      "execution_count": null,
      "metadata": {
        "id": "WLbH5-Bqmnuh"
      },
      "outputs": [],
      "source": [
        "import os\n",
        "import torch\n",
        "import torchaudio\n",
        "import torch.nn.functional as F\n",
        "import numpy as np\n",
        "from sklearn.cluster import KMeans\n",
        "import numpy as np\n",
        "def assign_noisy_files_to_clusters(file_path, kmeans_model, noise_data, snr, offset_ms):\n",
        "    # Read audio data\n",
        "    file_path_data = read_audio(file_path)\n",
        "    # Add noise to audio data\n",
        "    noisy_audio = add_noise(file_path_data, noise_data, snr)\n",
        "    # Add time offset to the noisy audio\n",
        "    if offset_ms != 0:\n",
        "        sample_rate = 16000  # Assuming 16kHz sample rate, adjust according to your case\n",
        "        offset_samples = int(sample_rate * offset_ms / 1000)\n",
        "        noisy_audio = F.pad(noisy_audio, (offset_samples, 0))[:-offset_samples]\n",
        "    # Get hidden states from noisy audio\n",
        "    hidden_states_new = get_hidden_states_noisy(noisy_audio)\n",
        "    # Convert hidden states to NumPy array\n",
        "    hidden_states_np_new = hidden_states_new.detach().cpu().numpy()\n",
        "    # Flatten the 3D array to make it 2D\n",
        "    flattened_array_new = hidden_states_np_new.reshape(-1, hidden_states_np_new.shape[-1])\n",
        "    # Assign the units to clusters using the trained KMeans model\n",
        "    cluster_indices_new_noisy = kmeans_model.predict(flattened_array_new)\n",
        "\n",
        "    return cluster_indices_new_noisy\n",
        "\n",
        "def assign_clean_files_to_clusters(file_path, kmeans_model):\n",
        "    # Get hidden states from clean audio\n",
        "    hidden_states_new = get_hidden_states_clean(file_path)\n",
        "    # Convert hidden states to NumPy array\n",
        "    hidden_states_np_new = hidden_states_new.detach().cpu().numpy()\n",
        "    # Flatten the 3D array to make it 2D\n",
        "    flattened_array_new = hidden_states_np_new.reshape(-1, hidden_states_np_new.shape[-1])\n",
        "    # Assign the units to clusters using the trained KMeans model\n",
        "    cluster_indices_new_clean = kmeans_model.predict(flattened_array_new)\n",
        "\n",
        "    return cluster_indices_new_clean\n",
        "\n",
        "def compare_cluster_indices(cluster_indices_run1, cluster_indices_run2):\n",
        "    # Calculate number of original and noise states\n",
        "    num_original_states = len(cluster_indices_run1)\n",
        "    num_noise_states = len(cluster_indices_run2)\n",
        "    # Calculate number of different states\n",
        "    num_diff_states = np.sum(np.array(cluster_indices_run1) != np.array(cluster_indices_run2))\n",
        "    # Calculate percentage of changed states\n",
        "    #percentage_changed_states = (num_diff_states / num_original_states) * 100\n",
        "\n",
        "    return num_original_states, num_noise_states, num_diff_states"
      ]
    },
    {
      "cell_type": "code",
      "execution_count": null,
      "metadata": {
        "colab": {
          "base_uri": "https://localhost:8080/"
        },
        "id": "Npt6KlU4mr6o",
        "outputId": "04dc1775-fe06-406c-9c88-8f8b91e7976e"
      },
      "outputs": [
        {
          "name": "stdout",
          "output_type": "stream",
          "text": [
            "Number of Original States: 41606\n",
            "Number of Noise States (2nd run): 41606\n",
            "Number of Different States: 40524\n",
            "Percentage of Changed States: 97.39941354612316\n"
          ]
        }
      ],
      "source": [
        "new_files_subset = flac_files[:100]\n",
        "noise = '/content/Babble.wav'\n",
        "noise_data = read_audio(noise)\n",
        "snr = 0\n",
        "offset_ms = 10\n",
        "num_original_states, num_noise_states, num_diff_states, percentage_changed_states = compare_clean_noisy_files(new_files_subset, kmeans, noise_data, snr, offset_ms)\n",
        "\n",
        "print(\"Number of Original States:\", num_original_states)\n",
        "print(\"Number of Noise States (2nd run):\", num_noise_states)\n",
        "print(\"Number of Different States:\", num_diff_states)\n",
        "print(\"Percentage of Changed States:\", percentage_changed_states)"
      ]
    },
    {
      "cell_type": "code",
      "execution_count": null,
      "metadata": {
        "colab": {
          "base_uri": "https://localhost:8080/"
        },
        "id": "W9BkavVlm0Qg",
        "outputId": "6d6a74c4-582e-42f1-c7a1-1ccb4bc2a880"
      },
      "outputs": [
        {
          "name": "stdout",
          "output_type": "stream",
          "text": [
            "Number of Original States: 34266\n",
            "Number of Noise States (2nd run): 34266\n",
            "Number of Different States: 32456\n",
            "Percentage of Changed States: 94.71779606607133\n"
          ]
        }
      ],
      "source": [
        "new_files_subset = flac_files[100:200]\n",
        "noise = '/content/Babble.wav'\n",
        "noise_data = read_audio(noise)\n",
        "snr = 0\n",
        "offset_ms = 10\n",
        "num_original_states, num_noise_states, num_diff_states, percentage_changed_states = compare_clean_noisy_files(new_files_subset, kmeans, noise_data, snr, offset_ms)\n",
        "\n",
        "print(\"Number of Original States:\", num_original_states)\n",
        "print(\"Number of Noise States (2nd run):\", num_noise_states)\n",
        "print(\"Number of Different States:\", num_diff_states)\n",
        "print(\"Percentage of Changed States:\", percentage_changed_states)"
      ]
    },
    {
      "cell_type": "code",
      "execution_count": null,
      "metadata": {
        "colab": {
          "base_uri": "https://localhost:8080/"
        },
        "id": "vcMqjIhwnDJR",
        "outputId": "07880faf-0428-4eb5-9462-e15ce2e35794"
      },
      "outputs": [
        {
          "name": "stdout",
          "output_type": "stream",
          "text": [
            "Number of Original States: 43385\n",
            "Number of Noise States (2nd run): 43385\n",
            "Number of Different States: 42475\n",
            "Percentage of Changed States: 97.90250086435404\n"
          ]
        }
      ],
      "source": [
        "new_files_subset = flac_files[200:300]\n",
        "noise = '/content/Babble.wav'\n",
        "noise_data = read_audio(noise)\n",
        "snr = 0\n",
        "offset_ms = 10\n",
        "num_original_states, num_noise_states, num_diff_states, percentage_changed_states = compare_clean_noisy_files(new_files_subset, kmeans, noise_data, snr, offset_ms)\n",
        "\n",
        "print(\"Number of Original States:\", num_original_states)\n",
        "print(\"Number of Noise States (2nd run):\", num_noise_states)\n",
        "print(\"Number of Different States:\", num_diff_states)\n",
        "print(\"Percentage of Changed States:\", percentage_changed_states)"
      ]
    },
    {
      "cell_type": "code",
      "execution_count": null,
      "metadata": {
        "colab": {
          "base_uri": "https://localhost:8080/"
        },
        "id": "Gt8sHd9TnqyF",
        "outputId": "eadeb4f8-0e1a-4ff6-e2c1-bed50d4a3394"
      },
      "outputs": [
        {
          "name": "stdout",
          "output_type": "stream",
          "text": [
            "Number of Original States: 40902\n",
            "Number of Noise States (2nd run): 40902\n",
            "Number of Different States: 39829\n",
            "Percentage of Changed States: 97.37665639822013\n"
          ]
        }
      ],
      "source": [
        "new_files_subset = flac_files[300:400]\n",
        "noise = '/content/Babble.wav'\n",
        "noise_data = read_audio(noise)\n",
        "snr = 0\n",
        "offset_ms = 10\n",
        "num_original_states, num_noise_states, num_diff_states, percentage_changed_states = compare_clean_noisy_files(new_files_subset, kmeans, noise_data, snr, offset_ms)\n",
        "\n",
        "print(\"Number of Original States:\", num_original_states)\n",
        "print(\"Number of Noise States (2nd run):\", num_noise_states)\n",
        "print(\"Number of Different States:\", num_diff_states)\n",
        "print(\"Percentage of Changed States:\", percentage_changed_states)"
      ]
    },
    {
      "cell_type": "code",
      "execution_count": null,
      "metadata": {
        "colab": {
          "base_uri": "https://localhost:8080/"
        },
        "id": "1muGGprBntKD",
        "outputId": "a1700529-3a20-4e3b-d663-53e1e9799182"
      },
      "outputs": [
        {
          "name": "stdout",
          "output_type": "stream",
          "text": [
            "Number of Original States: 34886\n",
            "Number of Noise States (2nd run): 34886\n",
            "Number of Different States: 33879\n",
            "Percentage of Changed States: 97.11345525425672\n"
          ]
        }
      ],
      "source": [
        "new_files_subset = flac_files[400:500]\n",
        "noise = '/content/Babble.wav'\n",
        "noise_data = read_audio(noise)\n",
        "snr = 0\n",
        "offset_ms = 10\n",
        "num_original_states, num_noise_states, num_diff_states, percentage_changed_states = compare_clean_noisy_files(new_files_subset, kmeans, noise_data, snr, offset_ms)\n",
        "\n",
        "print(\"Number of Original States:\", num_original_states)\n",
        "print(\"Number of Noise States (2nd run):\", num_noise_states)\n",
        "print(\"Number of Different States:\", num_diff_states)\n",
        "print(\"Percentage of Changed States:\", percentage_changed_states)"
      ]
    },
    {
      "cell_type": "code",
      "execution_count": null,
      "metadata": {
        "colab": {
          "base_uri": "https://localhost:8080/"
        },
        "id": "qNgDv_j8nwZ_",
        "outputId": "acbe6c93-e99a-4048-c0a0-d3e61ba77dbb"
      },
      "outputs": [
        {
          "name": "stdout",
          "output_type": "stream",
          "text": [
            "Number of Original States: 24495\n",
            "Number of Noise States (2nd run): 24495\n",
            "Number of Different States: 23186\n",
            "Percentage of Changed States: 94.65605225556236\n"
          ]
        }
      ],
      "source": [
        "new_files_subset = flac_files[500:600]\n",
        "noise = '/content/Babble.wav'\n",
        "noise_data = read_audio(noise)\n",
        "snr = 0\n",
        "offset_ms = 10\n",
        "num_original_states, num_noise_states, num_diff_states, percentage_changed_states = compare_clean_noisy_files(new_files_subset, kmeans, noise_data, snr, offset_ms)\n",
        "\n",
        "print(\"Number of Original States:\", num_original_states)\n",
        "print(\"Number of Noise States (2nd run):\", num_noise_states)\n",
        "print(\"Number of Different States:\", num_diff_states)\n",
        "print(\"Percentage of Changed States:\", percentage_changed_states)"
      ]
    },
    {
      "cell_type": "code",
      "execution_count": null,
      "metadata": {
        "colab": {
          "base_uri": "https://localhost:8080/"
        },
        "id": "EvnBW5jNnyby",
        "outputId": "3ec75c1b-e0be-4c55-a8d5-5741353bd15e"
      },
      "outputs": [
        {
          "name": "stdout",
          "output_type": "stream",
          "text": [
            "Number of Original States: 37885\n",
            "Number of Noise States (2nd run): 37885\n",
            "Number of Different States: 36421\n",
            "Percentage of Changed States: 96.13567374950507\n"
          ]
        }
      ],
      "source": [
        "new_files_subset = flac_files[600:700]\n",
        "noise = '/content/Babble.wav'\n",
        "noise_data = read_audio(noise)\n",
        "snr = 0\n",
        "offset_ms = 10\n",
        "num_original_states, num_noise_states, num_diff_states, percentage_changed_states = compare_clean_noisy_files(new_files_subset, kmeans, noise_data, snr, offset_ms)\n",
        "\n",
        "print(\"Number of Original States:\", num_original_states)\n",
        "print(\"Number of Noise States (2nd run):\", num_noise_states)\n",
        "print(\"Number of Different States:\", num_diff_states)\n",
        "print(\"Percentage of Changed States:\", percentage_changed_states)"
      ]
    },
    {
      "cell_type": "code",
      "execution_count": null,
      "metadata": {
        "colab": {
          "base_uri": "https://localhost:8080/"
        },
        "id": "_Vm8r7Bin0cm",
        "outputId": "bf393e01-707b-4a0a-f6de-01a7a0d3076f"
      },
      "outputs": [
        {
          "name": "stdout",
          "output_type": "stream",
          "text": [
            "Number of Original States: 40294\n",
            "Number of Noise States (2nd run): 40294\n",
            "Number of Different States: 38183\n",
            "Percentage of Changed States: 94.76100660147912\n"
          ]
        }
      ],
      "source": [
        "new_files_subset = flac_files[700:800]\n",
        "noise = '/content/Babble.wav'\n",
        "noise_data = read_audio(noise)\n",
        "snr = 0\n",
        "offset_ms = 10\n",
        "num_original_states, num_noise_states, num_diff_states, percentage_changed_states = compare_clean_noisy_files(new_files_subset, kmeans, noise_data, snr, offset_ms)\n",
        "\n",
        "print(\"Number of Original States:\", num_original_states)\n",
        "print(\"Number of Noise States (2nd run):\", num_noise_states)\n",
        "print(\"Number of Different States:\", num_diff_states)\n",
        "print(\"Percentage of Changed States:\", percentage_changed_states)"
      ]
    },
    {
      "cell_type": "code",
      "execution_count": null,
      "metadata": {
        "colab": {
          "background_save": true
        },
        "id": "cB-WmuJwn2jm",
        "outputId": "4011662a-271f-4933-e125-92d26654dc82"
      },
      "outputs": [
        {
          "name": "stdout",
          "output_type": "stream",
          "text": [
            "Number of Original States: 40510\n",
            "Number of Noise States (2nd run): 40510\n",
            "Number of Different States: 38857\n",
            "Percentage of Changed States: 95.91952604295236\n"
          ]
        }
      ],
      "source": [
        "new_files_subset = flac_files[800:900]\n",
        "noise = '/content/Babble.wav'\n",
        "noise_data = read_audio(noise)\n",
        "snr = 0\n",
        "offset_ms = 10\n",
        "num_original_states, num_noise_states, num_diff_states, percentage_changed_states = compare_clean_noisy_files(new_files_subset, kmeans, noise_data, snr, offset_ms)\n",
        "\n",
        "print(\"Number of Original States:\", num_original_states)\n",
        "print(\"Number of Noise States (2nd run):\", num_noise_states)\n",
        "print(\"Number of Different States:\", num_diff_states)\n",
        "print(\"Percentage of Changed States:\", percentage_changed_states)"
      ]
    },
    {
      "cell_type": "code",
      "execution_count": null,
      "metadata": {
        "colab": {
          "base_uri": "https://localhost:8080/"
        },
        "id": "rmso4_I_n4Vl",
        "outputId": "c06f19c2-c090-42d5-c817-fa950d2a3a1e"
      },
      "outputs": [
        {
          "name": "stdout",
          "output_type": "stream",
          "text": [
            "Number of Original States: 39631\n",
            "Number of Noise States (2nd run): 39631\n",
            "Number of Different States: 38641\n",
            "Percentage of Changed States: 97.50195553985517\n"
          ]
        }
      ],
      "source": [
        "new_files_subset = flac_files[900:1000]\n",
        "noise = '/content/Babble.wav'\n",
        "noise_data = read_audio(noise)\n",
        "snr = 0\n",
        "offset_ms = 10\n",
        "num_original_states, num_noise_states, num_diff_states, percentage_changed_states = compare_clean_noisy_files(new_files_subset, kmeans, noise_data, snr, offset_ms)\n",
        "\n",
        "print(\"Number of Original States:\", num_original_states)\n",
        "print(\"Number of Noise States (2nd run):\", num_noise_states)\n",
        "print(\"Number of Different States:\", num_diff_states)\n",
        "print(\"Percentage of Changed States:\", percentage_changed_states)"
      ]
    },
    {
      "cell_type": "code",
      "execution_count": null,
      "metadata": {
        "colab": {
          "base_uri": "https://localhost:8080/"
        },
        "id": "s5TJTCIln66j",
        "outputId": "4181d7e6-788b-4cd9-83eb-e4d1434ff799"
      },
      "outputs": [
        {
          "name": "stdout",
          "output_type": "stream",
          "text": [
            "Number of Original States: 111015\n",
            "Number of Noise States (2nd run): 111015\n",
            "Number of Different States: 96565\n",
            "Percentage of Changed States: 86.98374093590957\n"
          ]
        }
      ],
      "source": [
        "new_files_subset = flac_files[:250]\n",
        "noise = '/content/Babble.wav'\n",
        "noise_data = read_audio(noise)\n",
        "snr = 5\n",
        "offset_ms = 10\n",
        "num_original_states, num_noise_states, num_diff_states, percentage_changed_states = compare_clean_noisy_files(new_files_subset, kmeans, noise_data, snr, offset_ms)\n",
        "\n",
        "print(\"Number of Original States:\", num_original_states)\n",
        "print(\"Number of Noise States (2nd run):\", num_noise_states)\n",
        "print(\"Number of Different States:\", num_diff_states)\n",
        "print(\"Percentage of Changed States:\", percentage_changed_states)"
      ]
    },
    {
      "cell_type": "code",
      "execution_count": null,
      "metadata": {
        "colab": {
          "base_uri": "https://localhost:8080/"
        },
        "id": "gOlfEJFsr3GM",
        "outputId": "04b84891-39d3-4534-e96c-9599b74e8faa"
      },
      "outputs": [
        {
          "name": "stdout",
          "output_type": "stream",
          "text": [
            "Number of Original States: 100286\n",
            "Number of Noise States (2nd run): 100286\n",
            "Number of Different States: 89017\n",
            "Percentage of Changed States: 88.76313742695889\n"
          ]
        }
      ],
      "source": [
        "new_files_subset = flac_files[250:500]\n",
        "noise = '/content/Babble.wav'\n",
        "noise_data = read_audio(noise)\n",
        "snr = 5\n",
        "offset_ms = 10\n",
        "num_original_states, num_noise_states, num_diff_states, percentage_changed_states = compare_clean_noisy_files(new_files_subset, kmeans, noise_data, snr, offset_ms)\n",
        "\n",
        "print(\"Number of Original States:\", num_original_states)\n",
        "print(\"Number of Noise States (2nd run):\", num_noise_states)\n",
        "print(\"Number of Different States:\", num_diff_states)\n",
        "print(\"Percentage of Changed States:\", percentage_changed_states)"
      ]
    },
    {
      "cell_type": "code",
      "execution_count": null,
      "metadata": {
        "colab": {
          "base_uri": "https://localhost:8080/"
        },
        "id": "EJVssNsHr4T8",
        "outputId": "24510d55-43f9-4802-ebe4-e131ed0e2097"
      },
      "outputs": [
        {
          "name": "stdout",
          "output_type": "stream",
          "text": [
            "Number of Original States: 94282\n",
            "Number of Noise States (2nd run): 94282\n",
            "Number of Different States: 80175\n",
            "Percentage of Changed States: 85.03744086888273\n"
          ]
        }
      ],
      "source": [
        "new_files_subset = flac_files[500:750]\n",
        "noise = '/content/Babble.wav'\n",
        "noise_data = read_audio(noise)\n",
        "snr = 5\n",
        "offset_ms = 10\n",
        "num_original_states, num_noise_states, num_diff_states, percentage_changed_states = compare_clean_noisy_files(new_files_subset, kmeans, noise_data, snr, offset_ms)\n",
        "\n",
        "print(\"Number of Original States:\", num_original_states)\n",
        "print(\"Number of Noise States (2nd run):\", num_noise_states)\n",
        "print(\"Number of Different States:\", num_diff_states)\n",
        "print(\"Percentage of Changed States:\", percentage_changed_states)"
      ]
    },
    {
      "cell_type": "code",
      "execution_count": null,
      "metadata": {
        "colab": {
          "base_uri": "https://localhost:8080/"
        },
        "id": "Voc9w3nGr8Yk",
        "outputId": "f1b68323-30cf-4bf3-bf7a-f8bb73ee45da"
      },
      "outputs": [
        {
          "name": "stdout",
          "output_type": "stream",
          "text": [
            "Number of Original States: 88324\n",
            "Number of Noise States (2nd run): 88324\n",
            "Number of Different States: 75820\n",
            "Percentage of Changed States: 85.84303247135546\n"
          ]
        }
      ],
      "source": [
        "new_files_subset = flac_files[750:1000]\n",
        "noise = '/content/Babble.wav'\n",
        "noise_data = read_audio(noise)\n",
        "snr = 5\n",
        "offset_ms = 10\n",
        "num_original_states, num_noise_states, num_diff_states, percentage_changed_states = compare_clean_noisy_files(new_files_subset, kmeans, noise_data, snr, offset_ms)\n",
        "\n",
        "print(\"Number of Original States:\", num_original_states)\n",
        "print(\"Number of Noise States (2nd run):\", num_noise_states)\n",
        "print(\"Number of Different States:\", num_diff_states)\n",
        "print(\"Percentage of Changed States:\", percentage_changed_states)"
      ]
    },
    {
      "cell_type": "code",
      "execution_count": null,
      "metadata": {
        "colab": {
          "base_uri": "https://localhost:8080/"
        },
        "id": "lvRRt95HsA5b",
        "outputId": "973cb6d9-9ea0-47c2-fa64-8fcc2e5066ee"
      },
      "outputs": [
        {
          "name": "stdout",
          "output_type": "stream",
          "text": [
            "Number of Original States: 111015\n",
            "Number of Noise States (2nd run): 111015\n",
            "Number of Different States: 86005\n",
            "Percentage of Changed States: 77.4715128586227\n"
          ]
        }
      ],
      "source": [
        "new_files_subset = flac_files[:250]\n",
        "noise = '/content/Babble.wav'\n",
        "noise_data = read_audio(noise)\n",
        "snr = 10\n",
        "offset_ms = 10\n",
        "num_original_states, num_noise_states, num_diff_states, percentage_changed_states = compare_clean_noisy_files(new_files_subset, kmeans, noise_data, snr, offset_ms)\n",
        "\n",
        "print(\"Number of Original States:\", num_original_states)\n",
        "print(\"Number of Noise States (2nd run):\", num_noise_states)\n",
        "print(\"Number of Different States:\", num_diff_states)\n",
        "print(\"Percentage of Changed States:\", percentage_changed_states)"
      ]
    },
    {
      "cell_type": "code",
      "execution_count": null,
      "metadata": {
        "colab": {
          "base_uri": "https://localhost:8080/"
        },
        "id": "KAf2OtD1sFtM",
        "outputId": "b33199c6-73f5-45d9-e42e-e6b629b3f849"
      },
      "outputs": [
        {
          "name": "stdout",
          "output_type": "stream",
          "text": [
            "Number of Original States: 100286\n",
            "Number of Noise States (2nd run): 100286\n",
            "Number of Different States: 77681\n",
            "Percentage of Changed States: 77.4594659274475\n"
          ]
        }
      ],
      "source": [
        "new_files_subset = flac_files[250:500]\n",
        "noise = '/content/Babble.wav'\n",
        "noise_data = read_audio(noise)\n",
        "snr = 10\n",
        "offset_ms = 10\n",
        "num_original_states, num_noise_states, num_diff_states, percentage_changed_states = compare_clean_noisy_files(new_files_subset, kmeans, noise_data, snr, offset_ms)\n",
        "\n",
        "print(\"Number of Original States:\", num_original_states)\n",
        "print(\"Number of Noise States (2nd run):\", num_noise_states)\n",
        "print(\"Number of Different States:\", num_diff_states)\n",
        "print(\"Percentage of Changed States:\", percentage_changed_states)"
      ]
    },
    {
      "cell_type": "code",
      "execution_count": null,
      "metadata": {
        "colab": {
          "base_uri": "https://localhost:8080/"
        },
        "id": "d6k87-rXsHny",
        "outputId": "19ad08d0-aacb-421d-c355-31b36b870cb2"
      },
      "outputs": [
        {
          "name": "stdout",
          "output_type": "stream",
          "text": [
            "Number of Original States: 94282\n",
            "Number of Noise States (2nd run): 94282\n",
            "Number of Different States: 71667\n",
            "Percentage of Changed States: 76.01344901465815\n"
          ]
        }
      ],
      "source": [
        "new_files_subset = flac_files[500:750]\n",
        "noise = '/content/Babble.wav'\n",
        "noise_data = read_audio(noise)\n",
        "snr = 10\n",
        "offset_ms = 10\n",
        "num_original_states, num_noise_states, num_diff_states, percentage_changed_states = compare_clean_noisy_files(new_files_subset, kmeans, noise_data, snr, offset_ms)\n",
        "\n",
        "print(\"Number of Original States:\", num_original_states)\n",
        "print(\"Number of Noise States (2nd run):\", num_noise_states)\n",
        "print(\"Number of Different States:\", num_diff_states)\n",
        "print(\"Percentage of Changed States:\", percentage_changed_states)"
      ]
    },
    {
      "cell_type": "code",
      "execution_count": null,
      "metadata": {
        "colab": {
          "base_uri": "https://localhost:8080/"
        },
        "id": "AkF50g75sO4M",
        "outputId": "6e1867fd-42bf-4688-f832-528aafcada7f"
      },
      "outputs": [
        {
          "name": "stdout",
          "output_type": "stream",
          "text": [
            "Number of Original States: 88324\n",
            "Number of Noise States (2nd run): 88324\n",
            "Number of Different States: 68919\n",
            "Percentage of Changed States: 78.02975408722432\n"
          ]
        }
      ],
      "source": [
        "new_files_subset = flac_files[750:1000]\n",
        "noise = '/content/Babble.wav'\n",
        "noise_data = read_audio(noise)\n",
        "snr = 10\n",
        "offset_ms = 10\n",
        "num_original_states, num_noise_states, num_diff_states, percentage_changed_states = compare_clean_noisy_files(new_files_subset, kmeans, noise_data, snr, offset_ms)\n",
        "\n",
        "print(\"Number of Original States:\", num_original_states)\n",
        "print(\"Number of Noise States (2nd run):\", num_noise_states)\n",
        "print(\"Number of Different States:\", num_diff_states)\n",
        "print(\"Percentage of Changed States:\", percentage_changed_states)"
      ]
    },
    {
      "cell_type": "code",
      "execution_count": null,
      "metadata": {
        "colab": {
          "base_uri": "https://localhost:8080/"
        },
        "id": "GOShODR9IDYw",
        "outputId": "b76037c1-8f20-4a30-c0a2-d6ad2bcc1032"
      },
      "outputs": [
        {
          "name": "stdout",
          "output_type": "stream",
          "text": [
            "Number of Original States: 182606\n",
            "Number of Noise States (2nd run): 182606\n",
            "Number of Different States: 133853\n",
            "Percentage of Changed States: 73.30153445122285\n"
          ]
        }
      ],
      "source": [
        "new_files_subset = flac_files[500:750]\n",
        "noise = '/content/Babble.wav'\n",
        "noise_data = read_audio(noise)\n",
        "snr = 15\n",
        "offset_ms = 10\n",
        "num_original_states, num_noise_states, num_diff_states, percentage_changed_states = compare_clean_noisy_files(new_files_subset, kmeans, noise_data, snr, offset_ms)\n",
        "\n",
        "print(\"Number of Original States:\", num_original_states)\n",
        "print(\"Number of Noise States (2nd run):\", num_noise_states)\n",
        "print(\"Number of Different States:\", num_diff_states)\n",
        "print(\"Percentage of Changed States:\", percentage_changed_states)"
      ]
    },
    {
      "cell_type": "code",
      "execution_count": null,
      "metadata": {
        "colab": {
          "background_save": true
        },
        "id": "di5SeMZ0IJ_2",
        "outputId": "9d9d961a-7c85-40c4-926c-762f3710b097"
      },
      "outputs": [
        {
          "name": "stdout",
          "output_type": "stream",
          "text": [
            "Number of Original States: 211301\n",
            "Number of Noise States (2nd run): 211301\n",
            "Number of Different States: 150098\n",
            "Percentage of Changed States: 71.03515837596603\n"
          ]
        }
      ],
      "source": [
        "new_files_subset = flac_files[:500]\n",
        "noise = '/content/Babble.wav'\n",
        "noise_data = read_audio(noise)\n",
        "snr = 20\n",
        "offset_ms = 10\n",
        "num_original_states, num_noise_states, num_diff_states, percentage_changed_states = compare_clean_noisy_files(new_files_subset, kmeans, noise_data, snr, offset_ms)\n",
        "\n",
        "print(\"Number of Original States:\", num_original_states)\n",
        "print(\"Number of Noise States (2nd run):\", num_noise_states)\n",
        "print(\"Number of Different States:\", num_diff_states)\n",
        "print(\"Percentage of Changed States:\", percentage_changed_states)"
      ]
    },
    {
      "cell_type": "code",
      "execution_count": null,
      "metadata": {
        "colab": {
          "background_save": true
        },
        "id": "on2Vlcs_ISlN",
        "outputId": "63f9e556-b194-4444-ec8a-17fd8cade73b"
      },
      "outputs": [
        {
          "name": "stdout",
          "output_type": "stream",
          "text": [
            "Number of Original States: 211301\n",
            "Number of Noise States (2nd run): 211301\n",
            "Number of Different States: 147658\n",
            "Percentage of Changed States: 69.88040757024339\n"
          ]
        }
      ],
      "source": [
        "new_files_subset = flac_files[:500]\n",
        "noise = '/content/Babble.wav'\n",
        "noise_data = read_audio(noise)\n",
        "snr = 25\n",
        "offset_ms = 10\n",
        "num_original_states, num_noise_states, num_diff_states, percentage_changed_states = compare_clean_noisy_files(new_files_subset, kmeans, noise_data, snr, offset_ms)\n",
        "\n",
        "print(\"Number of Original States:\", num_original_states)\n",
        "print(\"Number of Noise States (2nd run):\", num_noise_states)\n",
        "print(\"Number of Different States:\", num_diff_states)\n",
        "print(\"Percentage of Changed States:\", percentage_changed_states)"
      ]
    },
    {
      "cell_type": "code",
      "execution_count": null,
      "metadata": {
        "colab": {
          "background_save": true
        },
        "id": "leRJY0ULIc4I",
        "outputId": "00bdf0ac-93cd-424b-faa0-82e55046a9ac"
      },
      "outputs": [
        {
          "name": "stdout",
          "output_type": "stream",
          "text": [
            "Number of Original States: 211301\n",
            "Number of Noise States (2nd run): 211301\n",
            "Number of Different States: 196042\n",
            "Percentage of Changed States: 92.77854813749107\n"
          ]
        }
      ],
      "source": [
        "new_files_subset = flac_files[:500]\n",
        "noise = '/content/Cafeteria.wav'\n",
        "noise_data = read_audio(noise)\n",
        "snr = 0\n",
        "offset_ms = 10\n",
        "num_original_states, num_noise_states, num_diff_states, percentage_changed_states = compare_clean_noisy_files(new_files_subset, kmeans, noise_data, snr, offset_ms)\n",
        "\n",
        "print(\"Number of Original States:\", num_original_states)\n",
        "print(\"Number of Noise States (2nd run):\", num_noise_states)\n",
        "print(\"Number of Different States:\", num_diff_states)\n",
        "print(\"Percentage of Changed States:\", percentage_changed_states)"
      ]
    },
    {
      "cell_type": "code",
      "execution_count": null,
      "metadata": {
        "id": "JupoD2wlI6hl",
        "colab": {
          "base_uri": "https://localhost:8080/"
        },
        "outputId": "58595dc0-a79e-4d3d-e252-cd1128fcd70d"
      },
      "outputs": [
        {
          "output_type": "stream",
          "name": "stdout",
          "text": [
            "Number of Original States: 123727\n",
            "Number of Noise States (2nd run): 123727\n",
            "Number of Different States: 104754\n",
            "Percentage of Changed States: 84.6654327673022\n"
          ]
        }
      ],
      "source": [
        "new_files_subset = flac_files[:500]\n",
        "noise = '/content/Cafeteria.wav'\n",
        "noise_data = read_audio(noise)\n",
        "snr = 5\n",
        "offset_ms = 10\n",
        "num_original_states, num_noise_states, num_diff_states, percentage_changed_states = compare_clean_noisy_files(new_files_subset, kmeans, noise_data, snr, offset_ms)\n",
        "\n",
        "print(\"Number of Original States:\", num_original_states)\n",
        "print(\"Number of Noise States (2nd run):\", num_noise_states)\n",
        "print(\"Number of Different States:\", num_diff_states)\n",
        "print(\"Percentage of Changed States:\", percentage_changed_states)"
      ]
    },
    {
      "cell_type": "code",
      "execution_count": null,
      "metadata": {
        "id": "3o50RabeJGd0",
        "colab": {
          "base_uri": "https://localhost:8080/"
        },
        "outputId": "f140fde0-8066-4c6c-e1c3-06e9ae022cd4"
      },
      "outputs": [
        {
          "output_type": "stream",
          "name": "stdout",
          "text": [
            "Number of Original States: 123727\n",
            "Number of Noise States (2nd run): 123727\n",
            "Number of Different States: 94593\n",
            "Percentage of Changed States: 76.45299732475532\n"
          ]
        }
      ],
      "source": [
        "new_files_subset = flac_files[:500]\n",
        "noise = '/content/Cafeteria.wav'\n",
        "noise_data = read_audio(noise)\n",
        "snr = 10\n",
        "offset_ms = 10\n",
        "num_original_states, num_noise_states, num_diff_states, percentage_changed_states = compare_clean_noisy_files(new_files_subset, kmeans, noise_data, snr, offset_ms)\n",
        "\n",
        "print(\"Number of Original States:\", num_original_states)\n",
        "print(\"Number of Noise States (2nd run):\", num_noise_states)\n",
        "print(\"Number of Different States:\", num_diff_states)\n",
        "print(\"Percentage of Changed States:\", percentage_changed_states)"
      ]
    },
    {
      "cell_type": "code",
      "execution_count": null,
      "metadata": {
        "id": "vkQHDsFwJNiT",
        "colab": {
          "base_uri": "https://localhost:8080/"
        },
        "outputId": "2a6aa5d2-32c1-4f66-a370-b80ae45bac8e"
      },
      "outputs": [
        {
          "output_type": "stream",
          "name": "stdout",
          "text": [
            "Number of Original States: 123727\n",
            "Number of Noise States (2nd run): 123727\n",
            "Number of Different States: 89559\n",
            "Percentage of Changed States: 72.38436234613302\n"
          ]
        }
      ],
      "source": [
        "new_files_subset = flac_files[:500]\n",
        "noise = '/content/Cafeteria.wav'\n",
        "noise_data = read_audio(noise)\n",
        "snr = 15\n",
        "offset_ms = 10\n",
        "num_original_states, num_noise_states, num_diff_states, percentage_changed_states = compare_clean_noisy_files(new_files_subset, kmeans, noise_data, snr, offset_ms)\n",
        "\n",
        "print(\"Number of Original States:\", num_original_states)\n",
        "print(\"Number of Noise States (2nd run):\", num_noise_states)\n",
        "print(\"Number of Different States:\", num_diff_states)\n",
        "print(\"Percentage of Changed States:\", percentage_changed_states)"
      ]
    },
    {
      "cell_type": "code",
      "execution_count": null,
      "metadata": {
        "id": "_kOVO2aMJSM1",
        "colab": {
          "base_uri": "https://localhost:8080/"
        },
        "outputId": "177e59ee-0436-46d8-edc9-084b5b767d73"
      },
      "outputs": [
        {
          "output_type": "stream",
          "name": "stdout",
          "text": [
            "Number of Original States: 123727\n",
            "Number of Noise States (2nd run): 123727\n",
            "Number of Different States: 87512\n",
            "Percentage of Changed States: 70.72991343845725\n"
          ]
        }
      ],
      "source": [
        "new_files_subset = flac_files[:500]\n",
        "noise = '/content/Cafeteria.wav'\n",
        "noise_data = read_audio(noise)\n",
        "snr = 20\n",
        "offset_ms = 10\n",
        "num_original_states, num_noise_states, num_diff_states, percentage_changed_states = compare_clean_noisy_files(new_files_subset, kmeans, noise_data, snr, offset_ms)\n",
        "\n",
        "print(\"Number of Original States:\", num_original_states)\n",
        "print(\"Number of Noise States (2nd run):\", num_noise_states)\n",
        "print(\"Number of Different States:\", num_diff_states)\n",
        "print(\"Percentage of Changed States:\", percentage_changed_states)"
      ]
    },
    {
      "cell_type": "code",
      "execution_count": null,
      "metadata": {
        "id": "5LIgycSzJYJh",
        "colab": {
          "base_uri": "https://localhost:8080/"
        },
        "outputId": "044affb5-ae34-4efe-a033-9359df62f092"
      },
      "outputs": [
        {
          "output_type": "stream",
          "name": "stdout",
          "text": [
            "Number of Original States: 123727\n",
            "Number of Noise States (2nd run): 123727\n",
            "Number of Different States: 86466\n",
            "Percentage of Changed States: 69.88450378656235\n"
          ]
        }
      ],
      "source": [
        "new_files_subset = flac_files[:500]\n",
        "noise = '/content/Cafeteria.wav'\n",
        "noise_data = read_audio(noise)\n",
        "snr = 25\n",
        "offset_ms = 10\n",
        "num_original_states, num_noise_states, num_diff_states, percentage_changed_states = compare_clean_noisy_files(new_files_subset, kmeans, noise_data, snr, offset_ms)\n",
        "\n",
        "print(\"Number of Original States:\", num_original_states)\n",
        "print(\"Number of Noise States (2nd run):\", num_noise_states)\n",
        "print(\"Number of Different States:\", num_diff_states)\n",
        "print(\"Percentage of Changed States:\", percentage_changed_states)"
      ]
    },
    {
      "cell_type": "code",
      "execution_count": null,
      "metadata": {
        "id": "L2LKTG6bJfIk",
        "colab": {
          "base_uri": "https://localhost:8080/"
        },
        "outputId": "0f80d626-563a-493f-e189-223f32694110"
      },
      "outputs": [
        {
          "output_type": "stream",
          "name": "stdout",
          "text": [
            "Number of Original States: 123727\n",
            "Number of Noise States (2nd run): 123727\n",
            "Number of Different States: 87424\n",
            "Percentage of Changed States: 70.65878910827871\n"
          ]
        }
      ],
      "source": [
        "new_files_subset = flac_files[:500]\n",
        "noise = '/content/Car.wav'\n",
        "noise_data = read_audio(noise)\n",
        "snr = 0\n",
        "offset_ms = 10\n",
        "num_original_states, num_noise_states, num_diff_states, percentage_changed_states = compare_clean_noisy_files(new_files_subset, kmeans, noise_data, snr, offset_ms)\n",
        "\n",
        "print(\"Number of Original States:\", num_original_states)\n",
        "print(\"Number of Noise States (2nd run):\", num_noise_states)\n",
        "print(\"Number of Different States:\", num_diff_states)\n",
        "print(\"Percentage of Changed States:\", percentage_changed_states)"
      ]
    },
    {
      "cell_type": "code",
      "execution_count": null,
      "metadata": {
        "id": "KY7QKJaWJy6y",
        "colab": {
          "base_uri": "https://localhost:8080/"
        },
        "outputId": "79b5f4b7-b194-47ae-ffc1-2905ea43ac78"
      },
      "outputs": [
        {
          "output_type": "stream",
          "name": "stdout",
          "text": [
            "Number of Original States: 123727\n",
            "Number of Noise States (2nd run): 123727\n",
            "Number of Different States: 86249\n",
            "Percentage of Changed States: 69.70911765419028\n"
          ]
        }
      ],
      "source": [
        "new_files_subset = flac_files[:500]\n",
        "noise = '/content/Car.wav'\n",
        "noise_data = read_audio(noise)\n",
        "snr = 5\n",
        "offset_ms = 10\n",
        "num_original_states, num_noise_states, num_diff_states, percentage_changed_states = compare_clean_noisy_files(new_files_subset, kmeans, noise_data, snr, offset_ms)\n",
        "\n",
        "print(\"Number of Original States:\", num_original_states)\n",
        "print(\"Number of Noise States (2nd run):\", num_noise_states)\n",
        "print(\"Number of Different States:\", num_diff_states)\n",
        "print(\"Percentage of Changed States:\", percentage_changed_states)"
      ]
    },
    {
      "cell_type": "code",
      "execution_count": null,
      "metadata": {
        "id": "CeywtGTPJ92t",
        "colab": {
          "base_uri": "https://localhost:8080/"
        },
        "outputId": "a37a5bc2-89bd-4d7c-f8e0-56962ab6baf8"
      },
      "outputs": [
        {
          "output_type": "stream",
          "name": "stdout",
          "text": [
            "Number of Original States: 123727\n",
            "Number of Noise States (2nd run): 123727\n",
            "Number of Different States: 85818\n",
            "Percentage of Changed States: 69.36077008252039\n"
          ]
        }
      ],
      "source": [
        "new_files_subset = flac_files[:500]\n",
        "noise = '/content/Car.wav'\n",
        "noise_data = read_audio(noise)\n",
        "snr = 10\n",
        "offset_ms = 10\n",
        "num_original_states, num_noise_states, num_diff_states, percentage_changed_states = compare_clean_noisy_files(new_files_subset, kmeans, noise_data, snr, offset_ms)\n",
        "\n",
        "print(\"Number of Original States:\", num_original_states)\n",
        "print(\"Number of Noise States (2nd run):\", num_noise_states)\n",
        "print(\"Number of Different States:\", num_diff_states)\n",
        "print(\"Percentage of Changed States:\", percentage_changed_states)"
      ]
    },
    {
      "cell_type": "code",
      "execution_count": null,
      "metadata": {
        "id": "OdUIWPlvKDCO",
        "colab": {
          "base_uri": "https://localhost:8080/"
        },
        "outputId": "5fbc2b46-39c4-4c56-b47e-8339aaa7f783"
      },
      "outputs": [
        {
          "output_type": "stream",
          "name": "stdout",
          "text": [
            "Number of Original States: 123727\n",
            "Number of Noise States (2nd run): 123727\n",
            "Number of Different States: 85356\n",
            "Percentage of Changed States: 68.98736734908306\n"
          ]
        }
      ],
      "source": [
        "new_files_subset = flac_files[:500]\n",
        "noise = '/content/Car.wav'\n",
        "noise_data = read_audio(noise)\n",
        "snr = 15\n",
        "offset_ms = 10\n",
        "num_original_states, num_noise_states, num_diff_states, percentage_changed_states = compare_clean_noisy_files(new_files_subset, kmeans, noise_data, snr, offset_ms)\n",
        "\n",
        "print(\"Number of Original States:\", num_original_states)\n",
        "print(\"Number of Noise States (2nd run):\", num_noise_states)\n",
        "print(\"Number of Different States:\", num_diff_states)\n",
        "print(\"Percentage of Changed States:\", percentage_changed_states)"
      ]
    },
    {
      "cell_type": "code",
      "execution_count": null,
      "metadata": {
        "id": "bKVwP7RHKG_r",
        "colab": {
          "base_uri": "https://localhost:8080/"
        },
        "outputId": "e3204fb6-7475-47de-ad0f-d3d3cd46c2ff"
      },
      "outputs": [
        {
          "output_type": "stream",
          "name": "stdout",
          "text": [
            "Number of Original States: 123727\n",
            "Number of Noise States (2nd run): 123727\n",
            "Number of Different States: 85087\n",
            "Percentage of Changed States: 68.76995320342367\n"
          ]
        }
      ],
      "source": [
        "new_files_subset = flac_files[:500]\n",
        "noise = '/content/Car.wav'\n",
        "noise_data = read_audio(noise)\n",
        "snr = 20\n",
        "offset_ms = 10\n",
        "num_original_states, num_noise_states, num_diff_states, percentage_changed_states = compare_clean_noisy_files(new_files_subset, kmeans, noise_data, snr, offset_ms)\n",
        "\n",
        "print(\"Number of Original States:\", num_original_states)\n",
        "print(\"Number of Noise States (2nd run):\", num_noise_states)\n",
        "print(\"Number of Different States:\", num_diff_states)\n",
        "print(\"Percentage of Changed States:\", percentage_changed_states)"
      ]
    },
    {
      "cell_type": "code",
      "execution_count": null,
      "metadata": {
        "id": "-RCgdHXBKSs2",
        "colab": {
          "base_uri": "https://localhost:8080/"
        },
        "outputId": "63350478-5166-4b28-a493-33eecc272176"
      },
      "outputs": [
        {
          "output_type": "stream",
          "name": "stdout",
          "text": [
            "Number of Original States: 123727\n",
            "Number of Noise States (2nd run): 123727\n",
            "Number of Different States: 84818\n",
            "Percentage of Changed States: 68.55253905776428\n"
          ]
        }
      ],
      "source": [
        "new_files_subset = flac_files[:500]\n",
        "noise = '/content/Car.wav'\n",
        "noise_data = read_audio(noise)\n",
        "snr = 25\n",
        "offset_ms = 10\n",
        "num_original_states, num_noise_states, num_diff_states, percentage_changed_states = compare_clean_noisy_files(new_files_subset, kmeans, noise_data, snr, offset_ms)\n",
        "\n",
        "print(\"Number of Original States:\", num_original_states)\n",
        "print(\"Number of Noise States (2nd run):\", num_noise_states)\n",
        "print(\"Number of Different States:\", num_diff_states)\n",
        "print(\"Percentage of Changed States:\", percentage_changed_states)"
      ]
    },
    {
      "cell_type": "code",
      "execution_count": null,
      "metadata": {
        "id": "R5MsInW_KW0I",
        "colab": {
          "base_uri": "https://localhost:8080/"
        },
        "outputId": "c7e73e05-8f6c-418d-a37c-af792b8bb8d8"
      },
      "outputs": [
        {
          "output_type": "stream",
          "name": "stdout",
          "text": [
            "Number of Original States: 123727\n",
            "Number of Noise States (2nd run): 123727\n",
            "Number of Different States: 104853\n",
            "Percentage of Changed States: 84.74544763875306\n"
          ]
        }
      ],
      "source": [
        "new_files_subset = flac_files[:500]\n",
        "noise = '/content/Livingroom.wav'\n",
        "noise_data = read_audio(noise)\n",
        "snr = 0\n",
        "offset_ms = 10\n",
        "num_original_states, num_noise_states, num_diff_states, percentage_changed_states = compare_clean_noisy_files(new_files_subset, kmeans, noise_data, snr, offset_ms)\n",
        "\n",
        "print(\"Number of Original States:\", num_original_states)\n",
        "print(\"Number of Noise States (2nd run):\", num_noise_states)\n",
        "print(\"Number of Different States:\", num_diff_states)\n",
        "print(\"Percentage of Changed States:\", percentage_changed_states)"
      ]
    },
    {
      "cell_type": "code",
      "execution_count": null,
      "metadata": {
        "id": "JKn3jv2pLHsK",
        "colab": {
          "base_uri": "https://localhost:8080/"
        },
        "outputId": "b57fd284-0569-4d5e-a228-753012cada16"
      },
      "outputs": [
        {
          "output_type": "stream",
          "name": "stdout",
          "text": [
            "Number of Original States: 123727\n",
            "Number of Noise States (2nd run): 123727\n",
            "Number of Different States: 96048\n",
            "Percentage of Changed States: 77.62897346577546\n"
          ]
        }
      ],
      "source": [
        "new_files_subset = flac_files[:500]\n",
        "noise = '/content/Livingroom.wav'\n",
        "noise_data = read_audio(noise)\n",
        "snr = 5\n",
        "offset_ms = 10\n",
        "num_original_states, num_noise_states, num_diff_states, percentage_changed_states = compare_clean_noisy_files(new_files_subset, kmeans, noise_data, snr, offset_ms)\n",
        "\n",
        "print(\"Number of Original States:\", num_original_states)\n",
        "print(\"Number of Noise States (2nd run):\", num_noise_states)\n",
        "print(\"Number of Different States:\", num_diff_states)\n",
        "print(\"Percentage of Changed States:\", percentage_changed_states)"
      ]
    },
    {
      "cell_type": "code",
      "execution_count": null,
      "metadata": {
        "id": "1Snpk3ntLNYU",
        "colab": {
          "base_uri": "https://localhost:8080/"
        },
        "outputId": "26cbac1b-1dd1-47aa-f756-8f4f0d0045ed"
      },
      "outputs": [
        {
          "output_type": "stream",
          "name": "stdout",
          "text": [
            "Number of Original States: 123727\n",
            "Number of Noise States (2nd run): 123727\n",
            "Number of Different States: 90369\n",
            "Percentage of Changed States: 73.03902947618546\n"
          ]
        }
      ],
      "source": [
        "new_files_subset = flac_files[:500]\n",
        "noise = '/content/Livingroom.wav'\n",
        "noise_data = read_audio(noise)\n",
        "snr = 10\n",
        "offset_ms = 10\n",
        "num_original_states, num_noise_states, num_diff_states, percentage_changed_states = compare_clean_noisy_files(new_files_subset, kmeans, noise_data, snr, offset_ms)\n",
        "\n",
        "print(\"Number of Original States:\", num_original_states)\n",
        "print(\"Number of Noise States (2nd run):\", num_noise_states)\n",
        "print(\"Number of Different States:\", num_diff_states)\n",
        "print(\"Percentage of Changed States:\", percentage_changed_states)"
      ]
    },
    {
      "cell_type": "code",
      "execution_count": null,
      "metadata": {
        "id": "w0I9z8dyLTZO",
        "colab": {
          "base_uri": "https://localhost:8080/"
        },
        "outputId": "c12deadf-193b-41d8-c6b7-931d40fa68b1"
      },
      "outputs": [
        {
          "output_type": "stream",
          "name": "stdout",
          "text": [
            "Number of Original States: 123727\n",
            "Number of Noise States (2nd run): 123727\n",
            "Number of Different States: 87794\n",
            "Percentage of Changed States: 70.95783458743847\n"
          ]
        }
      ],
      "source": [
        "new_files_subset = flac_files[:500]\n",
        "noise = '/content/Livingroom.wav'\n",
        "noise_data = read_audio(noise)\n",
        "snr = 15\n",
        "offset_ms = 10\n",
        "num_original_states, num_noise_states, num_diff_states, percentage_changed_states = compare_clean_noisy_files(new_files_subset, kmeans, noise_data, snr, offset_ms)\n",
        "\n",
        "print(\"Number of Original States:\", num_original_states)\n",
        "print(\"Number of Noise States (2nd run):\", num_noise_states)\n",
        "print(\"Number of Different States:\", num_diff_states)\n",
        "print(\"Percentage of Changed States:\", percentage_changed_states)"
      ]
    },
    {
      "cell_type": "code",
      "execution_count": null,
      "metadata": {
        "id": "LmlJNfxSLX4q",
        "colab": {
          "base_uri": "https://localhost:8080/"
        },
        "outputId": "bef7e42d-18a1-4c63-d1c8-f5ce234e4e8c"
      },
      "outputs": [
        {
          "output_type": "stream",
          "name": "stdout",
          "text": [
            "Number of Original States: 123727\n",
            "Number of Noise States (2nd run): 123727\n",
            "Number of Different States: 86540\n",
            "Percentage of Changed States: 69.9443128823943\n"
          ]
        }
      ],
      "source": [
        "new_files_subset = flac_files[:500]\n",
        "noise = '/content/Livingroom.wav'\n",
        "noise_data = read_audio(noise)\n",
        "snr = 20\n",
        "offset_ms = 10\n",
        "num_original_states, num_noise_states, num_diff_states, percentage_changed_states = compare_clean_noisy_files(new_files_subset, kmeans, noise_data, snr, offset_ms)\n",
        "\n",
        "print(\"Number of Original States:\", num_original_states)\n",
        "print(\"Number of Noise States (2nd run):\", num_noise_states)\n",
        "print(\"Number of Different States:\", num_diff_states)\n",
        "print(\"Percentage of Changed States:\", percentage_changed_states)"
      ]
    },
    {
      "cell_type": "code",
      "execution_count": null,
      "metadata": {
        "id": "M80gaSbnLc-Y",
        "colab": {
          "base_uri": "https://localhost:8080/"
        },
        "outputId": "b6e7b649-e62b-4323-ca5f-c5c2c8dc560f"
      },
      "outputs": [
        {
          "output_type": "stream",
          "name": "stdout",
          "text": [
            "Number of Original States: 123727\n",
            "Number of Noise States (2nd run): 123727\n",
            "Number of Different States: 86111\n",
            "Percentage of Changed States: 69.59758177277394\n"
          ]
        }
      ],
      "source": [
        "new_files_subset = flac_files[:500]\n",
        "noise = '/content/Livingroom.wav'\n",
        "noise_data = read_audio(noise)\n",
        "snr = 25\n",
        "offset_ms = 10\n",
        "num_original_states, num_noise_states, num_diff_states, percentage_changed_states = compare_clean_noisy_files(new_files_subset, kmeans, noise_data, snr, offset_ms)\n",
        "\n",
        "print(\"Number of Original States:\", num_original_states)\n",
        "print(\"Number of Noise States (2nd run):\", num_noise_states)\n",
        "print(\"Number of Different States:\", num_diff_states)\n",
        "print(\"Percentage of Changed States:\", percentage_changed_states)"
      ]
    },
    {
      "cell_type": "code",
      "execution_count": null,
      "metadata": {
        "id": "WQaD_TUkLhw0",
        "colab": {
          "base_uri": "https://localhost:8080/"
        },
        "outputId": "92e1a587-8b75-4ba9-db30-7739ca16ccd6"
      },
      "outputs": [
        {
          "output_type": "stream",
          "name": "stdout",
          "text": [
            "Number of Original States: 123727\n",
            "Number of Noise States (2nd run): 123727\n",
            "Number of Different States: 107980\n",
            "Percentage of Changed States: 87.27278605316545\n"
          ]
        }
      ],
      "source": [
        "new_files_subset = flac_files[:500]\n",
        "noise = '/content/Shopping.wav'\n",
        "noise_data = read_audio(noise)\n",
        "snr = 0\n",
        "offset_ms = 10\n",
        "num_original_states, num_noise_states, num_diff_states, percentage_changed_states = compare_clean_noisy_files(new_files_subset, kmeans, noise_data, snr, offset_ms)\n",
        "\n",
        "print(\"Number of Original States:\", num_original_states)\n",
        "print(\"Number of Noise States (2nd run):\", num_noise_states)\n",
        "print(\"Number of Different States:\", num_diff_states)\n",
        "print(\"Percentage of Changed States:\", percentage_changed_states)"
      ]
    },
    {
      "cell_type": "code",
      "source": [
        "new_files_subset = flac_files[:500]\n",
        "noise = '/content/Shopping.wav'\n",
        "noise_data = read_audio(noise)\n",
        "snr = 5\n",
        "offset_ms = 10\n",
        "num_original_states, num_noise_states, num_diff_states, percentage_changed_states = compare_clean_noisy_files(new_files_subset, kmeans, noise_data, snr, offset_ms)\n",
        "\n",
        "print(\"Number of Original States:\", num_original_states)\n",
        "print(\"Number of Noise States (2nd run):\", num_noise_states)\n",
        "print(\"Number of Different States:\", num_diff_states)\n",
        "print(\"Percentage of Changed States:\", percentage_changed_states)"
      ],
      "metadata": {
        "id": "NAJc9n1Zs-qO",
        "colab": {
          "base_uri": "https://localhost:8080/"
        },
        "outputId": "451343f5-aabb-4438-d1e5-7e927f6ba948"
      },
      "execution_count": null,
      "outputs": [
        {
          "output_type": "stream",
          "name": "stdout",
          "text": [
            "Number of Original States: 123727\n",
            "Number of Noise States (2nd run): 123727\n",
            "Number of Different States: 96642\n",
            "Percentage of Changed States: 78.10906269448058\n"
          ]
        }
      ]
    },
    {
      "cell_type": "code",
      "source": [
        "new_files_subset = flac_files[:500]\n",
        "noise = '/content/Shopping.wav'\n",
        "noise_data = read_audio(noise)\n",
        "snr = 10\n",
        "offset_ms = 10\n",
        "num_original_states, num_noise_states, num_diff_states, percentage_changed_states = compare_clean_noisy_files(new_files_subset, kmeans, noise_data, snr, offset_ms)\n",
        "\n",
        "print(\"Number of Original States:\", num_original_states)\n",
        "print(\"Number of Noise States (2nd run):\", num_noise_states)\n",
        "print(\"Number of Different States:\", num_diff_states)\n",
        "print(\"Percentage of Changed States:\", percentage_changed_states)"
      ],
      "metadata": {
        "id": "tMQMb7zStNCp",
        "colab": {
          "base_uri": "https://localhost:8080/"
        },
        "outputId": "89738b29-0c44-4e24-acd9-8c363b2c3980"
      },
      "execution_count": null,
      "outputs": [
        {
          "output_type": "stream",
          "name": "stdout",
          "text": [
            "Number of Original States: 123727\n",
            "Number of Noise States (2nd run): 123727\n",
            "Number of Different States: 90793\n",
            "Percentage of Changed States: 73.38171943068207\n"
          ]
        }
      ]
    },
    {
      "cell_type": "code",
      "source": [
        "new_files_subset = flac_files[:500]\n",
        "noise = '/content/Shopping.wav'\n",
        "noise_data = read_audio(noise)\n",
        "snr = 15\n",
        "offset_ms = 10\n",
        "num_original_states, num_noise_states, num_diff_states, percentage_changed_states = compare_clean_noisy_files(new_files_subset, kmeans, noise_data, snr, offset_ms)\n",
        "\n",
        "print(\"Number of Original States:\", num_original_states)\n",
        "print(\"Number of Noise States (2nd run):\", num_noise_states)\n",
        "print(\"Number of Different States:\", num_diff_states)\n",
        "print(\"Percentage of Changed States:\", percentage_changed_states)"
      ],
      "metadata": {
        "id": "GSM211MptR-3",
        "colab": {
          "base_uri": "https://localhost:8080/"
        },
        "outputId": "44d719c3-04b9-4b41-ef58-8d53e3e92a0c"
      },
      "execution_count": null,
      "outputs": [
        {
          "output_type": "stream",
          "name": "stdout",
          "text": [
            "Number of Original States: 120799\n",
            "Number of Noise States (2nd run): 120799\n",
            "Number of Different States: 87993\n",
            "Percentage of Changed States: 72.84249041796703\n"
          ]
        }
      ]
    },
    {
      "cell_type": "code",
      "source": [
        "new_files_subset = flac_files[:500]\n",
        "noise = '/content/Shopping.wav'\n",
        "noise_data = read_audio(noise)\n",
        "snr = 20\n",
        "offset_ms = 10\n",
        "num_original_states, num_noise_states, num_diff_states, percentage_changed_states = compare_clean_noisy_files(new_files_subset, kmeans, noise_data, snr, offset_ms)\n",
        "\n",
        "print(\"Number of Original States:\", num_original_states)\n",
        "print(\"Number of Noise States (2nd run):\", num_noise_states)\n",
        "print(\"Number of Different States:\", num_diff_states)\n",
        "print(\"Percentage of Changed States:\", percentage_changed_states)"
      ],
      "metadata": {
        "id": "WvzP7LWUtVF0",
        "colab": {
          "base_uri": "https://localhost:8080/"
        },
        "outputId": "0ba5d5e0-74f8-4348-87e5-eaea471a597a"
      },
      "execution_count": null,
      "outputs": [
        {
          "output_type": "stream",
          "name": "stdout",
          "text": [
            "Number of Original States: 120799\n",
            "Number of Noise States (2nd run): 120799\n",
            "Number of Different States: 86740\n",
            "Percentage of Changed States: 71.80523017574649\n"
          ]
        }
      ]
    },
    {
      "cell_type": "code",
      "source": [
        "new_files_subset = flac_files[:500]\n",
        "noise = '/content/Shopping.wav'\n",
        "noise_data = read_audio(noise)\n",
        "snr = 25\n",
        "offset_ms = 10\n",
        "num_original_states, num_noise_states, num_diff_states, percentage_changed_states = compare_clean_noisy_files(new_files_subset, kmeans, noise_data, snr, offset_ms)\n",
        "\n",
        "print(\"Number of Original States:\", num_original_states)\n",
        "print(\"Number of Noise States (2nd run):\", num_noise_states)\n",
        "print(\"Number of Different States:\", num_diff_states)\n",
        "print(\"Percentage of Changed States:\", percentage_changed_states)"
      ],
      "metadata": {
        "id": "Lqv8mFRwtW5O",
        "colab": {
          "base_uri": "https://localhost:8080/"
        },
        "outputId": "62d9a4c1-5852-4b8c-f3eb-a5373157fce4"
      },
      "execution_count": null,
      "outputs": [
        {
          "output_type": "stream",
          "name": "stdout",
          "text": [
            "Number of Original States: 120799\n",
            "Number of Noise States (2nd run): 120799\n",
            "Number of Different States: 86103\n",
            "Percentage of Changed States: 71.2779079297014\n"
          ]
        }
      ]
    },
    {
      "cell_type": "code",
      "source": [
        "new_files_subset = flac_files[:500]\n",
        "noise = '/content/Traffic.wav'\n",
        "noise_data = read_audio(noise)\n",
        "snr = 0\n",
        "offset_ms = 10\n",
        "num_original_states, num_noise_states, num_diff_states, percentage_changed_states = compare_clean_noisy_files(new_files_subset, kmeans, noise_data, snr, offset_ms)\n",
        "\n",
        "print(\"Number of Original States:\", num_original_states)\n",
        "print(\"Number of Noise States (2nd run):\", num_noise_states)\n",
        "print(\"Number of Different States:\", num_diff_states)\n",
        "print(\"Percentage of Changed States:\", percentage_changed_states)"
      ],
      "metadata": {
        "id": "yWDyo7Sytaau",
        "colab": {
          "base_uri": "https://localhost:8080/"
        },
        "outputId": "243887e5-963e-4255-c874-644d28bc77f9"
      },
      "execution_count": null,
      "outputs": [
        {
          "output_type": "stream",
          "name": "stdout",
          "text": [
            "Number of Original States: 120799\n",
            "Number of Noise States (2nd run): 120799\n",
            "Number of Different States: 96905\n",
            "Percentage of Changed States: 80.22003493406402\n"
          ]
        }
      ]
    },
    {
      "cell_type": "code",
      "source": [
        "new_files_subset = flac_files[:500]\n",
        "noise = '/content/Traffic.wav'\n",
        "noise_data = read_audio(noise)\n",
        "snr = 5\n",
        "offset_ms = 10\n",
        "num_original_states, num_noise_states, num_diff_states, percentage_changed_states = compare_clean_noisy_files(new_files_subset, kmeans, noise_data, snr, offset_ms)\n",
        "\n",
        "print(\"Number of Original States:\", num_original_states)\n",
        "print(\"Number of Noise States (2nd run):\", num_noise_states)\n",
        "print(\"Number of Different States:\", num_diff_states)\n",
        "print(\"Percentage of Changed States:\", percentage_changed_states)"
      ],
      "metadata": {
        "id": "WTgfmvuYtf3m",
        "colab": {
          "base_uri": "https://localhost:8080/"
        },
        "outputId": "10bfd812-343d-43ca-ff7d-21e2493bcdc8"
      },
      "execution_count": null,
      "outputs": [
        {
          "output_type": "stream",
          "name": "stdout",
          "text": [
            "Number of Original States: 120799\n",
            "Number of Noise States (2nd run): 120799\n",
            "Number of Different States: 90105\n",
            "Percentage of Changed States: 74.5908492619972\n"
          ]
        }
      ]
    },
    {
      "cell_type": "code",
      "source": [
        "new_files_subset = flac_files[:500]\n",
        "noise = '/content/Traffic.wav'\n",
        "noise_data = read_audio(noise)\n",
        "snr = 10\n",
        "offset_ms = 10\n",
        "num_original_states, num_noise_states, num_diff_states, percentage_changed_states = compare_clean_noisy_files(new_files_subset, kmeans, noise_data, snr, offset_ms)\n",
        "\n",
        "print(\"Number of Original States:\", num_original_states)\n",
        "print(\"Number of Noise States (2nd run):\", num_noise_states)\n",
        "print(\"Number of Different States:\", num_diff_states)\n",
        "print(\"Percentage of Changed States:\", percentage_changed_states)"
      ],
      "metadata": {
        "id": "hIfUOcK8tiiZ",
        "colab": {
          "base_uri": "https://localhost:8080/"
        },
        "outputId": "9e41aa5c-8f68-469c-d8bf-a19260febdb8"
      },
      "execution_count": null,
      "outputs": [
        {
          "output_type": "stream",
          "name": "stdout",
          "text": [
            "Number of Original States: 120799\n",
            "Number of Noise States (2nd run): 120799\n",
            "Number of Different States: 87715\n",
            "Percentage of Changed States: 72.61235606255019\n"
          ]
        }
      ]
    },
    {
      "cell_type": "code",
      "source": [
        "new_files_subset = flac_files[:500]\n",
        "noise = '/content/Traffic.wav'\n",
        "noise_data = read_audio(noise)\n",
        "snr = 15\n",
        "offset_ms = 10\n",
        "num_original_states, num_noise_states, num_diff_states, percentage_changed_states = compare_clean_noisy_files(new_files_subset, kmeans, noise_data, snr, offset_ms)\n",
        "\n",
        "print(\"Number of Original States:\", num_original_states)\n",
        "print(\"Number of Noise States (2nd run):\", num_noise_states)\n",
        "print(\"Number of Different States:\", num_diff_states)\n",
        "print(\"Percentage of Changed States:\", percentage_changed_states)"
      ],
      "metadata": {
        "id": "z-iVjHjPtkxv",
        "colab": {
          "base_uri": "https://localhost:8080/"
        },
        "outputId": "fe449f30-8cb9-43a3-922e-fa84752d513c"
      },
      "execution_count": null,
      "outputs": [
        {
          "output_type": "stream",
          "name": "stdout",
          "text": [
            "Number of Original States: 120799\n",
            "Number of Noise States (2nd run): 120799\n",
            "Number of Different States: 86519\n",
            "Percentage of Changed States: 71.62228164140431\n"
          ]
        }
      ]
    },
    {
      "cell_type": "code",
      "source": [
        "new_files_subset = flac_files[:500]\n",
        "noise = '/content/Traffic.wav'\n",
        "noise_data = read_audio(noise)\n",
        "snr = 20\n",
        "offset_ms = 10\n",
        "num_original_states, num_noise_states, num_diff_states, percentage_changed_states = compare_clean_noisy_files(new_files_subset, kmeans, noise_data, snr, offset_ms)\n",
        "\n",
        "print(\"Number of Original States:\", num_original_states)\n",
        "print(\"Number of Noise States (2nd run):\", num_noise_states)\n",
        "print(\"Number of Different States:\", num_diff_states)\n",
        "print(\"Percentage of Changed States:\", percentage_changed_states)"
      ],
      "metadata": {
        "id": "BznZO_oRtoWI"
      },
      "execution_count": null,
      "outputs": []
    },
    {
      "cell_type": "code",
      "source": [
        "new_files_subset = flac_files[:500]\n",
        "noise = '/content/Traffic.wav'\n",
        "noise_data = read_audio(noise)\n",
        "snr = 25\n",
        "offset_ms = 10\n",
        "num_original_states, num_noise_states, num_diff_states, percentage_changed_states = compare_clean_noisy_files(new_files_subset, kmeans, noise_data, snr, offset_ms)\n",
        "\n",
        "print(\"Number of Original States:\", num_original_states)\n",
        "print(\"Number of Noise States (2nd run):\", num_noise_states)\n",
        "print(\"Number of Different States:\", num_diff_states)\n",
        "print(\"Percentage of Changed States:\", percentage_changed_states)"
      ],
      "metadata": {
        "id": "U2fC7D2vttXd"
      },
      "execution_count": null,
      "outputs": []
    },
    {
      "cell_type": "code",
      "source": [
        "new_files_subset = flac_files[:500]\n",
        "noise = '/content/Train_Station.wav'\n",
        "noise_data = read_audio(noise)\n",
        "snr = 0\n",
        "offset_ms = 10\n",
        "num_original_states, num_noise_states, num_diff_states, percentage_changed_states = compare_clean_noisy_files(new_files_subset, kmeans, noise_data, snr, offset_ms)\n",
        "\n",
        "print(\"Number of Original States:\", num_original_states)\n",
        "print(\"Number of Noise States (2nd run):\", num_noise_states)\n",
        "print(\"Number of Different States:\", num_diff_states)\n",
        "print(\"Percentage of Changed States:\", percentage_changed_states)"
      ],
      "metadata": {
        "id": "t8S5jX-FtvzG"
      },
      "execution_count": null,
      "outputs": []
    },
    {
      "cell_type": "code",
      "source": [
        "new_files_subset = flac_files[:500]\n",
        "noise = '/content/Train_Station.wav'\n",
        "noise_data = read_audio(noise)\n",
        "snr = 5\n",
        "offset_ms = 10\n",
        "num_original_states, num_noise_states, num_diff_states, percentage_changed_states = compare_clean_noisy_files(new_files_subset, kmeans, noise_data, snr, offset_ms)\n",
        "\n",
        "print(\"Number of Original States:\", num_original_states)\n",
        "print(\"Number of Noise States (2nd run):\", num_noise_states)\n",
        "print(\"Number of Different States:\", num_diff_states)\n",
        "print(\"Percentage of Changed States:\", percentage_changed_states)"
      ],
      "metadata": {
        "id": "2d3vif_1t1cs"
      },
      "execution_count": null,
      "outputs": []
    },
    {
      "cell_type": "code",
      "source": [
        "new_files_subset = flac_files[:500]\n",
        "noise = '/content/Train_Station.wav'\n",
        "noise_data = read_audio(noise)\n",
        "snr = 10\n",
        "offset_ms = 10\n",
        "num_original_states, num_noise_states, num_diff_states, percentage_changed_states = compare_clean_noisy_files(new_files_subset, kmeans, noise_data, snr, offset_ms)\n",
        "\n",
        "print(\"Number of Original States:\", num_original_states)\n",
        "print(\"Number of Noise States (2nd run):\", num_noise_states)\n",
        "print(\"Number of Different States:\", num_diff_states)\n",
        "print(\"Percentage of Changed States:\", percentage_changed_states)"
      ],
      "metadata": {
        "id": "V3uuhfn3t3qU"
      },
      "execution_count": null,
      "outputs": []
    },
    {
      "cell_type": "code",
      "source": [
        "new_files_subset = flac_files[:500]\n",
        "noise = '/content/Train_Station.wav'\n",
        "noise_data = read_audio(noise)\n",
        "snr = 15\n",
        "offset_ms = 10\n",
        "num_original_states, num_noise_states, num_diff_states, percentage_changed_states = compare_clean_noisy_files(new_files_subset, kmeans, noise_data, snr, offset_ms)\n",
        "\n",
        "print(\"Number of Original States:\", num_original_states)\n",
        "print(\"Number of Noise States (2nd run):\", num_noise_states)\n",
        "print(\"Number of Different States:\", num_diff_states)\n",
        "print(\"Percentage of Changed States:\", percentage_changed_states)"
      ],
      "metadata": {
        "id": "N5g-Ncr8t7-7"
      },
      "execution_count": null,
      "outputs": []
    },
    {
      "cell_type": "code",
      "source": [
        "new_files_subset = flac_files[:500]\n",
        "noise = '/content/Train_Station.wav'\n",
        "noise_data = read_audio(noise)\n",
        "snr = 20\n",
        "offset_ms = 10\n",
        "num_original_states, num_noise_states, num_diff_states, percentage_changed_states = compare_clean_noisy_files(new_files_subset, kmeans, noise_data, snr, offset_ms)\n",
        "\n",
        "print(\"Number of Original States:\", num_original_states)\n",
        "print(\"Number of Noise States (2nd run):\", num_noise_states)\n",
        "print(\"Number of Different States:\", num_diff_states)\n",
        "print(\"Percentage of Changed States:\", percentage_changed_states)"
      ],
      "metadata": {
        "id": "FldRM1W5t_Gv"
      },
      "execution_count": null,
      "outputs": []
    },
    {
      "cell_type": "code",
      "source": [
        "new_files_subset = flac_files[:500]\n",
        "noise = '/content/Train_Station.wav'\n",
        "noise_data = read_audio(noise)\n",
        "snr = 25\n",
        "offset_ms = 10\n",
        "num_original_states, num_noise_states, num_diff_states, percentage_changed_states = compare_clean_noisy_files(new_files_subset, kmeans, noise_data, snr, offset_ms)\n",
        "\n",
        "print(\"Number of Original States:\", num_original_states)\n",
        "print(\"Number of Noise States (2nd run):\", num_noise_states)\n",
        "print(\"Number of Different States:\", num_diff_states)\n",
        "print(\"Percentage of Changed States:\", percentage_changed_states)"
      ],
      "metadata": {
        "id": "C4xxCvQ6uA2R"
      },
      "execution_count": null,
      "outputs": []
    },
    {
      "cell_type": "code",
      "source": [],
      "metadata": {
        "id": "vNg87OgbuSm8"
      },
      "execution_count": null,
      "outputs": []
    }
  ],
  "metadata": {
    "colab": {
      "provenance": [],
      "gpuType": "T4"
    },
    "kernelspec": {
      "display_name": "Python 3",
      "name": "python3"
    },
    "language_info": {
      "name": "python"
    },
    "accelerator": "GPU"
  },
  "nbformat": 4,
  "nbformat_minor": 0
}