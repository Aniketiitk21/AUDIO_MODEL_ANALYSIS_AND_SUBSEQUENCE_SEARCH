{
  "cells": [
    {
      "cell_type": "code",
      "execution_count": null,
      "metadata": {
        "id": "Fgc9kN8eT_dm",
        "colab": {
          "base_uri": "https://localhost:8080/"
        },
        "outputId": "7e4cbd24-a378-4aa9-8dc6-b5acb9539f25"
      },
      "outputs": [
        {
          "output_type": "stream",
          "name": "stderr",
          "text": [
            "100%|██████████| 331M/331M [00:13<00:00, 25.0MB/s]\n"
          ]
        }
      ],
      "source": [
        "import torchaudio\n",
        "librispeech_test = torchaudio.datasets.LIBRISPEECH(\".\", url=\"test-clean\", download=True)"
      ]
    },
    {
      "cell_type": "code",
      "execution_count": null,
      "metadata": {
        "colab": {
          "base_uri": "https://localhost:8080/"
        },
        "id": "xDJtmn4PNeRh",
        "outputId": "baf2eca9-35c7-4627-c551-019cbcc5d865"
      },
      "outputs": [
        {
          "output_type": "stream",
          "name": "stdout",
          "text": [
            "Requirement already satisfied: pyrubberband in /usr/local/lib/python3.10/dist-packages (0.3.0)\n",
            "Requirement already satisfied: six in /usr/local/lib/python3.10/dist-packages (from pyrubberband) (1.16.0)\n",
            "Requirement already satisfied: pysoundfile>=0.8.0 in /usr/local/lib/python3.10/dist-packages (from pyrubberband) (0.9.0.post1)\n",
            "Requirement already satisfied: cffi>=0.6 in /usr/local/lib/python3.10/dist-packages (from pysoundfile>=0.8.0->pyrubberband) (1.16.0)\n",
            "Requirement already satisfied: pycparser in /usr/local/lib/python3.10/dist-packages (from cffi>=0.6->pysoundfile>=0.8.0->pyrubberband) (2.22)\n",
            "Collecting torch-time-stretch\n",
            "  Using cached torch_time_stretch-1.0.3-py3-none-any.whl (4.6 kB)\n",
            "Requirement already satisfied: torch>=1.7.0 in /usr/local/lib/python3.10/dist-packages (from torch-time-stretch) (2.2.1+cu121)\n",
            "Requirement already satisfied: torchaudio>=0.7.0 in /usr/local/lib/python3.10/dist-packages (from torch-time-stretch) (2.2.1+cu121)\n",
            "Collecting primePy>=1.3 (from torch-time-stretch)\n",
            "  Using cached primePy-1.3-py3-none-any.whl (4.0 kB)\n",
            "Requirement already satisfied: filelock in /usr/local/lib/python3.10/dist-packages (from torch>=1.7.0->torch-time-stretch) (3.13.4)\n",
            "Requirement already satisfied: typing-extensions>=4.8.0 in /usr/local/lib/python3.10/dist-packages (from torch>=1.7.0->torch-time-stretch) (4.11.0)\n",
            "Requirement already satisfied: sympy in /usr/local/lib/python3.10/dist-packages (from torch>=1.7.0->torch-time-stretch) (1.12)\n",
            "Requirement already satisfied: networkx in /usr/local/lib/python3.10/dist-packages (from torch>=1.7.0->torch-time-stretch) (3.3)\n",
            "Requirement already satisfied: jinja2 in /usr/local/lib/python3.10/dist-packages (from torch>=1.7.0->torch-time-stretch) (3.1.3)\n",
            "Requirement already satisfied: fsspec in /usr/local/lib/python3.10/dist-packages (from torch>=1.7.0->torch-time-stretch) (2023.6.0)\n",
            "Collecting nvidia-cuda-nvrtc-cu12==12.1.105 (from torch>=1.7.0->torch-time-stretch)\n",
            "  Using cached nvidia_cuda_nvrtc_cu12-12.1.105-py3-none-manylinux1_x86_64.whl (23.7 MB)\n",
            "Collecting nvidia-cuda-runtime-cu12==12.1.105 (from torch>=1.7.0->torch-time-stretch)\n",
            "  Using cached nvidia_cuda_runtime_cu12-12.1.105-py3-none-manylinux1_x86_64.whl (823 kB)\n",
            "Collecting nvidia-cuda-cupti-cu12==12.1.105 (from torch>=1.7.0->torch-time-stretch)\n",
            "  Using cached nvidia_cuda_cupti_cu12-12.1.105-py3-none-manylinux1_x86_64.whl (14.1 MB)\n",
            "Collecting nvidia-cudnn-cu12==8.9.2.26 (from torch>=1.7.0->torch-time-stretch)\n",
            "  Using cached nvidia_cudnn_cu12-8.9.2.26-py3-none-manylinux1_x86_64.whl (731.7 MB)\n",
            "Collecting nvidia-cublas-cu12==12.1.3.1 (from torch>=1.7.0->torch-time-stretch)\n",
            "  Using cached nvidia_cublas_cu12-12.1.3.1-py3-none-manylinux1_x86_64.whl (410.6 MB)\n",
            "Collecting nvidia-cufft-cu12==11.0.2.54 (from torch>=1.7.0->torch-time-stretch)\n",
            "  Using cached nvidia_cufft_cu12-11.0.2.54-py3-none-manylinux1_x86_64.whl (121.6 MB)\n",
            "Collecting nvidia-curand-cu12==10.3.2.106 (from torch>=1.7.0->torch-time-stretch)\n",
            "  Using cached nvidia_curand_cu12-10.3.2.106-py3-none-manylinux1_x86_64.whl (56.5 MB)\n",
            "Collecting nvidia-cusolver-cu12==11.4.5.107 (from torch>=1.7.0->torch-time-stretch)\n",
            "  Using cached nvidia_cusolver_cu12-11.4.5.107-py3-none-manylinux1_x86_64.whl (124.2 MB)\n",
            "Collecting nvidia-cusparse-cu12==12.1.0.106 (from torch>=1.7.0->torch-time-stretch)\n",
            "  Using cached nvidia_cusparse_cu12-12.1.0.106-py3-none-manylinux1_x86_64.whl (196.0 MB)\n",
            "Collecting nvidia-nccl-cu12==2.19.3 (from torch>=1.7.0->torch-time-stretch)\n",
            "  Using cached nvidia_nccl_cu12-2.19.3-py3-none-manylinux1_x86_64.whl (166.0 MB)\n",
            "Collecting nvidia-nvtx-cu12==12.1.105 (from torch>=1.7.0->torch-time-stretch)\n",
            "  Using cached nvidia_nvtx_cu12-12.1.105-py3-none-manylinux1_x86_64.whl (99 kB)\n",
            "Requirement already satisfied: triton==2.2.0 in /usr/local/lib/python3.10/dist-packages (from torch>=1.7.0->torch-time-stretch) (2.2.0)\n",
            "Collecting nvidia-nvjitlink-cu12 (from nvidia-cusolver-cu12==11.4.5.107->torch>=1.7.0->torch-time-stretch)\n",
            "  Using cached nvidia_nvjitlink_cu12-12.4.127-py3-none-manylinux2014_x86_64.whl (21.1 MB)\n",
            "Requirement already satisfied: MarkupSafe>=2.0 in /usr/local/lib/python3.10/dist-packages (from jinja2->torch>=1.7.0->torch-time-stretch) (2.1.5)\n",
            "Requirement already satisfied: mpmath>=0.19 in /usr/local/lib/python3.10/dist-packages (from sympy->torch>=1.7.0->torch-time-stretch) (1.3.0)\n",
            "Installing collected packages: primePy, nvidia-nvtx-cu12, nvidia-nvjitlink-cu12, nvidia-nccl-cu12, nvidia-curand-cu12, nvidia-cufft-cu12, nvidia-cuda-runtime-cu12, nvidia-cuda-nvrtc-cu12, nvidia-cuda-cupti-cu12, nvidia-cublas-cu12, nvidia-cusparse-cu12, nvidia-cudnn-cu12, nvidia-cusolver-cu12, torch-time-stretch\n",
            "Successfully installed nvidia-cublas-cu12-12.1.3.1 nvidia-cuda-cupti-cu12-12.1.105 nvidia-cuda-nvrtc-cu12-12.1.105 nvidia-cuda-runtime-cu12-12.1.105 nvidia-cudnn-cu12-8.9.2.26 nvidia-cufft-cu12-11.0.2.54 nvidia-curand-cu12-10.3.2.106 nvidia-cusolver-cu12-11.4.5.107 nvidia-cusparse-cu12-12.1.0.106 nvidia-nccl-cu12-2.19.3 nvidia-nvjitlink-cu12-12.4.127 nvidia-nvtx-cu12-12.1.105 primePy-1.3 torch-time-stretch-1.0.3\n"
          ]
        }
      ],
      "source": [
        "!pip install pyrubberband\n",
        "!pip install torch-time-stretch"
      ]
    },
    {
      "cell_type": "code",
      "execution_count": null,
      "metadata": {
        "id": "mjk4TdAyUGoo"
      },
      "outputs": [],
      "source": [
        "import os\n",
        "from scipy import signal\n",
        "import pyrubberband as pyrb\n",
        "import torch\n",
        "import torchaudio\n",
        "import torchaudio.transforms as T\n",
        "from torch_time_stretch import time_stretch\n",
        "import numpy as np\n",
        "# import shutil\n",
        "import tempfile\n",
        "import subprocess\n",
        "import soundfile as sf\n",
        "\n",
        "def read_audio(filepath, fs=16000,  mono=True, normalize=False, preemphasis=False):\n",
        "    \"\"\"\n",
        "    Reads audio file stored at <filepath>\n",
        "    Parameters:\n",
        "        filepath (str): audio file path\n",
        "        fs (int, optional): samping rate\n",
        "        mono (boolean, optional): return single channel\n",
        "        normalize(boolean, optional): peak normalization of signal\n",
        "        preemphasis (boolean, optional): apply pre-emphasis filter\n",
        "    Returns:\n",
        "        waveform (tensor): audio signal, dim(N,)\n",
        "    \"\"\"\n",
        "    assert isinstance(filepath, str), \"filepath must be specified as string\"\n",
        "    assert os.path.exists(filepath), f\"{filepath} does not exist.\"\n",
        "\n",
        "    try:\n",
        "        waveform, sr = torchaudio.load(filepath)\n",
        "        # mono channel\n",
        "        if waveform.shape[0] == 2 and mono is True: waveform = waveform[0]\n",
        "        else: waveform = waveform.reshape(-1)\n",
        "        # preemphasis\n",
        "        if preemphasis:\n",
        "            waveform = pre_emphasis(waveform)\n",
        "        # resample\n",
        "        if sr != fs:\n",
        "            resampler = T.Resample(sr, fs, dtype=waveform.dtype)\n",
        "            waveform = resampler(waveform)\n",
        "        # normalize\n",
        "        if normalize:\n",
        "            waveform = rms_normalize(waveform)\n",
        "        return waveform\n",
        "    except Exception as e:\n",
        "        return None\n",
        "\n",
        "\n",
        "def peak_normalize(waveform):\n",
        "    \"\"\"\n",
        "    Peak normalizes the <waveform>\n",
        "    Parameter:\n",
        "        waveform (tensor): waveform, dims: (N,)\n",
        "    \"\"\"\n",
        "    return waveform/torch.max(torch.abs(waveform))\n",
        "\n",
        "\n",
        "def rms_normalize(waveform, r=-10):\n",
        "    \"\"\"\n",
        "    RMS-normalization of  <waveform>\n",
        "    Parameter:\n",
        "        waveform (tensor): waveform, dims: (N,)\n",
        "        rms (float): rms in dB\n",
        "    \"\"\"\n",
        "    current_rms = torch.pow(torch.mean(torch.pow(waveform,2)) ,0.5)\n",
        "    scaling_factor = (10**(r/10))/current_rms\n",
        "    return waveform*scaling_factor\n",
        "\n",
        "\n",
        "def pre_emphasis(waveform, coeff=0.97):\n",
        "    filtered_sig = torch.empty_like(waveform)\n",
        "    filtered_sig[1:] = waveform[1:] - coeff*waveform[:-1]\n",
        "    filtered_sig[0] = waveform[0]\n",
        "    return filtered_sig\n",
        "\n",
        "\n",
        "def add_time_stretch(audio, fs, stretch_rate):\n",
        "    \"\"\"\n",
        "    Adds time stretch to <clean> audio by <stretch_rate> factor.\n",
        "    Parameters:\n",
        "        audio (tensor): waveform, dims: (N,)\n",
        "        fs (float): audio sample rate\n",
        "        stretch_rate (float): playback rate\n",
        "    Returns:\n",
        "        audio_stretch (tensor): time stretched waveform dims: (N*<stretch_rate>,)\n",
        "\n",
        "    \"\"\"\n",
        "    audio_stretch = time_stretch(audio.unsqueeze(0).unsqueeze(0), 1/stretch_rate, fs)\n",
        "    # assert len(audio)/stretch_rate == len(audio_stretch), f\"stretched audio length mismatch. Expected {len(audio)*stretch_rate}, got {len(audio_stretch)}\"\n",
        "    return audio_stretch.squeeze_()\n",
        "\n",
        "\n",
        "def add_pitch_shift_rb(y, sr, shift, tmpdir=None):\n",
        "    \"\"\"\n",
        "    Adds pitch shift to <y> audio sampled at <sr> by <shift> semitones. It calls rubberband package directly; does not use pyrubberband package.\n",
        "    \"\"\"\n",
        "    if isinstance(y, np.ndarray) is False:\n",
        "        y = y.numpy()\n",
        "\n",
        "    if tmpdir is not None:\n",
        "        tempfile.tempdir = tmpdir\n",
        "\n",
        "    # Get the input and output tempfile\n",
        "    fd, infile = tempfile.mkstemp(suffix='.wav')\n",
        "    os.close(fd)\n",
        "    fd, outfile = tempfile.mkstemp(suffix='.wav')\n",
        "    os.close(fd)\n",
        "\n",
        "    sf.write(infile, y, sr)\n",
        "    command = [\"rubberband\", \"-q\", \"--pitch\", str(shift), infile, outfile]\n",
        "    subprocess.run(command, stdout=subprocess.DEVNULL, stderr=subprocess.DEVNULL)\n",
        "\n",
        "    y_out, _ = sf.read(outfile, always_2d=True, dtype=y.dtype)\n",
        "    if y.ndim == 1:\n",
        "        y_out = np.squeeze(y_out)\n",
        "\n",
        "    os.unlink(infile)\n",
        "    os.unlink(outfile)\n",
        "    return torch.from_numpy(y_out).type(torch.float32)\n",
        "\n",
        "\n",
        "def add_pitch_shift(audio, fs, semitone_shift, use_rb=True):\n",
        "    \"\"\"\n",
        "    Adds pitch shift to <clean> audio by <semitone_shit> semitones.\n",
        "    Parameters:\n",
        "        audio (tensor): clean waveform, dims: (N,)\n",
        "        fs (float): audio sample rate\n",
        "        semitone_shift (float): semitones (can be between -12 and 12, but keep it low for good sound quality)\n",
        "    Returns:\n",
        "        audio_shift: pitch shifted added signal (tensor), dims: (N,)\n",
        "\n",
        "    \"\"\"\n",
        "    if use_rb:\n",
        "        audio_shift = pyrb.pitch_shift(audio.numpy(), fs, semitone_shift)\n",
        "        return torch.from_numpy(audio_shift).type(torch.float32)\n",
        "    else:\n",
        "        audio_shift = torchaudio.functional.pitch_shift(audio, fs, semitone_shift)\n",
        "        return audio_shift\n",
        "\n",
        "def add_noise(audio, noise, snr):\n",
        "    \"\"\"\n",
        "    Adds background <noise> to <clean> signal at desired <SNR> level\n",
        "    Parameters:\n",
        "        audio (tensor): clean waveform, dims: (N,)\n",
        "        noise (tensor): noise waveform, dims: (M,)\n",
        "        snr (int): SNR level in dB\n",
        "    Returns:\n",
        "        noisy_audio: noisy signal (tensor), dims: (N,)\n",
        "    \"\"\"\n",
        "    # make equal lengths for clean and noise signals\n",
        "    if len(audio) >= len(noise):\n",
        "        reps = torch.ceil(torch.tensor(len(audio)/len(noise))).int()\n",
        "        noise = torch.tile(noise, (reps,))[:len(audio)]\n",
        "    else:\n",
        "        start_idx = torch.randint(len(noise) - len(audio), (1,))\n",
        "        noise = noise[start_idx:start_idx+len(audio)]\n",
        "\n",
        "    assert len(noise) == len(audio), f\"noise signal {len(noise)} and clean signal {len(audio)} length mismatch\"\n",
        "\n",
        "    # add noise at desired snr\n",
        "    audio_rms = torch.mean(torch.pow(audio, 2))\n",
        "    noise_rms = torch.mean(torch.pow(noise, 2))\n",
        "    factor = torch.pow((audio_rms/noise_rms)/torch.pow(torch.tensor(10), (snr/10)), 0.5)\n",
        "    noise = factor*noise\n",
        "    noisy_audio = audio + noise\n",
        "    assert 10*torch.log10(audio_rms/torch.mean(torch.pow(noise, 2))) - snr < 1e-4, f\"snr mismatch {10*torch.log10(audio_rms/torch.mean(torch.pow(noise, 2))), snr, len(audio), len(noise), audio_rms, torch.mean(torch.pow(noise, 2)), noise_rms, factor, audio, torch.count_nonzero(audio)}\"\n",
        "    return noisy_audio\n",
        "\n",
        "\n",
        "def add_reverb(clean, rir):\n",
        "    \"\"\"\n",
        "    Filters <clean> signal with <rir> to get reverberation effect\n",
        "    Parameters:\n",
        "        clean (tensor): clean waveform, dims: (N,)\n",
        "        rir (tensor): room impulse response, dims: (M,)\n",
        "    Returns:\n",
        "        reverb added signal (tensor), dims: (N,)\n",
        "    \"\"\"\n",
        "    clean = clean.numpy()\n",
        "    rir = rir.numpy()\n",
        "    rir = rir/np.linalg.norm(rir)\n",
        "    # filering\n",
        "    p_max = np.argmax(np.abs(rir))\n",
        "    filtered_clean = signal.convolve(clean, rir, mode=\"full\")\n",
        "\n",
        "    # time offset\n",
        "    e = np.empty_like(filtered_clean, dtype=np.float32)\n",
        "    e[-p_max:] = 0.0\n",
        "    e[:-p_max] = filtered_clean[p_max:]\n",
        "    # filtered_clean = e.copy()\n",
        "    # e=None\n",
        "    filtered_clean = e[:len(clean)]\n",
        "    assert(len(filtered_clean)==len(clean))\n",
        "    filtered_clean = torch.from_numpy(filtered_clean)\n",
        "    return filtered_clean\n",
        "\n",
        "\n",
        "def add_noise_reverb(audio, noise, snr, rir):\n",
        "    \"\"\"\n",
        "    Adds background <noise> at desired <snr> level and reveberation using <rir> to <clean> signal\n",
        "    Parameters:\n",
        "        audio (tensor): clean waveform, dims: (N,)\n",
        "        noise (tensor): noise waveform, dims: (M,)\n",
        "        snr (int): SNR level in dB\n",
        "        rir (tensor): room impulse response, dims: (M,)\n",
        "    Returns:\n",
        "        noise and reverb added signal (tensor), dims: (N,)\n",
        "    \"\"\"\n",
        "    audio_reverb = add_reverb(audio, rir)\n",
        "    noise_reverb = add_reverb(noise, rir)\n",
        "    noise_reverb_clean = add_noise(audio_reverb, noise_reverb, snr)\n",
        "    return noise_reverb_clean"
      ]
    },
    {
      "cell_type": "code",
      "execution_count": null,
      "metadata": {
        "colab": {
          "base_uri": "https://localhost:8080/",
          "height": 265,
          "referenced_widgets": [
            "0ad702e9c974409a97c1e2847a190f49",
            "19c134b13ed2474994571a9aa0e7727d",
            "e804b8bf3f9b4ba198ed9adf6ba1c490",
            "f7aa75c06f8d4c3b9037851cdd72536c",
            "c41568df849e41b3a2591022181a39e7",
            "3619fbf3c7c14972ba3ec6bff07d4688",
            "af890b7986244dd3bd0765d0f9bf594f",
            "b362cd588c1449daae5d4bb72cf89389",
            "9fec880d850b4f1986dfe5be1e12fba0",
            "bdcbe5fd5e2e46b0b50e8a03ec4841f1",
            "1bd6d00af37d4fa0b089e163bd43ed5b",
            "61bea5c8f97b4f2b92dba54c87b8b40a",
            "2a1bcdd70b2e4f2fa9a67c7fa40ffb17",
            "58e515023b614dba996d3cace6decf02",
            "0fd07f898a80407a9fbb1546f58e09e2",
            "dd437402f39f404e9e67925603d6eea1",
            "d4c083e7c0764e1e9a57d5994f0bb229",
            "63dd2aeb640c4f1b947d93d707bcc02a",
            "a02cf9dd0bf449088ef235b1c1765dbd",
            "889ed79efe904b2d8058b6ab2205f610",
            "2e3b55a61a3f42d9bbf0468de5383def",
            "c79873d592754fdd8108e305496fb90e",
            "157657097c724c908ea6ec8ee0b1aba7",
            "c5d8f2becff046d5ac0ef44b3ad7cf52",
            "b8fca6210d534b5285635f56527cbd84",
            "7e52350d2ca74d579afade12358ccc08",
            "906b20b696294780bec2dc4abbea81df",
            "2abeb620d29f409f87e98c77fb0f7146",
            "b5116614d8f244b78f068f023ee3fa4d",
            "2d517306c6474aa395524d41228bf8b0",
            "916ac0108c724121b986178f2a1468f7",
            "fc7d46e817ce4c9a851d71bd21ea6ce0",
            "5f3447a726c84d22a5aa4e6450c4960e",
            "42ba1d8121c64270b5723316f893c34f",
            "83201610dcef42ce9dc7e0f9e1e96c52",
            "0bd253b819234544a5c016a1d01a6eee",
            "e3db79993f6843ff8dd69af94f2c7e4e",
            "edfce86cdf3642ceae3e6ed992242fea",
            "ab662aeaeb37402d9a7afba206fb5d5d",
            "5a03c9c3168e4b6480fb6bb920438181",
            "d65a8fb1be31428c990bd1c575835635",
            "63c720ef026f4916945f291183ed6842",
            "3f4af032bb564219bc326a669435a349",
            "11fc7eb1a26541cdb4c3cd2c6570092e",
            "98bf1879cbf94690a17cc0d96bd800c1",
            "a149a964bf6f4ef690d7b59c63295b07",
            "5e2b1004aa6945bea352ff62bb0835fe",
            "a847fb353a6340249425c5bee1d89f79",
            "1113a59c1b904a7497679d8aff1f4157",
            "c8fe714318a044949babda52e88533e9",
            "08df6ffce42f45bc8bb7491ab3d8d0b5",
            "a4785010a0b64e3793c1d97dc4fc44de",
            "1a4d69d7645841b5a420e41037c8000e",
            "0c22de8ed0c6475a9cdb33f990bd9cdf",
            "7d29476570344ed1b303e28d1fe931ac",
            "e4629078d09340dabed89b15462414db",
            "e75cc118b0cf48c591b51dcc75076375",
            "f6502d19516f4cfdaa44100b9ffb4d66",
            "c568e4c7f7604d24b2560df71e2cd3ad",
            "0569147b1fc74a148f599faaf4961a6b",
            "341fbb26a78c4a8e8afa1ec1d5398063",
            "c9b96be564814b5cae329af1b3982d8f",
            "85fb6b2e92944fe3b9558ea1a02d8ea1",
            "24160d3f67a54518a05c8cc1abf5f646",
            "02696174bbcd4071af685f98c9363564",
            "e7bc55d2dfdf4ddf940341647404ba30"
          ]
        },
        "id": "CNC0eAoNUJJ6",
        "outputId": "e77207d5-aeb7-4c7e-8e37-b1ed48a84b7c"
      },
      "outputs": [
        {
          "output_type": "display_data",
          "data": {
            "text/plain": [
              "preprocessor_config.json:   0%|          | 0.00/212 [00:00<?, ?B/s]"
            ],
            "application/vnd.jupyter.widget-view+json": {
              "version_major": 2,
              "version_minor": 0,
              "model_id": "0ad702e9c974409a97c1e2847a190f49"
            }
          },
          "metadata": {}
        },
        {
          "output_type": "display_data",
          "data": {
            "text/plain": [
              "tokenizer_config.json:   0%|          | 0.00/138 [00:00<?, ?B/s]"
            ],
            "application/vnd.jupyter.widget-view+json": {
              "version_major": 2,
              "version_minor": 0,
              "model_id": "61bea5c8f97b4f2b92dba54c87b8b40a"
            }
          },
          "metadata": {}
        },
        {
          "output_type": "display_data",
          "data": {
            "text/plain": [
              "config.json:   0%|          | 0.00/1.38k [00:00<?, ?B/s]"
            ],
            "application/vnd.jupyter.widget-view+json": {
              "version_major": 2,
              "version_minor": 0,
              "model_id": "157657097c724c908ea6ec8ee0b1aba7"
            }
          },
          "metadata": {}
        },
        {
          "output_type": "display_data",
          "data": {
            "text/plain": [
              "vocab.json:   0%|          | 0.00/291 [00:00<?, ?B/s]"
            ],
            "application/vnd.jupyter.widget-view+json": {
              "version_major": 2,
              "version_minor": 0,
              "model_id": "42ba1d8121c64270b5723316f893c34f"
            }
          },
          "metadata": {}
        },
        {
          "output_type": "display_data",
          "data": {
            "text/plain": [
              "special_tokens_map.json:   0%|          | 0.00/85.0 [00:00<?, ?B/s]"
            ],
            "application/vnd.jupyter.widget-view+json": {
              "version_major": 2,
              "version_minor": 0,
              "model_id": "98bf1879cbf94690a17cc0d96bd800c1"
            }
          },
          "metadata": {}
        },
        {
          "output_type": "display_data",
          "data": {
            "text/plain": [
              "pytorch_model.bin:   0%|          | 0.00/1.26G [00:00<?, ?B/s]"
            ],
            "application/vnd.jupyter.widget-view+json": {
              "version_major": 2,
              "version_minor": 0,
              "model_id": "e4629078d09340dabed89b15462414db"
            }
          },
          "metadata": {}
        },
        {
          "output_type": "stream",
          "name": "stderr",
          "text": [
            "Some weights of HubertModel were not initialized from the model checkpoint at facebook/hubert-large-ls960-ft and are newly initialized: ['hubert.encoder.pos_conv_embed.conv.parametrizations.weight.original0', 'hubert.encoder.pos_conv_embed.conv.parametrizations.weight.original1']\n",
            "You should probably TRAIN this model on a down-stream task to be able to use it for predictions and inference.\n"
          ]
        }
      ],
      "source": [
        "from transformers import AutoProcessor, HubertModel\n",
        "import torch\n",
        "import os\n",
        "\n",
        "processor = AutoProcessor.from_pretrained(\"facebook/hubert-large-ls960-ft\")\n",
        "model = HubertModel.from_pretrained(\"facebook/hubert-large-ls960-ft\")"
      ]
    },
    {
      "cell_type": "code",
      "execution_count": null,
      "metadata": {
        "id": "VMjGaDVt_qKi"
      },
      "outputs": [],
      "source": [
        "import glob\n",
        "# Read paths of all flac files in the directory\n",
        "flac_files = glob.glob(\"/content/LibriSpeech/test-clean/**/*.flac\", recursive=True)"
      ]
    },
    {
      "cell_type": "code",
      "execution_count": null,
      "metadata": {
        "id": "xtf075O8yC1O"
      },
      "outputs": [],
      "source": [
        "def get_hidden_states(audio_file_path):\n",
        "    speech = read_audio(audio_file_path)\n",
        "    input_values = processor(speech, sampling_rate=16000, return_tensors=\"pt\").input_values  # Batch size 1\n",
        "    hidden_states = model(input_values).last_hidden_state\n",
        "    return hidden_states"
      ]
    },
    {
      "cell_type": "code",
      "source": [
        "file_path = \"/content/LibriSpeech/test-clean/1089/134686/1089-134686-0000.flac\"\n",
        "results = get_hidden_states(filepath)\n",
        "print(results)"
      ],
      "metadata": {
        "colab": {
          "base_uri": "https://localhost:8080/",
          "height": 183
        },
        "id": "OZgHqq7BYT0M",
        "outputId": "bbceaf3a-8aaf-4cec-f564-50823f6e5bf4"
      },
      "execution_count": null,
      "outputs": [
        {
          "output_type": "error",
          "ename": "NameError",
          "evalue": "name 'filepath' is not defined",
          "traceback": [
            "\u001b[0;31m---------------------------------------------------------------------------\u001b[0m",
            "\u001b[0;31mNameError\u001b[0m                                 Traceback (most recent call last)",
            "\u001b[0;32m<ipython-input-8-474050fa724c>\u001b[0m in \u001b[0;36m<cell line: 2>\u001b[0;34m()\u001b[0m\n\u001b[1;32m      1\u001b[0m \u001b[0mfile_path\u001b[0m \u001b[0;34m=\u001b[0m \u001b[0;34m\"/content/LibriSpeech/test-clean/1089/134686/1089-134686-0000.flac\"\u001b[0m\u001b[0;34m\u001b[0m\u001b[0;34m\u001b[0m\u001b[0m\n\u001b[0;32m----> 2\u001b[0;31m \u001b[0mresults\u001b[0m \u001b[0;34m=\u001b[0m \u001b[0mget_hidden_states\u001b[0m\u001b[0;34m(\u001b[0m\u001b[0mfilepath\u001b[0m\u001b[0;34m)\u001b[0m\u001b[0;34m\u001b[0m\u001b[0;34m\u001b[0m\u001b[0m\n\u001b[0m\u001b[1;32m      3\u001b[0m \u001b[0mprint\u001b[0m\u001b[0;34m(\u001b[0m\u001b[0mresults\u001b[0m\u001b[0;34m)\u001b[0m\u001b[0;34m\u001b[0m\u001b[0;34m\u001b[0m\u001b[0m\n",
            "\u001b[0;31mNameError\u001b[0m: name 'filepath' is not defined"
          ]
        }
      ]
    },
    {
      "cell_type": "code",
      "execution_count": null,
      "metadata": {
        "colab": {
          "base_uri": "https://localhost:8080/"
        },
        "id": "U9r_B7rsScLZ",
        "outputId": "bf075bc0-f5ae-4030-dd51-615598b5a358"
      },
      "outputs": [
        {
          "output_type": "stream",
          "name": "stdout",
          "text": [
            "['/content/LibriSpeech/test-clean/1284/1181/1284-1181-0000.flac', '/content/LibriSpeech/test-clean/1284/1181/1284-1181-0011.flac', '/content/LibriSpeech/test-clean/1284/1181/1284-1181-0008.flac', '/content/LibriSpeech/test-clean/1284/1181/1284-1181-0019.flac', '/content/LibriSpeech/test-clean/1284/1181/1284-1181-0014.flac', '/content/LibriSpeech/test-clean/1284/1181/1284-1181-0010.flac', '/content/LibriSpeech/test-clean/1284/1181/1284-1181-0006.flac', '/content/LibriSpeech/test-clean/1284/1181/1284-1181-0012.flac', '/content/LibriSpeech/test-clean/1284/1181/1284-1181-0005.flac', '/content/LibriSpeech/test-clean/1284/1181/1284-1181-0009.flac', '/content/LibriSpeech/test-clean/1284/1181/1284-1181-0003.flac', '/content/LibriSpeech/test-clean/1284/1181/1284-1181-0018.flac', '/content/LibriSpeech/test-clean/1284/1181/1284-1181-0004.flac', '/content/LibriSpeech/test-clean/1284/1181/1284-1181-0007.flac', '/content/LibriSpeech/test-clean/1284/1181/1284-1181-0002.flac', '/content/LibriSpeech/test-clean/1284/1181/1284-1181-0020.flac', '/content/LibriSpeech/test-clean/1284/1181/1284-1181-0001.flac', '/content/LibriSpeech/test-clean/1284/1181/1284-1181-0017.flac', '/content/LibriSpeech/test-clean/1284/1181/1284-1181-0013.flac', '/content/LibriSpeech/test-clean/1284/1181/1284-1181-0015.flac', '/content/LibriSpeech/test-clean/1284/1181/1284-1181-0016.flac', '/content/LibriSpeech/test-clean/1284/1181/1284-1181-0021.flac', '/content/LibriSpeech/test-clean/1284/1180/1284-1180-0010.flac', '/content/LibriSpeech/test-clean/1284/1180/1284-1180-0028.flac', '/content/LibriSpeech/test-clean/1284/1180/1284-1180-0001.flac', '/content/LibriSpeech/test-clean/1284/1180/1284-1180-0025.flac', '/content/LibriSpeech/test-clean/1284/1180/1284-1180-0016.flac', '/content/LibriSpeech/test-clean/1284/1180/1284-1180-0002.flac', '/content/LibriSpeech/test-clean/1284/1180/1284-1180-0024.flac', '/content/LibriSpeech/test-clean/1284/1180/1284-1180-0013.flac', '/content/LibriSpeech/test-clean/1284/1180/1284-1180-0004.flac', '/content/LibriSpeech/test-clean/1284/1180/1284-1180-0009.flac', '/content/LibriSpeech/test-clean/1284/1180/1284-1180-0003.flac', '/content/LibriSpeech/test-clean/1284/1180/1284-1180-0017.flac', '/content/LibriSpeech/test-clean/1284/1180/1284-1180-0030.flac', '/content/LibriSpeech/test-clean/1284/1180/1284-1180-0018.flac', '/content/LibriSpeech/test-clean/1284/1180/1284-1180-0008.flac', '/content/LibriSpeech/test-clean/1284/1180/1284-1180-0019.flac', '/content/LibriSpeech/test-clean/1284/1180/1284-1180-0000.flac', '/content/LibriSpeech/test-clean/1284/1180/1284-1180-0012.flac']\n"
          ]
        }
      ],
      "source": [
        "files_subset = flac_files[:40]\n",
        "\n",
        "print(files_subset)"
      ]
    },
    {
      "cell_type": "code",
      "execution_count": null,
      "metadata": {
        "colab": {
          "base_uri": "https://localhost:8080/"
        },
        "id": "3R3FrGA0YdU1",
        "outputId": "77bfbbca-6ee4-4d33-e2cf-3bd987043faf"
      },
      "outputs": [
        {
          "output_type": "stream",
          "name": "stdout",
          "text": [
            "2D Output:\n",
            "[[ 0.02852088  0.5231188   0.46467522 ...  0.22120957 -0.15339547\n",
            "  -0.0025341 ]\n",
            " [ 0.02780315  0.60151535  0.6295369  ...  0.28991196 -0.16198729\n",
            "   0.1792533 ]\n",
            " [-0.04077766  0.40911672  0.57719296 ...  0.28912386 -0.20530939\n",
            "   0.28114834]\n",
            " ...\n",
            " [ 0.13982956  0.4213294   0.58786076 ...  0.23306473 -0.17607182\n",
            "   0.43568128]\n",
            " [ 0.00983381  0.3988509   0.5294419  ...  0.16754445 -0.23442541\n",
            "   0.34679508]\n",
            " [-0.00092295  0.440228    0.34626007 ...  0.14803196 -0.30933875\n",
            "   0.10344701]]\n"
          ]
        }
      ],
      "source": [
        "import numpy as np\n",
        "\n",
        "# Initialize an empty list to store all flattened arrays\n",
        "all_flattened_arrays = []\n",
        "\n",
        "# Iterate over each file path\n",
        "for file_path in files_subset:\n",
        "    #print(\"File:\", file_path)\n",
        "    hidden_states = get_hidden_states(file_path)\n",
        "    hidden_states_np = hidden_states.detach().cpu().numpy()  # Convert to NumPy array\n",
        "    #print(hidden_states_np.shape)\n",
        "    #print(hidden_states_np)\n",
        "\n",
        "    # Flatten the 3D array to make it 2D\n",
        "    flattened_array = hidden_states_np.reshape(-1, hidden_states_np.shape[-1])\n",
        "\n",
        "    # Append the flattened array to the list\n",
        "    all_flattened_arrays.append(flattened_array)\n",
        "\n",
        "# Convert the list of flattened arrays into a 2D NumPy array\n",
        "all_flattened_arrays_stacked = np.vstack(all_flattened_arrays)\n",
        "\n",
        "# Now 'all_flattened_arrays_stacked' is a 2D NumPy array containing all flattened arrays\n",
        "# Print the 2D output\n",
        "print(\"2D Output:\")\n",
        "print(all_flattened_arrays_stacked)"
      ]
    },
    {
      "cell_type": "code",
      "execution_count": null,
      "metadata": {
        "id": "WTTtAYrGFSkJ"
      },
      "outputs": [],
      "source": [
        "np.save('all_flattened_arrays_stacked.npy', all_flattened_arrays_stacked)"
      ]
    },
    {
      "cell_type": "code",
      "execution_count": null,
      "metadata": {
        "id": "JcYEUHziUri5"
      },
      "outputs": [],
      "source": [
        "print(all_flattened_arrays_stacked.shape)"
      ]
    },
    {
      "cell_type": "code",
      "execution_count": null,
      "metadata": {
        "id": "eoy0Uz-wW5x4"
      },
      "outputs": [],
      "source": [
        "from sklearn.cluster import KMeans"
      ]
    },
    {
      "cell_type": "code",
      "execution_count": null,
      "metadata": {
        "id": "2BxOzkIB30DO"
      },
      "outputs": [],
      "source": [
        "del all_flattened_arrays"
      ]
    },
    {
      "cell_type": "code",
      "execution_count": null,
      "metadata": {
        "colab": {
          "background_save": true
        },
        "id": "jtrUD1pNV3Cn",
        "outputId": "766a1f73-d2ff-42b4-8586-1e5e4bea25bc"
      },
      "outputs": [
        {
          "name": "stdout",
          "output_type": "stream",
          "text": [
            "Cluster Centroids:\n",
            "[[-0.1457602   0.11175609  0.1577729  ... -0.2151109  -0.19284344\n",
            "   0.0604759 ]\n",
            " [ 0.15501416  0.4414939   0.32382852 ... -0.27839112 -0.2798587\n",
            "   0.20324652]\n",
            " [ 0.02543256  0.38258094  0.22035505 ...  1.3664354  -0.13441066\n",
            "  -0.23539872]\n",
            " ...\n",
            " [ 0.29496878  0.24621683  0.52990144 ... -0.21749157 -0.23726048\n",
            "   0.35653123]\n",
            " [ 0.18616715  0.13187537  0.24561614 ...  0.07052195 -0.2559101\n",
            "   0.11617916]\n",
            " [ 0.30711767  0.18698286  0.0132343  ...  0.29051888  0.13385889\n",
            "   0.507981  ]]\n"
          ]
        }
      ],
      "source": [
        "# Convert the list of flattened arrays into a 2D NumPy array\n",
        "#all_flattened_arrays_stacked = np.vstack(all_flattened_arrays)\n",
        "\n",
        "# Apply k-means clustering\n",
        "kmeans = KMeans(n_clusters=1024)\n",
        "kmeans.fit(all_flattened_arrays_stacked)\n",
        "\n",
        "# Get the cluster centroids\n",
        "cluster_centroids = kmeans.cluster_centers_\n",
        "\n",
        "np.save('cluster_centroids.npy', cluster_centroids)\n",
        "# Print the cluster centroids\n",
        "print(\"Cluster Centroids:\")\n",
        "print(cluster_centroids)"
      ]
    },
    {
      "cell_type": "code",
      "execution_count": null,
      "metadata": {
        "colab": {
          "base_uri": "https://localhost:8080/"
        },
        "id": "eLqDSSDEWu-t",
        "outputId": "d1d704fa-5bfc-4804-ffb5-7809cfce8ce3"
      },
      "outputs": [
        {
          "name": "stdout",
          "output_type": "stream",
          "text": [
            "(1024, 1024)\n"
          ]
        }
      ],
      "source": [
        "print(cluster_centroids.shape)"
      ]
    },
    {
      "cell_type": "markdown",
      "metadata": {
        "id": "_q0Sd50Arymv"
      },
      "source": [
        "###Function to assign cluster indices"
      ]
    },
    {
      "cell_type": "code",
      "execution_count": null,
      "metadata": {
        "id": "rdCOlPBnAO21"
      },
      "outputs": [],
      "source": [
        "def get_hidden_states_clean(audio_file_path):\n",
        "    speech = read_audio(audio_file_path)\n",
        "    input_values = processor(speech, sampling_rate=16000, return_tensors=\"pt\").input_values  # Batch size 1\n",
        "    hidden_states = model(input_values).last_hidden_state\n",
        "    return hidden_states"
      ]
    },
    {
      "cell_type": "code",
      "execution_count": null,
      "metadata": {
        "id": "355zvFfzAWHA"
      },
      "outputs": [],
      "source": [
        "def get_hidden_states_noisy(noisy_audio):\n",
        "    input_values = processor(noisy_audio, sampling_rate=16000, return_tensors=\"pt\").input_values  # Batch size 1\n",
        "    hidden_states = model(input_values).last_hidden_state\n",
        "    return hidden_states"
      ]
    },
    {
      "cell_type": "code",
      "execution_count": null,
      "metadata": {
        "id": "u7NT1vYU052G"
      },
      "outputs": [],
      "source": [
        "import numpy as np\n",
        "\n",
        "def compare_clean_noisy_files(file_paths, kmeans_model, noise_data, snr, offset_ms):\n",
        "    # Initialize variables to store total states\n",
        "    total_original_states = 0\n",
        "    total_noise_states = 0\n",
        "    total_diff_states = 0\n",
        "\n",
        "    # Iterate over each file path\n",
        "    for file_path in file_paths:\n",
        "        # Assign clean files to clusters\n",
        "        clean_cluster_indices = assign_clean_files_to_clusters(file_path, kmeans_model)\n",
        "\n",
        "        # Assign noisy files to clusters\n",
        "        noisy_cluster_indices = assign_noisy_files_to_clusters(file_path, kmeans_model, noise_data, snr, offset_ms)\n",
        "\n",
        "        # Compare cluster indices between clean and noisy files\n",
        "        num_original_states, num_noise_states, num_diff_states = compare_cluster_indices(clean_cluster_indices, noisy_cluster_indices)\n",
        "\n",
        "        # Add to total states\n",
        "        total_original_states += num_original_states\n",
        "        total_noise_states += num_noise_states\n",
        "        total_diff_states += num_diff_states\n",
        "\n",
        "    # Calculate total percentage changed\n",
        "    total_percentage_changed = (total_diff_states / total_original_states) * 100\n",
        "\n",
        "    return total_original_states, total_noise_states, total_diff_states, total_percentage_changed"
      ]
    },
    {
      "cell_type": "code",
      "execution_count": null,
      "metadata": {
        "id": "K-zUFRsy0YmA"
      },
      "outputs": [],
      "source": [
        "import os\n",
        "import torch\n",
        "import torchaudio\n",
        "import torch.nn.functional as F\n",
        "import numpy as np\n",
        "from sklearn.cluster import KMeans\n",
        "import numpy as np\n",
        "def assign_noisy_files_to_clusters(file_path, kmeans_model, noise_data, snr, offset_ms):\n",
        "    # Read audio data\n",
        "    file_path_data = read_audio(file_path)\n",
        "    # Add noise to audio data\n",
        "    noisy_audio = add_noise(file_path_data, noise_data, snr)\n",
        "    # Add time offset to the noisy audio\n",
        "    if offset_ms != 0:\n",
        "        sample_rate = 16000  # Assuming 16kHz sample rate, adjust according to your case\n",
        "        offset_samples = int(sample_rate * offset_ms / 1000)\n",
        "        noisy_audio = F.pad(noisy_audio, (offset_samples, 0))[:-offset_samples]\n",
        "    # Get hidden states from noisy audio\n",
        "    hidden_states_new = get_hidden_states_noisy(noisy_audio)\n",
        "    # Convert hidden states to NumPy array\n",
        "    hidden_states_np_new = hidden_states_new.detach().cpu().numpy()\n",
        "    # Flatten the 3D array to make it 2D\n",
        "    flattened_array_new = hidden_states_np_new.reshape(-1, hidden_states_np_new.shape[-1])\n",
        "    # Assign the units to clusters using the trained KMeans model\n",
        "    cluster_indices_new_noisy = kmeans_model.predict(flattened_array_new)\n",
        "\n",
        "    return cluster_indices_new_noisy\n",
        "\n",
        "def assign_clean_files_to_clusters(file_path, kmeans_model):\n",
        "    # Get hidden states from clean audio\n",
        "    hidden_states_new = get_hidden_states_clean(file_path)\n",
        "    # Convert hidden states to NumPy array\n",
        "    hidden_states_np_new = hidden_states_new.detach().cpu().numpy()\n",
        "    # Flatten the 3D array to make it 2D\n",
        "    flattened_array_new = hidden_states_np_new.reshape(-1, hidden_states_np_new.shape[-1])\n",
        "    # Assign the units to clusters using the trained KMeans model\n",
        "    cluster_indices_new_clean = kmeans_model.predict(flattened_array_new)\n",
        "\n",
        "    return cluster_indices_new_clean\n",
        "\n",
        "def compare_cluster_indices(cluster_indices_run1, cluster_indices_run2):\n",
        "    # Calculate number of original and noise states\n",
        "    num_original_states = len(cluster_indices_run1)\n",
        "    num_noise_states = len(cluster_indices_run2)\n",
        "    # Calculate number of different states\n",
        "    num_diff_states = np.sum(np.array(cluster_indices_run1) != np.array(cluster_indices_run2))\n",
        "    # Calculate percentage of changed states\n",
        "    #percentage_changed_states = (num_diff_states / num_original_states) * 100\n",
        "\n",
        "    return num_original_states, num_noise_states, num_diff_states"
      ]
    },
    {
      "cell_type": "code",
      "execution_count": null,
      "metadata": {
        "colab": {
          "base_uri": "https://localhost:8080/"
        },
        "id": "jxIQetMjIet7",
        "outputId": "10503906-a130-4814-9a63-cede6a006c16"
      },
      "outputs": [
        {
          "name": "stdout",
          "output_type": "stream",
          "text": [
            "Number of Original States: 20820\n",
            "Number of Noise States (2nd run): 20820\n",
            "Number of Different States: 15757\n",
            "Percentage of Changed States: 75.68203650336216\n"
          ]
        }
      ],
      "source": [
        "new_files_subset = flac_files[400:450]\n",
        "noise = '/content/Babble.wav'\n",
        "noise_data = read_audio(noise)\n",
        "snr = 0\n",
        "offset_ms = 10\n",
        "num_original_states, num_noise_states, num_diff_states, percentage_changed_states = compare_clean_noisy_files(new_files_subset, kmeans, noise_data, snr, offset_ms)\n",
        "\n",
        "print(\"Number of Original States:\", num_original_states)\n",
        "print(\"Number of Noise States (2nd run):\", num_noise_states)\n",
        "print(\"Number of Different States:\", num_diff_states)\n",
        "print(\"Percentage of Changed States:\", percentage_changed_states)"
      ]
    },
    {
      "cell_type": "code",
      "execution_count": null,
      "metadata": {
        "colab": {
          "base_uri": "https://localhost:8080/"
        },
        "id": "kxGt9kiZIg0W",
        "outputId": "1c39ae43-e93c-4b6a-889a-409911572167"
      },
      "outputs": [
        {
          "name": "stdout",
          "output_type": "stream",
          "text": [
            "Number of Original States: 47510\n",
            "Number of Noise States (2nd run): 47510\n",
            "Number of Different States: 33960\n",
            "Percentage of Changed States: 71.4796884866344\n"
          ]
        }
      ],
      "source": [
        "new_files_subset = flac_files[450:600]\n",
        "noise = '/content/Babble.wav'\n",
        "noise_data = read_audio(noise)\n",
        "snr = 0\n",
        "offset_ms = 10\n",
        "num_original_states, num_noise_states, num_diff_states, percentage_changed_states = compare_clean_noisy_files(new_files_subset, kmeans, noise_data, snr, offset_ms)\n",
        "\n",
        "print(\"Number of Original States:\", num_original_states)\n",
        "print(\"Number of Noise States (2nd run):\", num_noise_states)\n",
        "print(\"Number of Different States:\", num_diff_states)\n",
        "print(\"Percentage of Changed States:\", percentage_changed_states)"
      ]
    },
    {
      "cell_type": "code",
      "execution_count": null,
      "metadata": {
        "colab": {
          "base_uri": "https://localhost:8080/"
        },
        "id": "8I5eG-JMIjmx",
        "outputId": "6d732c56-cdd2-4d74-8569-a8e64b743326"
      },
      "outputs": [
        {
          "name": "stdout",
          "output_type": "stream",
          "text": [
            "Number of Original States: 30489\n",
            "Number of Noise States (2nd run): 30489\n",
            "Number of Different States: 24359\n",
            "Percentage of Changed States: 79.89438813998491\n"
          ]
        }
      ],
      "source": [
        "new_files_subset = flac_files[:100]\n",
        "noise = '/content/Babble.wav'\n",
        "noise_data = read_audio(noise)\n",
        "snr = 0\n",
        "offset_ms = 10\n",
        "num_original_states, num_noise_states, num_diff_states, percentage_changed_states = compare_clean_noisy_files(new_files_subset, kmeans, noise_data, snr, offset_ms)\n",
        "\n",
        "print(\"Number of Original States:\", num_original_states)\n",
        "print(\"Number of Noise States (2nd run):\", num_noise_states)\n",
        "print(\"Number of Different States:\", num_diff_states)\n",
        "print(\"Percentage of Changed States:\", percentage_changed_states)"
      ]
    },
    {
      "cell_type": "code",
      "execution_count": null,
      "metadata": {
        "colab": {
          "base_uri": "https://localhost:8080/"
        },
        "id": "zxWV6WKpIldn",
        "outputId": "f5896bfa-587e-40ec-ef86-727f49f902e8"
      },
      "outputs": [
        {
          "name": "stdout",
          "output_type": "stream",
          "text": [
            "Number of Original States: 33324\n",
            "Number of Noise States (2nd run): 33324\n",
            "Number of Different States: 26289\n",
            "Percentage of Changed States: 78.88908894490457\n"
          ]
        }
      ],
      "source": [
        "new_files_subset = flac_files[100:200]\n",
        "noise = '/content/Babble.wav'\n",
        "noise_data = read_audio(noise)\n",
        "snr = 0\n",
        "offset_ms = 10\n",
        "num_original_states, num_noise_states, num_diff_states, percentage_changed_states = compare_clean_noisy_files(new_files_subset, kmeans, noise_data, snr, offset_ms)\n",
        "\n",
        "print(\"Number of Original States:\", num_original_states)\n",
        "print(\"Number of Noise States (2nd run):\", num_noise_states)\n",
        "print(\"Number of Different States:\", num_diff_states)\n",
        "print(\"Percentage of Changed States:\", percentage_changed_states)"
      ]
    },
    {
      "cell_type": "code",
      "execution_count": null,
      "metadata": {
        "colab": {
          "base_uri": "https://localhost:8080/"
        },
        "id": "IEHDUuEKIrpR",
        "outputId": "ceec28e4-e459-470e-b231-88df9508f943"
      },
      "outputs": [
        {
          "name": "stdout",
          "output_type": "stream",
          "text": [
            "Number of Original States: 33353\n",
            "Number of Noise States (2nd run): 33353\n",
            "Number of Different States: 25749\n",
            "Percentage of Changed States: 77.20145114382514\n"
          ]
        }
      ],
      "source": [
        "new_files_subset = flac_files[200:300]\n",
        "noise = '/content/Babble.wav'\n",
        "noise_data = read_audio(noise)\n",
        "snr = 0\n",
        "offset_ms = 10\n",
        "num_original_states, num_noise_states, num_diff_states, percentage_changed_states = compare_clean_noisy_files(new_files_subset, kmeans, noise_data, snr, offset_ms)\n",
        "\n",
        "print(\"Number of Original States:\", num_original_states)\n",
        "print(\"Number of Noise States (2nd run):\", num_noise_states)\n",
        "print(\"Number of Different States:\", num_diff_states)\n",
        "print(\"Percentage of Changed States:\", percentage_changed_states)"
      ]
    },
    {
      "cell_type": "code",
      "execution_count": null,
      "metadata": {
        "colab": {
          "base_uri": "https://localhost:8080/"
        },
        "id": "guoHvxJEItfy",
        "outputId": "a5e9db71-59fb-4b0e-f81b-6137e1c67993"
      },
      "outputs": [
        {
          "name": "stdout",
          "output_type": "stream",
          "text": [
            "Number of Original States: 16258\n",
            "Number of Noise States (2nd run): 16258\n",
            "Number of Different States: 12950\n",
            "Percentage of Changed States: 79.65309386148358\n"
          ]
        }
      ],
      "source": [
        "new_files_subset = flac_files[300:350]\n",
        "noise = '/content/Babble.wav'\n",
        "noise_data = read_audio(noise)\n",
        "snr = 0\n",
        "offset_ms = 10\n",
        "num_original_states, num_noise_states, num_diff_states, percentage_changed_states = compare_clean_noisy_files(new_files_subset, kmeans, noise_data, snr, offset_ms)\n",
        "\n",
        "print(\"Number of Original States:\", num_original_states)\n",
        "print(\"Number of Noise States (2nd run):\", num_noise_states)\n",
        "print(\"Number of Different States:\", num_diff_states)\n",
        "print(\"Percentage of Changed States:\", percentage_changed_states)"
      ]
    },
    {
      "cell_type": "code",
      "execution_count": null,
      "metadata": {
        "colab": {
          "base_uri": "https://localhost:8080/"
        },
        "id": "1Er4NEy8Zncx",
        "outputId": "ad47a24d-8d70-4435-d687-898d29a51889"
      },
      "outputs": [
        {
          "name": "stdout",
          "output_type": "stream",
          "text": [
            "Number of Original States: 18116\n",
            "Number of Noise States (2nd run): 18116\n",
            "Number of Different States: 14817\n",
            "Percentage of Changed States: 81.78957827334953\n"
          ]
        }
      ],
      "source": [
        "new_files_subset = flac_files[350:400]\n",
        "noise = '/content/Babble.wav'\n",
        "noise_data = read_audio(noise)\n",
        "snr = 0\n",
        "offset_ms = 10\n",
        "num_original_states, num_noise_states, num_diff_states, percentage_changed_states = compare_clean_noisy_files(new_files_subset, kmeans, noise_data, snr, offset_ms)\n",
        "\n",
        "print(\"Number of Original States:\", num_original_states)\n",
        "print(\"Number of Noise States (2nd run):\", num_noise_states)\n",
        "print(\"Number of Different States:\", num_diff_states)\n",
        "print(\"Percentage of Changed States:\", percentage_changed_states)"
      ]
    },
    {
      "cell_type": "code",
      "execution_count": null,
      "metadata": {
        "colab": {
          "base_uri": "https://localhost:8080/",
          "height": 332
        },
        "id": "iqhg7DS7IwEN",
        "outputId": "50e7c93d-f649-47d3-e175-2652105e4fa4"
      },
      "outputs": [
        {
          "ename": "AssertionError",
          "evalue": "/content/Babble.wav does not exist.",
          "output_type": "error",
          "traceback": [
            "\u001b[0;31m---------------------------------------------------------------------------\u001b[0m",
            "\u001b[0;31mAssertionError\u001b[0m                            Traceback (most recent call last)",
            "\u001b[0;32m<ipython-input-38-61dd94203dd8>\u001b[0m in \u001b[0;36m<cell line: 3>\u001b[0;34m()\u001b[0m\n\u001b[1;32m      1\u001b[0m \u001b[0mnew_files_subset\u001b[0m \u001b[0;34m=\u001b[0m \u001b[0mflac_files\u001b[0m\u001b[0;34m[\u001b[0m\u001b[0;36m600\u001b[0m\u001b[0;34m:\u001b[0m\u001b[0;36m650\u001b[0m\u001b[0;34m]\u001b[0m\u001b[0;34m\u001b[0m\u001b[0;34m\u001b[0m\u001b[0m\n\u001b[1;32m      2\u001b[0m \u001b[0mnoise\u001b[0m \u001b[0;34m=\u001b[0m \u001b[0;34m'/content/Babble.wav'\u001b[0m\u001b[0;34m\u001b[0m\u001b[0;34m\u001b[0m\u001b[0m\n\u001b[0;32m----> 3\u001b[0;31m \u001b[0mnoise_data\u001b[0m \u001b[0;34m=\u001b[0m \u001b[0mread_audio\u001b[0m\u001b[0;34m(\u001b[0m\u001b[0mnoise\u001b[0m\u001b[0;34m)\u001b[0m\u001b[0;34m\u001b[0m\u001b[0;34m\u001b[0m\u001b[0m\n\u001b[0m\u001b[1;32m      4\u001b[0m \u001b[0msnr\u001b[0m \u001b[0;34m=\u001b[0m \u001b[0;36m0\u001b[0m\u001b[0;34m\u001b[0m\u001b[0;34m\u001b[0m\u001b[0m\n\u001b[1;32m      5\u001b[0m \u001b[0moffset_ms\u001b[0m \u001b[0;34m=\u001b[0m \u001b[0;36m10\u001b[0m\u001b[0;34m\u001b[0m\u001b[0;34m\u001b[0m\u001b[0m\n",
            "\u001b[0;32m<ipython-input-4-8e03bac33f71>\u001b[0m in \u001b[0;36mread_audio\u001b[0;34m(filepath, fs, mono, normalize, preemphasis)\u001b[0m\n\u001b[1;32m     25\u001b[0m     \"\"\"\n\u001b[1;32m     26\u001b[0m     \u001b[0;32massert\u001b[0m \u001b[0misinstance\u001b[0m\u001b[0;34m(\u001b[0m\u001b[0mfilepath\u001b[0m\u001b[0;34m,\u001b[0m \u001b[0mstr\u001b[0m\u001b[0;34m)\u001b[0m\u001b[0;34m,\u001b[0m \u001b[0;34m\"filepath must be specified as string\"\u001b[0m\u001b[0;34m\u001b[0m\u001b[0;34m\u001b[0m\u001b[0m\n\u001b[0;32m---> 27\u001b[0;31m     \u001b[0;32massert\u001b[0m \u001b[0mos\u001b[0m\u001b[0;34m.\u001b[0m\u001b[0mpath\u001b[0m\u001b[0;34m.\u001b[0m\u001b[0mexists\u001b[0m\u001b[0;34m(\u001b[0m\u001b[0mfilepath\u001b[0m\u001b[0;34m)\u001b[0m\u001b[0;34m,\u001b[0m \u001b[0;34mf\"{filepath} does not exist.\"\u001b[0m\u001b[0;34m\u001b[0m\u001b[0;34m\u001b[0m\u001b[0m\n\u001b[0m\u001b[1;32m     28\u001b[0m \u001b[0;34m\u001b[0m\u001b[0m\n\u001b[1;32m     29\u001b[0m     \u001b[0;32mtry\u001b[0m\u001b[0;34m:\u001b[0m\u001b[0;34m\u001b[0m\u001b[0;34m\u001b[0m\u001b[0m\n",
            "\u001b[0;31mAssertionError\u001b[0m: /content/Babble.wav does not exist."
          ]
        }
      ],
      "source": [
        "new_files_subset = flac_files[600:650]\n",
        "noise = '/content/Babble.wav'\n",
        "noise_data = read_audio(noise)\n",
        "snr = 0\n",
        "offset_ms = 10\n",
        "num_original_states, num_noise_states, num_diff_states, percentage_changed_states = compare_clean_noisy_files(new_files_subset, kmeans, noise_data, snr, offset_ms)\n",
        "\n",
        "print(\"Number of Original States:\", num_original_states)\n",
        "print(\"Number of Noise States (2nd run):\", num_noise_states)\n",
        "print(\"Number of Different States:\", num_diff_states)\n",
        "print(\"Percentage of Changed States:\", percentage_changed_states)"
      ]
    },
    {
      "cell_type": "code",
      "execution_count": null,
      "metadata": {
        "colab": {
          "background_save": true
        },
        "id": "j_qWyksJIxtk",
        "outputId": "1ff635ab-b1be-44fb-b866-fda9c09af918"
      },
      "outputs": [
        {
          "name": "stdout",
          "output_type": "stream",
          "text": [
            "Number of Original States: 47401\n",
            "Number of Noise States (2nd run): 47401\n",
            "Number of Different States: 36410\n",
            "Percentage of Changed States: 76.81272546992679\n"
          ]
        }
      ],
      "source": [
        "new_files_subset = flac_files[650:800]\n",
        "noise = '/content/Babble.wav'\n",
        "noise_data = read_audio(noise)\n",
        "snr = 0\n",
        "offset_ms = 10\n",
        "num_original_states, num_noise_states, num_diff_states, percentage_changed_states = compare_clean_noisy_files(new_files_subset, kmeans, noise_data, snr, offset_ms)\n",
        "\n",
        "print(\"Number of Original States:\", num_original_states)\n",
        "print(\"Number of Noise States (2nd run):\", num_noise_states)\n",
        "print(\"Number of Different States:\", num_diff_states)\n",
        "print(\"Percentage of Changed States:\", percentage_changed_states)"
      ]
    },
    {
      "cell_type": "code",
      "execution_count": null,
      "metadata": {
        "id": "3sA1IRJq5140"
      },
      "outputs": [],
      "source": [
        "del num_original_states, num_noise_states, num_diff_states, percentage_changed_states = compare_clean_noisy_files"
      ]
    },
    {
      "cell_type": "code",
      "execution_count": null,
      "metadata": {
        "id": "_RkgMtpDI0-t"
      },
      "outputs": [],
      "source": [
        "new_files_subset = flac_files[800:900]\n",
        "noise = '/content/Babble.wav'\n",
        "noise_data = read_audio(noise)\n",
        "snr = 0\n",
        "offset_ms = 10\n",
        "num_original_states, num_noise_states, num_diff_states, percentage_changed_states = compare_clean_noisy_files(new_files_subset, kmeans, noise_data, snr, offset_ms)\n",
        "\n",
        "print(\"Number of Original States:\", num_original_states)\n",
        "print(\"Number of Noise States (2nd run):\", num_noise_states)\n",
        "print(\"Number of Different States:\", num_diff_states)\n",
        "print(\"Percentage of Changed States:\", percentage_changed_states)"
      ]
    },
    {
      "cell_type": "code",
      "execution_count": null,
      "metadata": {
        "id": "RJyQRCs1I3OP"
      },
      "outputs": [],
      "source": [
        "new_files_subset = flac_files[900:1000]\n",
        "noise = '/content/Babble.wav'\n",
        "noise_data = read_audio(noise)\n",
        "snr = 0\n",
        "offset_ms = 10\n",
        "num_original_states, num_noise_states, num_diff_states, percentage_changed_states = compare_clean_noisy_files(new_files_subset, kmeans, noise_data, snr, offset_ms)\n",
        "\n",
        "print(\"Number of Original States:\", num_original_states)\n",
        "print(\"Number of Noise States (2nd run):\", num_noise_states)\n",
        "print(\"Number of Different States:\", num_diff_states)\n",
        "print(\"Percentage of Changed States:\", percentage_changed_states)"
      ]
    },
    {
      "cell_type": "code",
      "execution_count": null,
      "metadata": {
        "id": "zrkU9-lTI9cY"
      },
      "outputs": [],
      "source": [
        "new_files_subset = flac_files[:100]\n",
        "noise = '/content/Babble.wav'\n",
        "noise_data = read_audio(noise)\n",
        "snr = 5\n",
        "offset_ms = 10\n",
        "num_original_states, num_noise_states, num_diff_states, percentage_changed_states = compare_clean_noisy_files(new_files_subset, kmeans, noise_data, snr, offset_ms)\n",
        "\n",
        "print(\"Number of Original States:\", num_original_states)\n",
        "print(\"Number of Noise States (2nd run):\", num_noise_states)\n",
        "print(\"Number of Different States:\", num_diff_states)\n",
        "print(\"Percentage of Changed States:\", percentage_changed_states)"
      ]
    },
    {
      "cell_type": "code",
      "execution_count": null,
      "metadata": {
        "id": "t8uT3qKJuSbS"
      },
      "outputs": [],
      "source": [
        "new_files_subset = flac_files[100:200]\n",
        "noise = '/content/Babble.wav'\n",
        "noise_data = read_audio(noise)\n",
        "snr = 5\n",
        "offset_ms = 10\n",
        "num_original_states, num_noise_states, num_diff_states, percentage_changed_states = compare_clean_noisy_files(new_files_subset, kmeans, noise_data, snr, offset_ms)\n",
        "\n",
        "print(\"Number of Original States:\", num_original_states)\n",
        "print(\"Number of Noise States (2nd run):\", num_noise_states)\n",
        "print(\"Number of Different States:\", num_diff_states)\n",
        "print(\"Percentage of Changed States:\", percentage_changed_states)"
      ]
    },
    {
      "cell_type": "code",
      "execution_count": null,
      "metadata": {
        "id": "oz32OlFOuYLR"
      },
      "outputs": [],
      "source": [
        "new_files_subset = flac_files[200:300]\n",
        "noise = '/content/Babble.wav'\n",
        "noise_data = read_audio(noise)\n",
        "snr = 5\n",
        "offset_ms = 10\n",
        "num_original_states, num_noise_states, num_diff_states, percentage_changed_states = compare_clean_noisy_files(new_files_subset, kmeans, noise_data, snr, offset_ms)\n",
        "\n",
        "print(\"Number of Original States:\", num_original_states)\n",
        "print(\"Number of Noise States (2nd run):\", num_noise_states)\n",
        "print(\"Number of Different States:\", num_diff_states)\n",
        "print(\"Percentage of Changed States:\", percentage_changed_states)"
      ]
    },
    {
      "cell_type": "code",
      "execution_count": null,
      "metadata": {
        "id": "nf8G0gXPucUn"
      },
      "outputs": [],
      "source": [
        "new_files_subset = flac_files[300:400]\n",
        "noise = '/content/Babble.wav'\n",
        "noise_data = read_audio(noise)\n",
        "snr = 5\n",
        "offset_ms = 10\n",
        "num_original_states, num_noise_states, num_diff_states, percentage_changed_states = compare_clean_noisy_files(new_files_subset, kmeans, noise_data, snr, offset_ms)\n",
        "\n",
        "print(\"Number of Original States:\", num_original_states)\n",
        "print(\"Number of Noise States (2nd run):\", num_noise_states)\n",
        "print(\"Number of Different States:\", num_diff_states)\n",
        "print(\"Percentage of Changed States:\", percentage_changed_states)"
      ]
    },
    {
      "cell_type": "code",
      "execution_count": null,
      "metadata": {
        "id": "r-R5k-5Jufmt"
      },
      "outputs": [],
      "source": [
        "new_files_subset = flac_files[400:500]\n",
        "noise = '/content/Babble.wav'\n",
        "noise_data = read_audio(noise)\n",
        "snr = 5\n",
        "offset_ms = 10\n",
        "num_original_states, num_noise_states, num_diff_states, percentage_changed_states = compare_clean_noisy_files(new_files_subset, kmeans, noise_data, snr, offset_ms)\n",
        "\n",
        "print(\"Number of Original States:\", num_original_states)\n",
        "print(\"Number of Noise States (2nd run):\", num_noise_states)\n",
        "print(\"Number of Different States:\", num_diff_states)\n",
        "print(\"Percentage of Changed States:\", percentage_changed_states)"
      ]
    },
    {
      "cell_type": "code",
      "execution_count": null,
      "metadata": {
        "id": "qF0TeZX8uhbk"
      },
      "outputs": [],
      "source": [
        "new_files_subset = flac_files[500:600]\n",
        "noise = '/content/Babble.wav'\n",
        "noise_data = read_audio(noise)\n",
        "snr = 5\n",
        "offset_ms = 10\n",
        "num_original_states, num_noise_states, num_diff_states, percentage_changed_states = compare_clean_noisy_files(new_files_subset, kmeans, noise_data, snr, offset_ms)\n",
        "\n",
        "print(\"Number of Original States:\", num_original_states)\n",
        "print(\"Number of Noise States (2nd run):\", num_noise_states)\n",
        "print(\"Number of Different States:\", num_diff_states)\n",
        "print(\"Percentage of Changed States:\", percentage_changed_states)"
      ]
    },
    {
      "cell_type": "code",
      "execution_count": null,
      "metadata": {
        "id": "Hz0hI3OLujeh"
      },
      "outputs": [],
      "source": [
        "new_files_subset = flac_files[600:700]\n",
        "noise = '/content/Babble.wav'\n",
        "noise_data = read_audio(noise)\n",
        "snr = 5\n",
        "offset_ms = 10\n",
        "num_original_states, num_noise_states, num_diff_states, percentage_changed_states = compare_clean_noisy_files(new_files_subset, kmeans, noise_data, snr, offset_ms)\n",
        "\n",
        "print(\"Number of Original States:\", num_original_states)\n",
        "print(\"Number of Noise States (2nd run):\", num_noise_states)\n",
        "print(\"Number of Different States:\", num_diff_states)\n",
        "print(\"Percentage of Changed States:\", percentage_changed_states)"
      ]
    },
    {
      "cell_type": "code",
      "execution_count": null,
      "metadata": {
        "id": "AaAjPaiYulks"
      },
      "outputs": [],
      "source": [
        "new_files_subset = flac_files[700:800]\n",
        "noise = '/content/Babble.wav'\n",
        "noise_data = read_audio(noise)\n",
        "snr = 5\n",
        "offset_ms = 10\n",
        "num_original_states, num_noise_states, num_diff_states, percentage_changed_states = compare_clean_noisy_files(new_files_subset, kmeans, noise_data, snr, offset_ms)\n",
        "\n",
        "print(\"Number of Original States:\", num_original_states)\n",
        "print(\"Number of Noise States (2nd run):\", num_noise_states)\n",
        "print(\"Number of Different States:\", num_diff_states)\n",
        "print(\"Percentage of Changed States:\", percentage_changed_states)"
      ]
    },
    {
      "cell_type": "code",
      "execution_count": null,
      "metadata": {
        "id": "dd2tfo_NunhX"
      },
      "outputs": [],
      "source": [
        "new_files_subset = flac_files[800:900]\n",
        "noise = '/content/Babble.wav'\n",
        "noise_data = read_audio(noise)\n",
        "snr = 5\n",
        "offset_ms = 10\n",
        "num_original_states, num_noise_states, num_diff_states, percentage_changed_states = compare_clean_noisy_files(new_files_subset, kmeans, noise_data, snr, offset_ms)\n",
        "\n",
        "print(\"Number of Original States:\", num_original_states)\n",
        "print(\"Number of Noise States (2nd run):\", num_noise_states)\n",
        "print(\"Number of Different States:\", num_diff_states)\n",
        "print(\"Percentage of Changed States:\", percentage_changed_states)"
      ]
    },
    {
      "cell_type": "code",
      "execution_count": null,
      "metadata": {
        "id": "QMeHim5kup4w"
      },
      "outputs": [],
      "source": [
        "new_files_subset = flac_files[900:1000]\n",
        "noise = '/content/Babble.wav'\n",
        "noise_data = read_audio(noise)\n",
        "snr = 5\n",
        "offset_ms = 10\n",
        "num_original_states, num_noise_states, num_diff_states, percentage_changed_states = compare_clean_noisy_files(new_files_subset, kmeans, noise_data, snr, offset_ms)\n",
        "\n",
        "print(\"Number of Original States:\", num_original_states)\n",
        "print(\"Number of Noise States (2nd run):\", num_noise_states)\n",
        "print(\"Number of Different States:\", num_diff_states)\n",
        "print(\"Percentage of Changed States:\", percentage_changed_states)"
      ]
    },
    {
      "cell_type": "code",
      "execution_count": null,
      "metadata": {
        "id": "wwtSPdHNuseI"
      },
      "outputs": [],
      "source": [
        "new_files_subset = flac_files[:100]\n",
        "noise = '/content/Babble.wav'\n",
        "noise_data = read_audio(noise)\n",
        "snr = 10\n",
        "offset_ms = 10\n",
        "num_original_states, num_noise_states, num_diff_states, percentage_changed_states = compare_clean_noisy_files(new_files_subset, kmeans, noise_data, snr, offset_ms)\n",
        "\n",
        "print(\"Number of Original States:\", num_original_states)\n",
        "print(\"Number of Noise States (2nd run):\", num_noise_states)\n",
        "print(\"Number of Different States:\", num_diff_states)\n",
        "print(\"Percentage of Changed States:\", percentage_changed_states)"
      ]
    },
    {
      "cell_type": "code",
      "execution_count": null,
      "metadata": {
        "id": "A5433Soxu3fb"
      },
      "outputs": [],
      "source": [
        "new_files_subset = flac_files[100:200]\n",
        "noise = '/content/Babble.wav'\n",
        "noise_data = read_audio(noise)\n",
        "snr = 10\n",
        "offset_ms = 10\n",
        "num_original_states, num_noise_states, num_diff_states, percentage_changed_states = compare_clean_noisy_files(new_files_subset, kmeans, noise_data, snr, offset_ms)\n",
        "\n",
        "print(\"Number of Original States:\", num_original_states)\n",
        "print(\"Number of Noise States (2nd run):\", num_noise_states)\n",
        "print(\"Number of Different States:\", num_diff_states)\n",
        "print(\"Percentage of Changed States:\", percentage_changed_states)"
      ]
    },
    {
      "cell_type": "code",
      "execution_count": null,
      "metadata": {
        "id": "YcLi0FGvu87n"
      },
      "outputs": [],
      "source": [
        "new_files_subset = flac_files[200:300]\n",
        "noise = '/content/Babble.wav'\n",
        "noise_data = read_audio(noise)\n",
        "snr = 10\n",
        "offset_ms = 10\n",
        "num_original_states, num_noise_states, num_diff_states, percentage_changed_states = compare_clean_noisy_files(new_files_subset, kmeans, noise_data, snr, offset_ms)\n",
        "\n",
        "print(\"Number of Original States:\", num_original_states)\n",
        "print(\"Number of Noise States (2nd run):\", num_noise_states)\n",
        "print(\"Number of Different States:\", num_diff_states)\n",
        "print(\"Percentage of Changed States:\", percentage_changed_states)"
      ]
    },
    {
      "cell_type": "code",
      "execution_count": null,
      "metadata": {
        "id": "bqaQZMoZvArR"
      },
      "outputs": [],
      "source": [
        "new_files_subset = flac_files[300:400]\n",
        "noise = '/content/Babble.wav'\n",
        "noise_data = read_audio(noise)\n",
        "snr = 10\n",
        "offset_ms = 10\n",
        "num_original_states, num_noise_states, num_diff_states, percentage_changed_states = compare_clean_noisy_files(new_files_subset, kmeans, noise_data, snr, offset_ms)\n",
        "\n",
        "print(\"Number of Original States:\", num_original_states)\n",
        "print(\"Number of Noise States (2nd run):\", num_noise_states)\n",
        "print(\"Number of Different States:\", num_diff_states)\n",
        "print(\"Percentage of Changed States:\", percentage_changed_states)"
      ]
    },
    {
      "cell_type": "code",
      "execution_count": null,
      "metadata": {
        "id": "olUOCd8IvCli"
      },
      "outputs": [],
      "source": [
        "new_files_subset = flac_files[400:500]\n",
        "noise = '/content/Babble.wav'\n",
        "noise_data = read_audio(noise)\n",
        "snr = 10\n",
        "offset_ms = 10\n",
        "num_original_states, num_noise_states, num_diff_states, percentage_changed_states = compare_clean_noisy_files(new_files_subset, kmeans, noise_data, snr, offset_ms)\n",
        "\n",
        "print(\"Number of Original States:\", num_original_states)\n",
        "print(\"Number of Noise States (2nd run):\", num_noise_states)\n",
        "print(\"Number of Different States:\", num_diff_states)\n",
        "print(\"Percentage of Changed States:\", percentage_changed_states)"
      ]
    },
    {
      "cell_type": "code",
      "execution_count": null,
      "metadata": {
        "id": "BFD0KwX7vE6S"
      },
      "outputs": [],
      "source": [
        "new_files_subset = flac_files[500:600]\n",
        "noise = '/content/Babble.wav'\n",
        "noise_data = read_audio(noise)\n",
        "snr = 10\n",
        "offset_ms = 10\n",
        "num_original_states, num_noise_states, num_diff_states, percentage_changed_states = compare_clean_noisy_files(new_files_subset, kmeans, noise_data, snr, offset_ms)\n",
        "\n",
        "print(\"Number of Original States:\", num_original_states)\n",
        "print(\"Number of Noise States (2nd run):\", num_noise_states)\n",
        "print(\"Number of Different States:\", num_diff_states)\n",
        "print(\"Percentage of Changed States:\", percentage_changed_states)"
      ]
    },
    {
      "cell_type": "code",
      "execution_count": null,
      "metadata": {
        "id": "Re4GYrjSvG-R"
      },
      "outputs": [],
      "source": [
        "new_files_subset = flac_files[600:700]\n",
        "noise = '/content/Babble.wav'\n",
        "noise_data = read_audio(noise)\n",
        "snr = 10\n",
        "offset_ms = 10\n",
        "num_original_states, num_noise_states, num_diff_states, percentage_changed_states = compare_clean_noisy_files(new_files_subset, kmeans, noise_data, snr, offset_ms)\n",
        "\n",
        "print(\"Number of Original States:\", num_original_states)\n",
        "print(\"Number of Noise States (2nd run):\", num_noise_states)\n",
        "print(\"Number of Different States:\", num_diff_states)\n",
        "print(\"Percentage of Changed States:\", percentage_changed_states)"
      ]
    },
    {
      "cell_type": "code",
      "execution_count": null,
      "metadata": {
        "id": "2brQUgNkvKA-"
      },
      "outputs": [],
      "source": [
        "new_files_subset = flac_files[700:800]\n",
        "noise = '/content/Babble.wav'\n",
        "noise_data = read_audio(noise)\n",
        "snr = 10\n",
        "offset_ms = 10\n",
        "num_original_states, num_noise_states, num_diff_states, percentage_changed_states = compare_clean_noisy_files(new_files_subset, kmeans, noise_data, snr, offset_ms)\n",
        "\n",
        "print(\"Number of Original States:\", num_original_states)\n",
        "print(\"Number of Noise States (2nd run):\", num_noise_states)\n",
        "print(\"Number of Different States:\", num_diff_states)\n",
        "print(\"Percentage of Changed States:\", percentage_changed_states)"
      ]
    },
    {
      "cell_type": "code",
      "execution_count": null,
      "metadata": {
        "id": "ow6_H7FkvNPw"
      },
      "outputs": [],
      "source": [
        "new_files_subset = flac_files[800:900]\n",
        "noise = '/content/Babble.wav'\n",
        "noise_data = read_audio(noise)\n",
        "snr = 10\n",
        "offset_ms = 10\n",
        "num_original_states, num_noise_states, num_diff_states, percentage_changed_states = compare_clean_noisy_files(new_files_subset, kmeans, noise_data, snr, offset_ms)\n",
        "\n",
        "print(\"Number of Original States:\", num_original_states)\n",
        "print(\"Number of Noise States (2nd run):\", num_noise_states)\n",
        "print(\"Number of Different States:\", num_diff_states)\n",
        "print(\"Percentage of Changed States:\", percentage_changed_states)"
      ]
    },
    {
      "cell_type": "code",
      "execution_count": null,
      "metadata": {
        "id": "RYq-HoujvPoo"
      },
      "outputs": [],
      "source": [
        "new_files_subset = flac_files[900:1000]\n",
        "noise = '/content/Babble.wav'\n",
        "noise_data = read_audio(noise)\n",
        "snr = 10\n",
        "offset_ms = 10\n",
        "num_original_states, num_noise_states, num_diff_states, percentage_changed_states = compare_clean_noisy_files(new_files_subset, kmeans, noise_data, snr, offset_ms)\n",
        "\n",
        "print(\"Number of Original States:\", num_original_states)\n",
        "print(\"Number of Noise States (2nd run):\", num_noise_states)\n",
        "print(\"Number of Different States:\", num_diff_states)\n",
        "print(\"Percentage of Changed States:\", percentage_changed_states)"
      ]
    },
    {
      "cell_type": "code",
      "execution_count": null,
      "metadata": {
        "id": "EJTaeEu7vR5y"
      },
      "outputs": [],
      "source": [
        "new_files_subset = flac_files[:100]\n",
        "noise = '/content/Babble.wav'\n",
        "noise_data = read_audio(noise)\n",
        "snr = 15\n",
        "offset_ms = 10\n",
        "num_original_states, num_noise_states, num_diff_states, percentage_changed_states = compare_clean_noisy_files(new_files_subset, kmeans, noise_data, snr, offset_ms)\n",
        "\n",
        "print(\"Number of Original States:\", num_original_states)\n",
        "print(\"Number of Noise States (2nd run):\", num_noise_states)\n",
        "print(\"Number of Different States:\", num_diff_states)\n",
        "print(\"Percentage of Changed States:\", percentage_changed_states)"
      ]
    },
    {
      "cell_type": "code",
      "execution_count": null,
      "metadata": {
        "id": "HfO6hH9Svm7o"
      },
      "outputs": [],
      "source": [
        "new_files_subset = flac_files[100:200]\n",
        "noise = '/content/Babble.wav'\n",
        "noise_data = read_audio(noise)\n",
        "snr = 15\n",
        "offset_ms = 10\n",
        "num_original_states, num_noise_states, num_diff_states, percentage_changed_states = compare_clean_noisy_files(new_files_subset, kmeans, noise_data, snr, offset_ms)\n",
        "\n",
        "print(\"Number of Original States:\", num_original_states)\n",
        "print(\"Number of Noise States (2nd run):\", num_noise_states)\n",
        "print(\"Number of Different States:\", num_diff_states)\n",
        "print(\"Percentage of Changed States:\", percentage_changed_states)"
      ]
    },
    {
      "cell_type": "code",
      "execution_count": null,
      "metadata": {
        "id": "TuzQRfH3vrpM"
      },
      "outputs": [],
      "source": [
        "new_files_subset = flac_files[200:300]\n",
        "noise = '/content/Babble.wav'\n",
        "noise_data = read_audio(noise)\n",
        "snr = 15\n",
        "offset_ms = 10\n",
        "num_original_states, num_noise_states, num_diff_states, percentage_changed_states = compare_clean_noisy_files(new_files_subset, kmeans, noise_data, snr, offset_ms)\n",
        "\n",
        "print(\"Number of Original States:\", num_original_states)\n",
        "print(\"Number of Noise States (2nd run):\", num_noise_states)\n",
        "print(\"Number of Different States:\", num_diff_states)\n",
        "print(\"Percentage of Changed States:\", percentage_changed_states)"
      ]
    },
    {
      "cell_type": "code",
      "execution_count": null,
      "metadata": {
        "id": "4vxKsS10vt0u"
      },
      "outputs": [],
      "source": [
        "new_files_subset = flac_files[300:400]\n",
        "noise = '/content/Babble.wav'\n",
        "noise_data = read_audio(noise)\n",
        "snr = 15\n",
        "offset_ms = 10\n",
        "num_original_states, num_noise_states, num_diff_states, percentage_changed_states = compare_clean_noisy_files(new_files_subset, kmeans, noise_data, snr, offset_ms)\n",
        "\n",
        "print(\"Number of Original States:\", num_original_states)\n",
        "print(\"Number of Noise States (2nd run):\", num_noise_states)\n",
        "print(\"Number of Different States:\", num_diff_states)\n",
        "print(\"Percentage of Changed States:\", percentage_changed_states)"
      ]
    },
    {
      "cell_type": "code",
      "execution_count": null,
      "metadata": {
        "id": "XFK0tgohvv5O"
      },
      "outputs": [],
      "source": [
        "new_files_subset = flac_files[400:500]\n",
        "noise = '/content/Babble.wav'\n",
        "noise_data = read_audio(noise)\n",
        "snr = 15\n",
        "offset_ms = 10\n",
        "num_original_states, num_noise_states, num_diff_states, percentage_changed_states = compare_clean_noisy_files(new_files_subset, kmeans, noise_data, snr, offset_ms)\n",
        "\n",
        "print(\"Number of Original States:\", num_original_states)\n",
        "print(\"Number of Noise States (2nd run):\", num_noise_states)\n",
        "print(\"Number of Different States:\", num_diff_states)\n",
        "print(\"Percentage of Changed States:\", percentage_changed_states)"
      ]
    },
    {
      "cell_type": "code",
      "execution_count": null,
      "metadata": {
        "id": "ufzrW52hvyOT"
      },
      "outputs": [],
      "source": [
        "new_files_subset = flac_files[500:600]\n",
        "noise = '/content/Babble.wav'\n",
        "noise_data = read_audio(noise)\n",
        "snr = 15\n",
        "offset_ms = 10\n",
        "num_original_states, num_noise_states, num_diff_states, percentage_changed_states = compare_clean_noisy_files(new_files_subset, kmeans, noise_data, snr, offset_ms)\n",
        "\n",
        "print(\"Number of Original States:\", num_original_states)\n",
        "print(\"Number of Noise States (2nd run):\", num_noise_states)\n",
        "print(\"Number of Different States:\", num_diff_states)\n",
        "print(\"Percentage of Changed States:\", percentage_changed_states)"
      ]
    },
    {
      "cell_type": "code",
      "execution_count": null,
      "metadata": {
        "id": "shjK_okXv0eV"
      },
      "outputs": [],
      "source": [
        "new_files_subset = flac_files[600:700]\n",
        "noise = '/content/Babble.wav'\n",
        "noise_data = read_audio(noise)\n",
        "snr = 15\n",
        "offset_ms = 10\n",
        "num_original_states, num_noise_states, num_diff_states, percentage_changed_states = compare_clean_noisy_files(new_files_subset, kmeans, noise_data, snr, offset_ms)\n",
        "\n",
        "print(\"Number of Original States:\", num_original_states)\n",
        "print(\"Number of Noise States (2nd run):\", num_noise_states)\n",
        "print(\"Number of Different States:\", num_diff_states)\n",
        "print(\"Percentage of Changed States:\", percentage_changed_states)"
      ]
    },
    {
      "cell_type": "code",
      "execution_count": null,
      "metadata": {
        "id": "PvIH8DsMv2fm"
      },
      "outputs": [],
      "source": [
        "new_files_subset = flac_files[700:800]\n",
        "noise = '/content/Babble.wav'\n",
        "noise_data = read_audio(noise)\n",
        "snr = 15\n",
        "offset_ms = 10\n",
        "num_original_states, num_noise_states, num_diff_states, percentage_changed_states = compare_clean_noisy_files(new_files_subset, kmeans, noise_data, snr, offset_ms)\n",
        "\n",
        "print(\"Number of Original States:\", num_original_states)\n",
        "print(\"Number of Noise States (2nd run):\", num_noise_states)\n",
        "print(\"Number of Different States:\", num_diff_states)\n",
        "print(\"Percentage of Changed States:\", percentage_changed_states)"
      ]
    },
    {
      "cell_type": "code",
      "execution_count": null,
      "metadata": {
        "id": "e_nzVvTvv5Ns"
      },
      "outputs": [],
      "source": [
        "new_files_subset = flac_files[800:900]\n",
        "noise = '/content/Babble.wav'\n",
        "noise_data = read_audio(noise)\n",
        "snr = 15\n",
        "offset_ms = 10\n",
        "num_original_states, num_noise_states, num_diff_states, percentage_changed_states = compare_clean_noisy_files(new_files_subset, kmeans, noise_data, snr, offset_ms)\n",
        "\n",
        "print(\"Number of Original States:\", num_original_states)\n",
        "print(\"Number of Noise States (2nd run):\", num_noise_states)\n",
        "print(\"Number of Different States:\", num_diff_states)\n",
        "print(\"Percentage of Changed States:\", percentage_changed_states)"
      ]
    },
    {
      "cell_type": "code",
      "execution_count": null,
      "metadata": {
        "id": "0IzTB_rNv71l"
      },
      "outputs": [],
      "source": [
        "new_files_subset = flac_files[900:1000]\n",
        "noise = '/content/Babble.wav'\n",
        "noise_data = read_audio(noise)\n",
        "snr = 15\n",
        "offset_ms = 10\n",
        "num_original_states, num_noise_states, num_diff_states, percentage_changed_states = compare_clean_noisy_files(new_files_subset, kmeans, noise_data, snr, offset_ms)\n",
        "\n",
        "print(\"Number of Original States:\", num_original_states)\n",
        "print(\"Number of Noise States (2nd run):\", num_noise_states)\n",
        "print(\"Number of Different States:\", num_diff_states)\n",
        "print(\"Percentage of Changed States:\", percentage_changed_states)"
      ]
    },
    {
      "cell_type": "code",
      "execution_count": null,
      "metadata": {
        "id": "UaZ_ltd0v9lQ"
      },
      "outputs": [],
      "source": []
    }
  ],
  "metadata": {
    "accelerator": "GPU",
    "colab": {
      "gpuType": "T4",
      "provenance": []
    },
    "kernelspec": {
      "display_name": "Python 3",
      "name": "python3"
    },
    "language_info": {
      "name": "python"
    },
    "widgets": {
      "application/vnd.jupyter.widget-state+json": {
        "0ad702e9c974409a97c1e2847a190f49": {
          "model_module": "@jupyter-widgets/controls",
          "model_name": "HBoxModel",
          "model_module_version": "1.5.0",
          "state": {
            "_dom_classes": [],
            "_model_module": "@jupyter-widgets/controls",
            "_model_module_version": "1.5.0",
            "_model_name": "HBoxModel",
            "_view_count": null,
            "_view_module": "@jupyter-widgets/controls",
            "_view_module_version": "1.5.0",
            "_view_name": "HBoxView",
            "box_style": "",
            "children": [
              "IPY_MODEL_19c134b13ed2474994571a9aa0e7727d",
              "IPY_MODEL_e804b8bf3f9b4ba198ed9adf6ba1c490",
              "IPY_MODEL_f7aa75c06f8d4c3b9037851cdd72536c"
            ],
            "layout": "IPY_MODEL_c41568df849e41b3a2591022181a39e7"
          }
        },
        "19c134b13ed2474994571a9aa0e7727d": {
          "model_module": "@jupyter-widgets/controls",
          "model_name": "HTMLModel",
          "model_module_version": "1.5.0",
          "state": {
            "_dom_classes": [],
            "_model_module": "@jupyter-widgets/controls",
            "_model_module_version": "1.5.0",
            "_model_name": "HTMLModel",
            "_view_count": null,
            "_view_module": "@jupyter-widgets/controls",
            "_view_module_version": "1.5.0",
            "_view_name": "HTMLView",
            "description": "",
            "description_tooltip": null,
            "layout": "IPY_MODEL_3619fbf3c7c14972ba3ec6bff07d4688",
            "placeholder": "​",
            "style": "IPY_MODEL_af890b7986244dd3bd0765d0f9bf594f",
            "value": "preprocessor_config.json: 100%"
          }
        },
        "e804b8bf3f9b4ba198ed9adf6ba1c490": {
          "model_module": "@jupyter-widgets/controls",
          "model_name": "FloatProgressModel",
          "model_module_version": "1.5.0",
          "state": {
            "_dom_classes": [],
            "_model_module": "@jupyter-widgets/controls",
            "_model_module_version": "1.5.0",
            "_model_name": "FloatProgressModel",
            "_view_count": null,
            "_view_module": "@jupyter-widgets/controls",
            "_view_module_version": "1.5.0",
            "_view_name": "ProgressView",
            "bar_style": "success",
            "description": "",
            "description_tooltip": null,
            "layout": "IPY_MODEL_b362cd588c1449daae5d4bb72cf89389",
            "max": 212,
            "min": 0,
            "orientation": "horizontal",
            "style": "IPY_MODEL_9fec880d850b4f1986dfe5be1e12fba0",
            "value": 212
          }
        },
        "f7aa75c06f8d4c3b9037851cdd72536c": {
          "model_module": "@jupyter-widgets/controls",
          "model_name": "HTMLModel",
          "model_module_version": "1.5.0",
          "state": {
            "_dom_classes": [],
            "_model_module": "@jupyter-widgets/controls",
            "_model_module_version": "1.5.0",
            "_model_name": "HTMLModel",
            "_view_count": null,
            "_view_module": "@jupyter-widgets/controls",
            "_view_module_version": "1.5.0",
            "_view_name": "HTMLView",
            "description": "",
            "description_tooltip": null,
            "layout": "IPY_MODEL_bdcbe5fd5e2e46b0b50e8a03ec4841f1",
            "placeholder": "​",
            "style": "IPY_MODEL_1bd6d00af37d4fa0b089e163bd43ed5b",
            "value": " 212/212 [00:00&lt;00:00, 5.75kB/s]"
          }
        },
        "c41568df849e41b3a2591022181a39e7": {
          "model_module": "@jupyter-widgets/base",
          "model_name": "LayoutModel",
          "model_module_version": "1.2.0",
          "state": {
            "_model_module": "@jupyter-widgets/base",
            "_model_module_version": "1.2.0",
            "_model_name": "LayoutModel",
            "_view_count": null,
            "_view_module": "@jupyter-widgets/base",
            "_view_module_version": "1.2.0",
            "_view_name": "LayoutView",
            "align_content": null,
            "align_items": null,
            "align_self": null,
            "border": null,
            "bottom": null,
            "display": null,
            "flex": null,
            "flex_flow": null,
            "grid_area": null,
            "grid_auto_columns": null,
            "grid_auto_flow": null,
            "grid_auto_rows": null,
            "grid_column": null,
            "grid_gap": null,
            "grid_row": null,
            "grid_template_areas": null,
            "grid_template_columns": null,
            "grid_template_rows": null,
            "height": null,
            "justify_content": null,
            "justify_items": null,
            "left": null,
            "margin": null,
            "max_height": null,
            "max_width": null,
            "min_height": null,
            "min_width": null,
            "object_fit": null,
            "object_position": null,
            "order": null,
            "overflow": null,
            "overflow_x": null,
            "overflow_y": null,
            "padding": null,
            "right": null,
            "top": null,
            "visibility": null,
            "width": null
          }
        },
        "3619fbf3c7c14972ba3ec6bff07d4688": {
          "model_module": "@jupyter-widgets/base",
          "model_name": "LayoutModel",
          "model_module_version": "1.2.0",
          "state": {
            "_model_module": "@jupyter-widgets/base",
            "_model_module_version": "1.2.0",
            "_model_name": "LayoutModel",
            "_view_count": null,
            "_view_module": "@jupyter-widgets/base",
            "_view_module_version": "1.2.0",
            "_view_name": "LayoutView",
            "align_content": null,
            "align_items": null,
            "align_self": null,
            "border": null,
            "bottom": null,
            "display": null,
            "flex": null,
            "flex_flow": null,
            "grid_area": null,
            "grid_auto_columns": null,
            "grid_auto_flow": null,
            "grid_auto_rows": null,
            "grid_column": null,
            "grid_gap": null,
            "grid_row": null,
            "grid_template_areas": null,
            "grid_template_columns": null,
            "grid_template_rows": null,
            "height": null,
            "justify_content": null,
            "justify_items": null,
            "left": null,
            "margin": null,
            "max_height": null,
            "max_width": null,
            "min_height": null,
            "min_width": null,
            "object_fit": null,
            "object_position": null,
            "order": null,
            "overflow": null,
            "overflow_x": null,
            "overflow_y": null,
            "padding": null,
            "right": null,
            "top": null,
            "visibility": null,
            "width": null
          }
        },
        "af890b7986244dd3bd0765d0f9bf594f": {
          "model_module": "@jupyter-widgets/controls",
          "model_name": "DescriptionStyleModel",
          "model_module_version": "1.5.0",
          "state": {
            "_model_module": "@jupyter-widgets/controls",
            "_model_module_version": "1.5.0",
            "_model_name": "DescriptionStyleModel",
            "_view_count": null,
            "_view_module": "@jupyter-widgets/base",
            "_view_module_version": "1.2.0",
            "_view_name": "StyleView",
            "description_width": ""
          }
        },
        "b362cd588c1449daae5d4bb72cf89389": {
          "model_module": "@jupyter-widgets/base",
          "model_name": "LayoutModel",
          "model_module_version": "1.2.0",
          "state": {
            "_model_module": "@jupyter-widgets/base",
            "_model_module_version": "1.2.0",
            "_model_name": "LayoutModel",
            "_view_count": null,
            "_view_module": "@jupyter-widgets/base",
            "_view_module_version": "1.2.0",
            "_view_name": "LayoutView",
            "align_content": null,
            "align_items": null,
            "align_self": null,
            "border": null,
            "bottom": null,
            "display": null,
            "flex": null,
            "flex_flow": null,
            "grid_area": null,
            "grid_auto_columns": null,
            "grid_auto_flow": null,
            "grid_auto_rows": null,
            "grid_column": null,
            "grid_gap": null,
            "grid_row": null,
            "grid_template_areas": null,
            "grid_template_columns": null,
            "grid_template_rows": null,
            "height": null,
            "justify_content": null,
            "justify_items": null,
            "left": null,
            "margin": null,
            "max_height": null,
            "max_width": null,
            "min_height": null,
            "min_width": null,
            "object_fit": null,
            "object_position": null,
            "order": null,
            "overflow": null,
            "overflow_x": null,
            "overflow_y": null,
            "padding": null,
            "right": null,
            "top": null,
            "visibility": null,
            "width": null
          }
        },
        "9fec880d850b4f1986dfe5be1e12fba0": {
          "model_module": "@jupyter-widgets/controls",
          "model_name": "ProgressStyleModel",
          "model_module_version": "1.5.0",
          "state": {
            "_model_module": "@jupyter-widgets/controls",
            "_model_module_version": "1.5.0",
            "_model_name": "ProgressStyleModel",
            "_view_count": null,
            "_view_module": "@jupyter-widgets/base",
            "_view_module_version": "1.2.0",
            "_view_name": "StyleView",
            "bar_color": null,
            "description_width": ""
          }
        },
        "bdcbe5fd5e2e46b0b50e8a03ec4841f1": {
          "model_module": "@jupyter-widgets/base",
          "model_name": "LayoutModel",
          "model_module_version": "1.2.0",
          "state": {
            "_model_module": "@jupyter-widgets/base",
            "_model_module_version": "1.2.0",
            "_model_name": "LayoutModel",
            "_view_count": null,
            "_view_module": "@jupyter-widgets/base",
            "_view_module_version": "1.2.0",
            "_view_name": "LayoutView",
            "align_content": null,
            "align_items": null,
            "align_self": null,
            "border": null,
            "bottom": null,
            "display": null,
            "flex": null,
            "flex_flow": null,
            "grid_area": null,
            "grid_auto_columns": null,
            "grid_auto_flow": null,
            "grid_auto_rows": null,
            "grid_column": null,
            "grid_gap": null,
            "grid_row": null,
            "grid_template_areas": null,
            "grid_template_columns": null,
            "grid_template_rows": null,
            "height": null,
            "justify_content": null,
            "justify_items": null,
            "left": null,
            "margin": null,
            "max_height": null,
            "max_width": null,
            "min_height": null,
            "min_width": null,
            "object_fit": null,
            "object_position": null,
            "order": null,
            "overflow": null,
            "overflow_x": null,
            "overflow_y": null,
            "padding": null,
            "right": null,
            "top": null,
            "visibility": null,
            "width": null
          }
        },
        "1bd6d00af37d4fa0b089e163bd43ed5b": {
          "model_module": "@jupyter-widgets/controls",
          "model_name": "DescriptionStyleModel",
          "model_module_version": "1.5.0",
          "state": {
            "_model_module": "@jupyter-widgets/controls",
            "_model_module_version": "1.5.0",
            "_model_name": "DescriptionStyleModel",
            "_view_count": null,
            "_view_module": "@jupyter-widgets/base",
            "_view_module_version": "1.2.0",
            "_view_name": "StyleView",
            "description_width": ""
          }
        },
        "61bea5c8f97b4f2b92dba54c87b8b40a": {
          "model_module": "@jupyter-widgets/controls",
          "model_name": "HBoxModel",
          "model_module_version": "1.5.0",
          "state": {
            "_dom_classes": [],
            "_model_module": "@jupyter-widgets/controls",
            "_model_module_version": "1.5.0",
            "_model_name": "HBoxModel",
            "_view_count": null,
            "_view_module": "@jupyter-widgets/controls",
            "_view_module_version": "1.5.0",
            "_view_name": "HBoxView",
            "box_style": "",
            "children": [
              "IPY_MODEL_2a1bcdd70b2e4f2fa9a67c7fa40ffb17",
              "IPY_MODEL_58e515023b614dba996d3cace6decf02",
              "IPY_MODEL_0fd07f898a80407a9fbb1546f58e09e2"
            ],
            "layout": "IPY_MODEL_dd437402f39f404e9e67925603d6eea1"
          }
        },
        "2a1bcdd70b2e4f2fa9a67c7fa40ffb17": {
          "model_module": "@jupyter-widgets/controls",
          "model_name": "HTMLModel",
          "model_module_version": "1.5.0",
          "state": {
            "_dom_classes": [],
            "_model_module": "@jupyter-widgets/controls",
            "_model_module_version": "1.5.0",
            "_model_name": "HTMLModel",
            "_view_count": null,
            "_view_module": "@jupyter-widgets/controls",
            "_view_module_version": "1.5.0",
            "_view_name": "HTMLView",
            "description": "",
            "description_tooltip": null,
            "layout": "IPY_MODEL_d4c083e7c0764e1e9a57d5994f0bb229",
            "placeholder": "​",
            "style": "IPY_MODEL_63dd2aeb640c4f1b947d93d707bcc02a",
            "value": "tokenizer_config.json: 100%"
          }
        },
        "58e515023b614dba996d3cace6decf02": {
          "model_module": "@jupyter-widgets/controls",
          "model_name": "FloatProgressModel",
          "model_module_version": "1.5.0",
          "state": {
            "_dom_classes": [],
            "_model_module": "@jupyter-widgets/controls",
            "_model_module_version": "1.5.0",
            "_model_name": "FloatProgressModel",
            "_view_count": null,
            "_view_module": "@jupyter-widgets/controls",
            "_view_module_version": "1.5.0",
            "_view_name": "ProgressView",
            "bar_style": "success",
            "description": "",
            "description_tooltip": null,
            "layout": "IPY_MODEL_a02cf9dd0bf449088ef235b1c1765dbd",
            "max": 138,
            "min": 0,
            "orientation": "horizontal",
            "style": "IPY_MODEL_889ed79efe904b2d8058b6ab2205f610",
            "value": 138
          }
        },
        "0fd07f898a80407a9fbb1546f58e09e2": {
          "model_module": "@jupyter-widgets/controls",
          "model_name": "HTMLModel",
          "model_module_version": "1.5.0",
          "state": {
            "_dom_classes": [],
            "_model_module": "@jupyter-widgets/controls",
            "_model_module_version": "1.5.0",
            "_model_name": "HTMLModel",
            "_view_count": null,
            "_view_module": "@jupyter-widgets/controls",
            "_view_module_version": "1.5.0",
            "_view_name": "HTMLView",
            "description": "",
            "description_tooltip": null,
            "layout": "IPY_MODEL_2e3b55a61a3f42d9bbf0468de5383def",
            "placeholder": "​",
            "style": "IPY_MODEL_c79873d592754fdd8108e305496fb90e",
            "value": " 138/138 [00:00&lt;00:00, 3.77kB/s]"
          }
        },
        "dd437402f39f404e9e67925603d6eea1": {
          "model_module": "@jupyter-widgets/base",
          "model_name": "LayoutModel",
          "model_module_version": "1.2.0",
          "state": {
            "_model_module": "@jupyter-widgets/base",
            "_model_module_version": "1.2.0",
            "_model_name": "LayoutModel",
            "_view_count": null,
            "_view_module": "@jupyter-widgets/base",
            "_view_module_version": "1.2.0",
            "_view_name": "LayoutView",
            "align_content": null,
            "align_items": null,
            "align_self": null,
            "border": null,
            "bottom": null,
            "display": null,
            "flex": null,
            "flex_flow": null,
            "grid_area": null,
            "grid_auto_columns": null,
            "grid_auto_flow": null,
            "grid_auto_rows": null,
            "grid_column": null,
            "grid_gap": null,
            "grid_row": null,
            "grid_template_areas": null,
            "grid_template_columns": null,
            "grid_template_rows": null,
            "height": null,
            "justify_content": null,
            "justify_items": null,
            "left": null,
            "margin": null,
            "max_height": null,
            "max_width": null,
            "min_height": null,
            "min_width": null,
            "object_fit": null,
            "object_position": null,
            "order": null,
            "overflow": null,
            "overflow_x": null,
            "overflow_y": null,
            "padding": null,
            "right": null,
            "top": null,
            "visibility": null,
            "width": null
          }
        },
        "d4c083e7c0764e1e9a57d5994f0bb229": {
          "model_module": "@jupyter-widgets/base",
          "model_name": "LayoutModel",
          "model_module_version": "1.2.0",
          "state": {
            "_model_module": "@jupyter-widgets/base",
            "_model_module_version": "1.2.0",
            "_model_name": "LayoutModel",
            "_view_count": null,
            "_view_module": "@jupyter-widgets/base",
            "_view_module_version": "1.2.0",
            "_view_name": "LayoutView",
            "align_content": null,
            "align_items": null,
            "align_self": null,
            "border": null,
            "bottom": null,
            "display": null,
            "flex": null,
            "flex_flow": null,
            "grid_area": null,
            "grid_auto_columns": null,
            "grid_auto_flow": null,
            "grid_auto_rows": null,
            "grid_column": null,
            "grid_gap": null,
            "grid_row": null,
            "grid_template_areas": null,
            "grid_template_columns": null,
            "grid_template_rows": null,
            "height": null,
            "justify_content": null,
            "justify_items": null,
            "left": null,
            "margin": null,
            "max_height": null,
            "max_width": null,
            "min_height": null,
            "min_width": null,
            "object_fit": null,
            "object_position": null,
            "order": null,
            "overflow": null,
            "overflow_x": null,
            "overflow_y": null,
            "padding": null,
            "right": null,
            "top": null,
            "visibility": null,
            "width": null
          }
        },
        "63dd2aeb640c4f1b947d93d707bcc02a": {
          "model_module": "@jupyter-widgets/controls",
          "model_name": "DescriptionStyleModel",
          "model_module_version": "1.5.0",
          "state": {
            "_model_module": "@jupyter-widgets/controls",
            "_model_module_version": "1.5.0",
            "_model_name": "DescriptionStyleModel",
            "_view_count": null,
            "_view_module": "@jupyter-widgets/base",
            "_view_module_version": "1.2.0",
            "_view_name": "StyleView",
            "description_width": ""
          }
        },
        "a02cf9dd0bf449088ef235b1c1765dbd": {
          "model_module": "@jupyter-widgets/base",
          "model_name": "LayoutModel",
          "model_module_version": "1.2.0",
          "state": {
            "_model_module": "@jupyter-widgets/base",
            "_model_module_version": "1.2.0",
            "_model_name": "LayoutModel",
            "_view_count": null,
            "_view_module": "@jupyter-widgets/base",
            "_view_module_version": "1.2.0",
            "_view_name": "LayoutView",
            "align_content": null,
            "align_items": null,
            "align_self": null,
            "border": null,
            "bottom": null,
            "display": null,
            "flex": null,
            "flex_flow": null,
            "grid_area": null,
            "grid_auto_columns": null,
            "grid_auto_flow": null,
            "grid_auto_rows": null,
            "grid_column": null,
            "grid_gap": null,
            "grid_row": null,
            "grid_template_areas": null,
            "grid_template_columns": null,
            "grid_template_rows": null,
            "height": null,
            "justify_content": null,
            "justify_items": null,
            "left": null,
            "margin": null,
            "max_height": null,
            "max_width": null,
            "min_height": null,
            "min_width": null,
            "object_fit": null,
            "object_position": null,
            "order": null,
            "overflow": null,
            "overflow_x": null,
            "overflow_y": null,
            "padding": null,
            "right": null,
            "top": null,
            "visibility": null,
            "width": null
          }
        },
        "889ed79efe904b2d8058b6ab2205f610": {
          "model_module": "@jupyter-widgets/controls",
          "model_name": "ProgressStyleModel",
          "model_module_version": "1.5.0",
          "state": {
            "_model_module": "@jupyter-widgets/controls",
            "_model_module_version": "1.5.0",
            "_model_name": "ProgressStyleModel",
            "_view_count": null,
            "_view_module": "@jupyter-widgets/base",
            "_view_module_version": "1.2.0",
            "_view_name": "StyleView",
            "bar_color": null,
            "description_width": ""
          }
        },
        "2e3b55a61a3f42d9bbf0468de5383def": {
          "model_module": "@jupyter-widgets/base",
          "model_name": "LayoutModel",
          "model_module_version": "1.2.0",
          "state": {
            "_model_module": "@jupyter-widgets/base",
            "_model_module_version": "1.2.0",
            "_model_name": "LayoutModel",
            "_view_count": null,
            "_view_module": "@jupyter-widgets/base",
            "_view_module_version": "1.2.0",
            "_view_name": "LayoutView",
            "align_content": null,
            "align_items": null,
            "align_self": null,
            "border": null,
            "bottom": null,
            "display": null,
            "flex": null,
            "flex_flow": null,
            "grid_area": null,
            "grid_auto_columns": null,
            "grid_auto_flow": null,
            "grid_auto_rows": null,
            "grid_column": null,
            "grid_gap": null,
            "grid_row": null,
            "grid_template_areas": null,
            "grid_template_columns": null,
            "grid_template_rows": null,
            "height": null,
            "justify_content": null,
            "justify_items": null,
            "left": null,
            "margin": null,
            "max_height": null,
            "max_width": null,
            "min_height": null,
            "min_width": null,
            "object_fit": null,
            "object_position": null,
            "order": null,
            "overflow": null,
            "overflow_x": null,
            "overflow_y": null,
            "padding": null,
            "right": null,
            "top": null,
            "visibility": null,
            "width": null
          }
        },
        "c79873d592754fdd8108e305496fb90e": {
          "model_module": "@jupyter-widgets/controls",
          "model_name": "DescriptionStyleModel",
          "model_module_version": "1.5.0",
          "state": {
            "_model_module": "@jupyter-widgets/controls",
            "_model_module_version": "1.5.0",
            "_model_name": "DescriptionStyleModel",
            "_view_count": null,
            "_view_module": "@jupyter-widgets/base",
            "_view_module_version": "1.2.0",
            "_view_name": "StyleView",
            "description_width": ""
          }
        },
        "157657097c724c908ea6ec8ee0b1aba7": {
          "model_module": "@jupyter-widgets/controls",
          "model_name": "HBoxModel",
          "model_module_version": "1.5.0",
          "state": {
            "_dom_classes": [],
            "_model_module": "@jupyter-widgets/controls",
            "_model_module_version": "1.5.0",
            "_model_name": "HBoxModel",
            "_view_count": null,
            "_view_module": "@jupyter-widgets/controls",
            "_view_module_version": "1.5.0",
            "_view_name": "HBoxView",
            "box_style": "",
            "children": [
              "IPY_MODEL_c5d8f2becff046d5ac0ef44b3ad7cf52",
              "IPY_MODEL_b8fca6210d534b5285635f56527cbd84",
              "IPY_MODEL_7e52350d2ca74d579afade12358ccc08"
            ],
            "layout": "IPY_MODEL_906b20b696294780bec2dc4abbea81df"
          }
        },
        "c5d8f2becff046d5ac0ef44b3ad7cf52": {
          "model_module": "@jupyter-widgets/controls",
          "model_name": "HTMLModel",
          "model_module_version": "1.5.0",
          "state": {
            "_dom_classes": [],
            "_model_module": "@jupyter-widgets/controls",
            "_model_module_version": "1.5.0",
            "_model_name": "HTMLModel",
            "_view_count": null,
            "_view_module": "@jupyter-widgets/controls",
            "_view_module_version": "1.5.0",
            "_view_name": "HTMLView",
            "description": "",
            "description_tooltip": null,
            "layout": "IPY_MODEL_2abeb620d29f409f87e98c77fb0f7146",
            "placeholder": "​",
            "style": "IPY_MODEL_b5116614d8f244b78f068f023ee3fa4d",
            "value": "config.json: 100%"
          }
        },
        "b8fca6210d534b5285635f56527cbd84": {
          "model_module": "@jupyter-widgets/controls",
          "model_name": "FloatProgressModel",
          "model_module_version": "1.5.0",
          "state": {
            "_dom_classes": [],
            "_model_module": "@jupyter-widgets/controls",
            "_model_module_version": "1.5.0",
            "_model_name": "FloatProgressModel",
            "_view_count": null,
            "_view_module": "@jupyter-widgets/controls",
            "_view_module_version": "1.5.0",
            "_view_name": "ProgressView",
            "bar_style": "success",
            "description": "",
            "description_tooltip": null,
            "layout": "IPY_MODEL_2d517306c6474aa395524d41228bf8b0",
            "max": 1376,
            "min": 0,
            "orientation": "horizontal",
            "style": "IPY_MODEL_916ac0108c724121b986178f2a1468f7",
            "value": 1376
          }
        },
        "7e52350d2ca74d579afade12358ccc08": {
          "model_module": "@jupyter-widgets/controls",
          "model_name": "HTMLModel",
          "model_module_version": "1.5.0",
          "state": {
            "_dom_classes": [],
            "_model_module": "@jupyter-widgets/controls",
            "_model_module_version": "1.5.0",
            "_model_name": "HTMLModel",
            "_view_count": null,
            "_view_module": "@jupyter-widgets/controls",
            "_view_module_version": "1.5.0",
            "_view_name": "HTMLView",
            "description": "",
            "description_tooltip": null,
            "layout": "IPY_MODEL_fc7d46e817ce4c9a851d71bd21ea6ce0",
            "placeholder": "​",
            "style": "IPY_MODEL_5f3447a726c84d22a5aa4e6450c4960e",
            "value": " 1.38k/1.38k [00:00&lt;00:00, 28.3kB/s]"
          }
        },
        "906b20b696294780bec2dc4abbea81df": {
          "model_module": "@jupyter-widgets/base",
          "model_name": "LayoutModel",
          "model_module_version": "1.2.0",
          "state": {
            "_model_module": "@jupyter-widgets/base",
            "_model_module_version": "1.2.0",
            "_model_name": "LayoutModel",
            "_view_count": null,
            "_view_module": "@jupyter-widgets/base",
            "_view_module_version": "1.2.0",
            "_view_name": "LayoutView",
            "align_content": null,
            "align_items": null,
            "align_self": null,
            "border": null,
            "bottom": null,
            "display": null,
            "flex": null,
            "flex_flow": null,
            "grid_area": null,
            "grid_auto_columns": null,
            "grid_auto_flow": null,
            "grid_auto_rows": null,
            "grid_column": null,
            "grid_gap": null,
            "grid_row": null,
            "grid_template_areas": null,
            "grid_template_columns": null,
            "grid_template_rows": null,
            "height": null,
            "justify_content": null,
            "justify_items": null,
            "left": null,
            "margin": null,
            "max_height": null,
            "max_width": null,
            "min_height": null,
            "min_width": null,
            "object_fit": null,
            "object_position": null,
            "order": null,
            "overflow": null,
            "overflow_x": null,
            "overflow_y": null,
            "padding": null,
            "right": null,
            "top": null,
            "visibility": null,
            "width": null
          }
        },
        "2abeb620d29f409f87e98c77fb0f7146": {
          "model_module": "@jupyter-widgets/base",
          "model_name": "LayoutModel",
          "model_module_version": "1.2.0",
          "state": {
            "_model_module": "@jupyter-widgets/base",
            "_model_module_version": "1.2.0",
            "_model_name": "LayoutModel",
            "_view_count": null,
            "_view_module": "@jupyter-widgets/base",
            "_view_module_version": "1.2.0",
            "_view_name": "LayoutView",
            "align_content": null,
            "align_items": null,
            "align_self": null,
            "border": null,
            "bottom": null,
            "display": null,
            "flex": null,
            "flex_flow": null,
            "grid_area": null,
            "grid_auto_columns": null,
            "grid_auto_flow": null,
            "grid_auto_rows": null,
            "grid_column": null,
            "grid_gap": null,
            "grid_row": null,
            "grid_template_areas": null,
            "grid_template_columns": null,
            "grid_template_rows": null,
            "height": null,
            "justify_content": null,
            "justify_items": null,
            "left": null,
            "margin": null,
            "max_height": null,
            "max_width": null,
            "min_height": null,
            "min_width": null,
            "object_fit": null,
            "object_position": null,
            "order": null,
            "overflow": null,
            "overflow_x": null,
            "overflow_y": null,
            "padding": null,
            "right": null,
            "top": null,
            "visibility": null,
            "width": null
          }
        },
        "b5116614d8f244b78f068f023ee3fa4d": {
          "model_module": "@jupyter-widgets/controls",
          "model_name": "DescriptionStyleModel",
          "model_module_version": "1.5.0",
          "state": {
            "_model_module": "@jupyter-widgets/controls",
            "_model_module_version": "1.5.0",
            "_model_name": "DescriptionStyleModel",
            "_view_count": null,
            "_view_module": "@jupyter-widgets/base",
            "_view_module_version": "1.2.0",
            "_view_name": "StyleView",
            "description_width": ""
          }
        },
        "2d517306c6474aa395524d41228bf8b0": {
          "model_module": "@jupyter-widgets/base",
          "model_name": "LayoutModel",
          "model_module_version": "1.2.0",
          "state": {
            "_model_module": "@jupyter-widgets/base",
            "_model_module_version": "1.2.0",
            "_model_name": "LayoutModel",
            "_view_count": null,
            "_view_module": "@jupyter-widgets/base",
            "_view_module_version": "1.2.0",
            "_view_name": "LayoutView",
            "align_content": null,
            "align_items": null,
            "align_self": null,
            "border": null,
            "bottom": null,
            "display": null,
            "flex": null,
            "flex_flow": null,
            "grid_area": null,
            "grid_auto_columns": null,
            "grid_auto_flow": null,
            "grid_auto_rows": null,
            "grid_column": null,
            "grid_gap": null,
            "grid_row": null,
            "grid_template_areas": null,
            "grid_template_columns": null,
            "grid_template_rows": null,
            "height": null,
            "justify_content": null,
            "justify_items": null,
            "left": null,
            "margin": null,
            "max_height": null,
            "max_width": null,
            "min_height": null,
            "min_width": null,
            "object_fit": null,
            "object_position": null,
            "order": null,
            "overflow": null,
            "overflow_x": null,
            "overflow_y": null,
            "padding": null,
            "right": null,
            "top": null,
            "visibility": null,
            "width": null
          }
        },
        "916ac0108c724121b986178f2a1468f7": {
          "model_module": "@jupyter-widgets/controls",
          "model_name": "ProgressStyleModel",
          "model_module_version": "1.5.0",
          "state": {
            "_model_module": "@jupyter-widgets/controls",
            "_model_module_version": "1.5.0",
            "_model_name": "ProgressStyleModel",
            "_view_count": null,
            "_view_module": "@jupyter-widgets/base",
            "_view_module_version": "1.2.0",
            "_view_name": "StyleView",
            "bar_color": null,
            "description_width": ""
          }
        },
        "fc7d46e817ce4c9a851d71bd21ea6ce0": {
          "model_module": "@jupyter-widgets/base",
          "model_name": "LayoutModel",
          "model_module_version": "1.2.0",
          "state": {
            "_model_module": "@jupyter-widgets/base",
            "_model_module_version": "1.2.0",
            "_model_name": "LayoutModel",
            "_view_count": null,
            "_view_module": "@jupyter-widgets/base",
            "_view_module_version": "1.2.0",
            "_view_name": "LayoutView",
            "align_content": null,
            "align_items": null,
            "align_self": null,
            "border": null,
            "bottom": null,
            "display": null,
            "flex": null,
            "flex_flow": null,
            "grid_area": null,
            "grid_auto_columns": null,
            "grid_auto_flow": null,
            "grid_auto_rows": null,
            "grid_column": null,
            "grid_gap": null,
            "grid_row": null,
            "grid_template_areas": null,
            "grid_template_columns": null,
            "grid_template_rows": null,
            "height": null,
            "justify_content": null,
            "justify_items": null,
            "left": null,
            "margin": null,
            "max_height": null,
            "max_width": null,
            "min_height": null,
            "min_width": null,
            "object_fit": null,
            "object_position": null,
            "order": null,
            "overflow": null,
            "overflow_x": null,
            "overflow_y": null,
            "padding": null,
            "right": null,
            "top": null,
            "visibility": null,
            "width": null
          }
        },
        "5f3447a726c84d22a5aa4e6450c4960e": {
          "model_module": "@jupyter-widgets/controls",
          "model_name": "DescriptionStyleModel",
          "model_module_version": "1.5.0",
          "state": {
            "_model_module": "@jupyter-widgets/controls",
            "_model_module_version": "1.5.0",
            "_model_name": "DescriptionStyleModel",
            "_view_count": null,
            "_view_module": "@jupyter-widgets/base",
            "_view_module_version": "1.2.0",
            "_view_name": "StyleView",
            "description_width": ""
          }
        },
        "42ba1d8121c64270b5723316f893c34f": {
          "model_module": "@jupyter-widgets/controls",
          "model_name": "HBoxModel",
          "model_module_version": "1.5.0",
          "state": {
            "_dom_classes": [],
            "_model_module": "@jupyter-widgets/controls",
            "_model_module_version": "1.5.0",
            "_model_name": "HBoxModel",
            "_view_count": null,
            "_view_module": "@jupyter-widgets/controls",
            "_view_module_version": "1.5.0",
            "_view_name": "HBoxView",
            "box_style": "",
            "children": [
              "IPY_MODEL_83201610dcef42ce9dc7e0f9e1e96c52",
              "IPY_MODEL_0bd253b819234544a5c016a1d01a6eee",
              "IPY_MODEL_e3db79993f6843ff8dd69af94f2c7e4e"
            ],
            "layout": "IPY_MODEL_edfce86cdf3642ceae3e6ed992242fea"
          }
        },
        "83201610dcef42ce9dc7e0f9e1e96c52": {
          "model_module": "@jupyter-widgets/controls",
          "model_name": "HTMLModel",
          "model_module_version": "1.5.0",
          "state": {
            "_dom_classes": [],
            "_model_module": "@jupyter-widgets/controls",
            "_model_module_version": "1.5.0",
            "_model_name": "HTMLModel",
            "_view_count": null,
            "_view_module": "@jupyter-widgets/controls",
            "_view_module_version": "1.5.0",
            "_view_name": "HTMLView",
            "description": "",
            "description_tooltip": null,
            "layout": "IPY_MODEL_ab662aeaeb37402d9a7afba206fb5d5d",
            "placeholder": "​",
            "style": "IPY_MODEL_5a03c9c3168e4b6480fb6bb920438181",
            "value": "vocab.json: 100%"
          }
        },
        "0bd253b819234544a5c016a1d01a6eee": {
          "model_module": "@jupyter-widgets/controls",
          "model_name": "FloatProgressModel",
          "model_module_version": "1.5.0",
          "state": {
            "_dom_classes": [],
            "_model_module": "@jupyter-widgets/controls",
            "_model_module_version": "1.5.0",
            "_model_name": "FloatProgressModel",
            "_view_count": null,
            "_view_module": "@jupyter-widgets/controls",
            "_view_module_version": "1.5.0",
            "_view_name": "ProgressView",
            "bar_style": "success",
            "description": "",
            "description_tooltip": null,
            "layout": "IPY_MODEL_d65a8fb1be31428c990bd1c575835635",
            "max": 291,
            "min": 0,
            "orientation": "horizontal",
            "style": "IPY_MODEL_63c720ef026f4916945f291183ed6842",
            "value": 291
          }
        },
        "e3db79993f6843ff8dd69af94f2c7e4e": {
          "model_module": "@jupyter-widgets/controls",
          "model_name": "HTMLModel",
          "model_module_version": "1.5.0",
          "state": {
            "_dom_classes": [],
            "_model_module": "@jupyter-widgets/controls",
            "_model_module_version": "1.5.0",
            "_model_name": "HTMLModel",
            "_view_count": null,
            "_view_module": "@jupyter-widgets/controls",
            "_view_module_version": "1.5.0",
            "_view_name": "HTMLView",
            "description": "",
            "description_tooltip": null,
            "layout": "IPY_MODEL_3f4af032bb564219bc326a669435a349",
            "placeholder": "​",
            "style": "IPY_MODEL_11fc7eb1a26541cdb4c3cd2c6570092e",
            "value": " 291/291 [00:00&lt;00:00, 6.17kB/s]"
          }
        },
        "edfce86cdf3642ceae3e6ed992242fea": {
          "model_module": "@jupyter-widgets/base",
          "model_name": "LayoutModel",
          "model_module_version": "1.2.0",
          "state": {
            "_model_module": "@jupyter-widgets/base",
            "_model_module_version": "1.2.0",
            "_model_name": "LayoutModel",
            "_view_count": null,
            "_view_module": "@jupyter-widgets/base",
            "_view_module_version": "1.2.0",
            "_view_name": "LayoutView",
            "align_content": null,
            "align_items": null,
            "align_self": null,
            "border": null,
            "bottom": null,
            "display": null,
            "flex": null,
            "flex_flow": null,
            "grid_area": null,
            "grid_auto_columns": null,
            "grid_auto_flow": null,
            "grid_auto_rows": null,
            "grid_column": null,
            "grid_gap": null,
            "grid_row": null,
            "grid_template_areas": null,
            "grid_template_columns": null,
            "grid_template_rows": null,
            "height": null,
            "justify_content": null,
            "justify_items": null,
            "left": null,
            "margin": null,
            "max_height": null,
            "max_width": null,
            "min_height": null,
            "min_width": null,
            "object_fit": null,
            "object_position": null,
            "order": null,
            "overflow": null,
            "overflow_x": null,
            "overflow_y": null,
            "padding": null,
            "right": null,
            "top": null,
            "visibility": null,
            "width": null
          }
        },
        "ab662aeaeb37402d9a7afba206fb5d5d": {
          "model_module": "@jupyter-widgets/base",
          "model_name": "LayoutModel",
          "model_module_version": "1.2.0",
          "state": {
            "_model_module": "@jupyter-widgets/base",
            "_model_module_version": "1.2.0",
            "_model_name": "LayoutModel",
            "_view_count": null,
            "_view_module": "@jupyter-widgets/base",
            "_view_module_version": "1.2.0",
            "_view_name": "LayoutView",
            "align_content": null,
            "align_items": null,
            "align_self": null,
            "border": null,
            "bottom": null,
            "display": null,
            "flex": null,
            "flex_flow": null,
            "grid_area": null,
            "grid_auto_columns": null,
            "grid_auto_flow": null,
            "grid_auto_rows": null,
            "grid_column": null,
            "grid_gap": null,
            "grid_row": null,
            "grid_template_areas": null,
            "grid_template_columns": null,
            "grid_template_rows": null,
            "height": null,
            "justify_content": null,
            "justify_items": null,
            "left": null,
            "margin": null,
            "max_height": null,
            "max_width": null,
            "min_height": null,
            "min_width": null,
            "object_fit": null,
            "object_position": null,
            "order": null,
            "overflow": null,
            "overflow_x": null,
            "overflow_y": null,
            "padding": null,
            "right": null,
            "top": null,
            "visibility": null,
            "width": null
          }
        },
        "5a03c9c3168e4b6480fb6bb920438181": {
          "model_module": "@jupyter-widgets/controls",
          "model_name": "DescriptionStyleModel",
          "model_module_version": "1.5.0",
          "state": {
            "_model_module": "@jupyter-widgets/controls",
            "_model_module_version": "1.5.0",
            "_model_name": "DescriptionStyleModel",
            "_view_count": null,
            "_view_module": "@jupyter-widgets/base",
            "_view_module_version": "1.2.0",
            "_view_name": "StyleView",
            "description_width": ""
          }
        },
        "d65a8fb1be31428c990bd1c575835635": {
          "model_module": "@jupyter-widgets/base",
          "model_name": "LayoutModel",
          "model_module_version": "1.2.0",
          "state": {
            "_model_module": "@jupyter-widgets/base",
            "_model_module_version": "1.2.0",
            "_model_name": "LayoutModel",
            "_view_count": null,
            "_view_module": "@jupyter-widgets/base",
            "_view_module_version": "1.2.0",
            "_view_name": "LayoutView",
            "align_content": null,
            "align_items": null,
            "align_self": null,
            "border": null,
            "bottom": null,
            "display": null,
            "flex": null,
            "flex_flow": null,
            "grid_area": null,
            "grid_auto_columns": null,
            "grid_auto_flow": null,
            "grid_auto_rows": null,
            "grid_column": null,
            "grid_gap": null,
            "grid_row": null,
            "grid_template_areas": null,
            "grid_template_columns": null,
            "grid_template_rows": null,
            "height": null,
            "justify_content": null,
            "justify_items": null,
            "left": null,
            "margin": null,
            "max_height": null,
            "max_width": null,
            "min_height": null,
            "min_width": null,
            "object_fit": null,
            "object_position": null,
            "order": null,
            "overflow": null,
            "overflow_x": null,
            "overflow_y": null,
            "padding": null,
            "right": null,
            "top": null,
            "visibility": null,
            "width": null
          }
        },
        "63c720ef026f4916945f291183ed6842": {
          "model_module": "@jupyter-widgets/controls",
          "model_name": "ProgressStyleModel",
          "model_module_version": "1.5.0",
          "state": {
            "_model_module": "@jupyter-widgets/controls",
            "_model_module_version": "1.5.0",
            "_model_name": "ProgressStyleModel",
            "_view_count": null,
            "_view_module": "@jupyter-widgets/base",
            "_view_module_version": "1.2.0",
            "_view_name": "StyleView",
            "bar_color": null,
            "description_width": ""
          }
        },
        "3f4af032bb564219bc326a669435a349": {
          "model_module": "@jupyter-widgets/base",
          "model_name": "LayoutModel",
          "model_module_version": "1.2.0",
          "state": {
            "_model_module": "@jupyter-widgets/base",
            "_model_module_version": "1.2.0",
            "_model_name": "LayoutModel",
            "_view_count": null,
            "_view_module": "@jupyter-widgets/base",
            "_view_module_version": "1.2.0",
            "_view_name": "LayoutView",
            "align_content": null,
            "align_items": null,
            "align_self": null,
            "border": null,
            "bottom": null,
            "display": null,
            "flex": null,
            "flex_flow": null,
            "grid_area": null,
            "grid_auto_columns": null,
            "grid_auto_flow": null,
            "grid_auto_rows": null,
            "grid_column": null,
            "grid_gap": null,
            "grid_row": null,
            "grid_template_areas": null,
            "grid_template_columns": null,
            "grid_template_rows": null,
            "height": null,
            "justify_content": null,
            "justify_items": null,
            "left": null,
            "margin": null,
            "max_height": null,
            "max_width": null,
            "min_height": null,
            "min_width": null,
            "object_fit": null,
            "object_position": null,
            "order": null,
            "overflow": null,
            "overflow_x": null,
            "overflow_y": null,
            "padding": null,
            "right": null,
            "top": null,
            "visibility": null,
            "width": null
          }
        },
        "11fc7eb1a26541cdb4c3cd2c6570092e": {
          "model_module": "@jupyter-widgets/controls",
          "model_name": "DescriptionStyleModel",
          "model_module_version": "1.5.0",
          "state": {
            "_model_module": "@jupyter-widgets/controls",
            "_model_module_version": "1.5.0",
            "_model_name": "DescriptionStyleModel",
            "_view_count": null,
            "_view_module": "@jupyter-widgets/base",
            "_view_module_version": "1.2.0",
            "_view_name": "StyleView",
            "description_width": ""
          }
        },
        "98bf1879cbf94690a17cc0d96bd800c1": {
          "model_module": "@jupyter-widgets/controls",
          "model_name": "HBoxModel",
          "model_module_version": "1.5.0",
          "state": {
            "_dom_classes": [],
            "_model_module": "@jupyter-widgets/controls",
            "_model_module_version": "1.5.0",
            "_model_name": "HBoxModel",
            "_view_count": null,
            "_view_module": "@jupyter-widgets/controls",
            "_view_module_version": "1.5.0",
            "_view_name": "HBoxView",
            "box_style": "",
            "children": [
              "IPY_MODEL_a149a964bf6f4ef690d7b59c63295b07",
              "IPY_MODEL_5e2b1004aa6945bea352ff62bb0835fe",
              "IPY_MODEL_a847fb353a6340249425c5bee1d89f79"
            ],
            "layout": "IPY_MODEL_1113a59c1b904a7497679d8aff1f4157"
          }
        },
        "a149a964bf6f4ef690d7b59c63295b07": {
          "model_module": "@jupyter-widgets/controls",
          "model_name": "HTMLModel",
          "model_module_version": "1.5.0",
          "state": {
            "_dom_classes": [],
            "_model_module": "@jupyter-widgets/controls",
            "_model_module_version": "1.5.0",
            "_model_name": "HTMLModel",
            "_view_count": null,
            "_view_module": "@jupyter-widgets/controls",
            "_view_module_version": "1.5.0",
            "_view_name": "HTMLView",
            "description": "",
            "description_tooltip": null,
            "layout": "IPY_MODEL_c8fe714318a044949babda52e88533e9",
            "placeholder": "​",
            "style": "IPY_MODEL_08df6ffce42f45bc8bb7491ab3d8d0b5",
            "value": "special_tokens_map.json: 100%"
          }
        },
        "5e2b1004aa6945bea352ff62bb0835fe": {
          "model_module": "@jupyter-widgets/controls",
          "model_name": "FloatProgressModel",
          "model_module_version": "1.5.0",
          "state": {
            "_dom_classes": [],
            "_model_module": "@jupyter-widgets/controls",
            "_model_module_version": "1.5.0",
            "_model_name": "FloatProgressModel",
            "_view_count": null,
            "_view_module": "@jupyter-widgets/controls",
            "_view_module_version": "1.5.0",
            "_view_name": "ProgressView",
            "bar_style": "success",
            "description": "",
            "description_tooltip": null,
            "layout": "IPY_MODEL_a4785010a0b64e3793c1d97dc4fc44de",
            "max": 85,
            "min": 0,
            "orientation": "horizontal",
            "style": "IPY_MODEL_1a4d69d7645841b5a420e41037c8000e",
            "value": 85
          }
        },
        "a847fb353a6340249425c5bee1d89f79": {
          "model_module": "@jupyter-widgets/controls",
          "model_name": "HTMLModel",
          "model_module_version": "1.5.0",
          "state": {
            "_dom_classes": [],
            "_model_module": "@jupyter-widgets/controls",
            "_model_module_version": "1.5.0",
            "_model_name": "HTMLModel",
            "_view_count": null,
            "_view_module": "@jupyter-widgets/controls",
            "_view_module_version": "1.5.0",
            "_view_name": "HTMLView",
            "description": "",
            "description_tooltip": null,
            "layout": "IPY_MODEL_0c22de8ed0c6475a9cdb33f990bd9cdf",
            "placeholder": "​",
            "style": "IPY_MODEL_7d29476570344ed1b303e28d1fe931ac",
            "value": " 85.0/85.0 [00:00&lt;00:00, 1.92kB/s]"
          }
        },
        "1113a59c1b904a7497679d8aff1f4157": {
          "model_module": "@jupyter-widgets/base",
          "model_name": "LayoutModel",
          "model_module_version": "1.2.0",
          "state": {
            "_model_module": "@jupyter-widgets/base",
            "_model_module_version": "1.2.0",
            "_model_name": "LayoutModel",
            "_view_count": null,
            "_view_module": "@jupyter-widgets/base",
            "_view_module_version": "1.2.0",
            "_view_name": "LayoutView",
            "align_content": null,
            "align_items": null,
            "align_self": null,
            "border": null,
            "bottom": null,
            "display": null,
            "flex": null,
            "flex_flow": null,
            "grid_area": null,
            "grid_auto_columns": null,
            "grid_auto_flow": null,
            "grid_auto_rows": null,
            "grid_column": null,
            "grid_gap": null,
            "grid_row": null,
            "grid_template_areas": null,
            "grid_template_columns": null,
            "grid_template_rows": null,
            "height": null,
            "justify_content": null,
            "justify_items": null,
            "left": null,
            "margin": null,
            "max_height": null,
            "max_width": null,
            "min_height": null,
            "min_width": null,
            "object_fit": null,
            "object_position": null,
            "order": null,
            "overflow": null,
            "overflow_x": null,
            "overflow_y": null,
            "padding": null,
            "right": null,
            "top": null,
            "visibility": null,
            "width": null
          }
        },
        "c8fe714318a044949babda52e88533e9": {
          "model_module": "@jupyter-widgets/base",
          "model_name": "LayoutModel",
          "model_module_version": "1.2.0",
          "state": {
            "_model_module": "@jupyter-widgets/base",
            "_model_module_version": "1.2.0",
            "_model_name": "LayoutModel",
            "_view_count": null,
            "_view_module": "@jupyter-widgets/base",
            "_view_module_version": "1.2.0",
            "_view_name": "LayoutView",
            "align_content": null,
            "align_items": null,
            "align_self": null,
            "border": null,
            "bottom": null,
            "display": null,
            "flex": null,
            "flex_flow": null,
            "grid_area": null,
            "grid_auto_columns": null,
            "grid_auto_flow": null,
            "grid_auto_rows": null,
            "grid_column": null,
            "grid_gap": null,
            "grid_row": null,
            "grid_template_areas": null,
            "grid_template_columns": null,
            "grid_template_rows": null,
            "height": null,
            "justify_content": null,
            "justify_items": null,
            "left": null,
            "margin": null,
            "max_height": null,
            "max_width": null,
            "min_height": null,
            "min_width": null,
            "object_fit": null,
            "object_position": null,
            "order": null,
            "overflow": null,
            "overflow_x": null,
            "overflow_y": null,
            "padding": null,
            "right": null,
            "top": null,
            "visibility": null,
            "width": null
          }
        },
        "08df6ffce42f45bc8bb7491ab3d8d0b5": {
          "model_module": "@jupyter-widgets/controls",
          "model_name": "DescriptionStyleModel",
          "model_module_version": "1.5.0",
          "state": {
            "_model_module": "@jupyter-widgets/controls",
            "_model_module_version": "1.5.0",
            "_model_name": "DescriptionStyleModel",
            "_view_count": null,
            "_view_module": "@jupyter-widgets/base",
            "_view_module_version": "1.2.0",
            "_view_name": "StyleView",
            "description_width": ""
          }
        },
        "a4785010a0b64e3793c1d97dc4fc44de": {
          "model_module": "@jupyter-widgets/base",
          "model_name": "LayoutModel",
          "model_module_version": "1.2.0",
          "state": {
            "_model_module": "@jupyter-widgets/base",
            "_model_module_version": "1.2.0",
            "_model_name": "LayoutModel",
            "_view_count": null,
            "_view_module": "@jupyter-widgets/base",
            "_view_module_version": "1.2.0",
            "_view_name": "LayoutView",
            "align_content": null,
            "align_items": null,
            "align_self": null,
            "border": null,
            "bottom": null,
            "display": null,
            "flex": null,
            "flex_flow": null,
            "grid_area": null,
            "grid_auto_columns": null,
            "grid_auto_flow": null,
            "grid_auto_rows": null,
            "grid_column": null,
            "grid_gap": null,
            "grid_row": null,
            "grid_template_areas": null,
            "grid_template_columns": null,
            "grid_template_rows": null,
            "height": null,
            "justify_content": null,
            "justify_items": null,
            "left": null,
            "margin": null,
            "max_height": null,
            "max_width": null,
            "min_height": null,
            "min_width": null,
            "object_fit": null,
            "object_position": null,
            "order": null,
            "overflow": null,
            "overflow_x": null,
            "overflow_y": null,
            "padding": null,
            "right": null,
            "top": null,
            "visibility": null,
            "width": null
          }
        },
        "1a4d69d7645841b5a420e41037c8000e": {
          "model_module": "@jupyter-widgets/controls",
          "model_name": "ProgressStyleModel",
          "model_module_version": "1.5.0",
          "state": {
            "_model_module": "@jupyter-widgets/controls",
            "_model_module_version": "1.5.0",
            "_model_name": "ProgressStyleModel",
            "_view_count": null,
            "_view_module": "@jupyter-widgets/base",
            "_view_module_version": "1.2.0",
            "_view_name": "StyleView",
            "bar_color": null,
            "description_width": ""
          }
        },
        "0c22de8ed0c6475a9cdb33f990bd9cdf": {
          "model_module": "@jupyter-widgets/base",
          "model_name": "LayoutModel",
          "model_module_version": "1.2.0",
          "state": {
            "_model_module": "@jupyter-widgets/base",
            "_model_module_version": "1.2.0",
            "_model_name": "LayoutModel",
            "_view_count": null,
            "_view_module": "@jupyter-widgets/base",
            "_view_module_version": "1.2.0",
            "_view_name": "LayoutView",
            "align_content": null,
            "align_items": null,
            "align_self": null,
            "border": null,
            "bottom": null,
            "display": null,
            "flex": null,
            "flex_flow": null,
            "grid_area": null,
            "grid_auto_columns": null,
            "grid_auto_flow": null,
            "grid_auto_rows": null,
            "grid_column": null,
            "grid_gap": null,
            "grid_row": null,
            "grid_template_areas": null,
            "grid_template_columns": null,
            "grid_template_rows": null,
            "height": null,
            "justify_content": null,
            "justify_items": null,
            "left": null,
            "margin": null,
            "max_height": null,
            "max_width": null,
            "min_height": null,
            "min_width": null,
            "object_fit": null,
            "object_position": null,
            "order": null,
            "overflow": null,
            "overflow_x": null,
            "overflow_y": null,
            "padding": null,
            "right": null,
            "top": null,
            "visibility": null,
            "width": null
          }
        },
        "7d29476570344ed1b303e28d1fe931ac": {
          "model_module": "@jupyter-widgets/controls",
          "model_name": "DescriptionStyleModel",
          "model_module_version": "1.5.0",
          "state": {
            "_model_module": "@jupyter-widgets/controls",
            "_model_module_version": "1.5.0",
            "_model_name": "DescriptionStyleModel",
            "_view_count": null,
            "_view_module": "@jupyter-widgets/base",
            "_view_module_version": "1.2.0",
            "_view_name": "StyleView",
            "description_width": ""
          }
        },
        "e4629078d09340dabed89b15462414db": {
          "model_module": "@jupyter-widgets/controls",
          "model_name": "HBoxModel",
          "model_module_version": "1.5.0",
          "state": {
            "_dom_classes": [],
            "_model_module": "@jupyter-widgets/controls",
            "_model_module_version": "1.5.0",
            "_model_name": "HBoxModel",
            "_view_count": null,
            "_view_module": "@jupyter-widgets/controls",
            "_view_module_version": "1.5.0",
            "_view_name": "HBoxView",
            "box_style": "",
            "children": [
              "IPY_MODEL_e75cc118b0cf48c591b51dcc75076375",
              "IPY_MODEL_f6502d19516f4cfdaa44100b9ffb4d66",
              "IPY_MODEL_c568e4c7f7604d24b2560df71e2cd3ad"
            ],
            "layout": "IPY_MODEL_0569147b1fc74a148f599faaf4961a6b"
          }
        },
        "e75cc118b0cf48c591b51dcc75076375": {
          "model_module": "@jupyter-widgets/controls",
          "model_name": "HTMLModel",
          "model_module_version": "1.5.0",
          "state": {
            "_dom_classes": [],
            "_model_module": "@jupyter-widgets/controls",
            "_model_module_version": "1.5.0",
            "_model_name": "HTMLModel",
            "_view_count": null,
            "_view_module": "@jupyter-widgets/controls",
            "_view_module_version": "1.5.0",
            "_view_name": "HTMLView",
            "description": "",
            "description_tooltip": null,
            "layout": "IPY_MODEL_341fbb26a78c4a8e8afa1ec1d5398063",
            "placeholder": "​",
            "style": "IPY_MODEL_c9b96be564814b5cae329af1b3982d8f",
            "value": "pytorch_model.bin: 100%"
          }
        },
        "f6502d19516f4cfdaa44100b9ffb4d66": {
          "model_module": "@jupyter-widgets/controls",
          "model_name": "FloatProgressModel",
          "model_module_version": "1.5.0",
          "state": {
            "_dom_classes": [],
            "_model_module": "@jupyter-widgets/controls",
            "_model_module_version": "1.5.0",
            "_model_name": "FloatProgressModel",
            "_view_count": null,
            "_view_module": "@jupyter-widgets/controls",
            "_view_module_version": "1.5.0",
            "_view_name": "ProgressView",
            "bar_style": "success",
            "description": "",
            "description_tooltip": null,
            "layout": "IPY_MODEL_85fb6b2e92944fe3b9558ea1a02d8ea1",
            "max": 1262057559,
            "min": 0,
            "orientation": "horizontal",
            "style": "IPY_MODEL_24160d3f67a54518a05c8cc1abf5f646",
            "value": 1262057559
          }
        },
        "c568e4c7f7604d24b2560df71e2cd3ad": {
          "model_module": "@jupyter-widgets/controls",
          "model_name": "HTMLModel",
          "model_module_version": "1.5.0",
          "state": {
            "_dom_classes": [],
            "_model_module": "@jupyter-widgets/controls",
            "_model_module_version": "1.5.0",
            "_model_name": "HTMLModel",
            "_view_count": null,
            "_view_module": "@jupyter-widgets/controls",
            "_view_module_version": "1.5.0",
            "_view_name": "HTMLView",
            "description": "",
            "description_tooltip": null,
            "layout": "IPY_MODEL_02696174bbcd4071af685f98c9363564",
            "placeholder": "​",
            "style": "IPY_MODEL_e7bc55d2dfdf4ddf940341647404ba30",
            "value": " 1.26G/1.26G [00:12&lt;00:00, 103MB/s]"
          }
        },
        "0569147b1fc74a148f599faaf4961a6b": {
          "model_module": "@jupyter-widgets/base",
          "model_name": "LayoutModel",
          "model_module_version": "1.2.0",
          "state": {
            "_model_module": "@jupyter-widgets/base",
            "_model_module_version": "1.2.0",
            "_model_name": "LayoutModel",
            "_view_count": null,
            "_view_module": "@jupyter-widgets/base",
            "_view_module_version": "1.2.0",
            "_view_name": "LayoutView",
            "align_content": null,
            "align_items": null,
            "align_self": null,
            "border": null,
            "bottom": null,
            "display": null,
            "flex": null,
            "flex_flow": null,
            "grid_area": null,
            "grid_auto_columns": null,
            "grid_auto_flow": null,
            "grid_auto_rows": null,
            "grid_column": null,
            "grid_gap": null,
            "grid_row": null,
            "grid_template_areas": null,
            "grid_template_columns": null,
            "grid_template_rows": null,
            "height": null,
            "justify_content": null,
            "justify_items": null,
            "left": null,
            "margin": null,
            "max_height": null,
            "max_width": null,
            "min_height": null,
            "min_width": null,
            "object_fit": null,
            "object_position": null,
            "order": null,
            "overflow": null,
            "overflow_x": null,
            "overflow_y": null,
            "padding": null,
            "right": null,
            "top": null,
            "visibility": null,
            "width": null
          }
        },
        "341fbb26a78c4a8e8afa1ec1d5398063": {
          "model_module": "@jupyter-widgets/base",
          "model_name": "LayoutModel",
          "model_module_version": "1.2.0",
          "state": {
            "_model_module": "@jupyter-widgets/base",
            "_model_module_version": "1.2.0",
            "_model_name": "LayoutModel",
            "_view_count": null,
            "_view_module": "@jupyter-widgets/base",
            "_view_module_version": "1.2.0",
            "_view_name": "LayoutView",
            "align_content": null,
            "align_items": null,
            "align_self": null,
            "border": null,
            "bottom": null,
            "display": null,
            "flex": null,
            "flex_flow": null,
            "grid_area": null,
            "grid_auto_columns": null,
            "grid_auto_flow": null,
            "grid_auto_rows": null,
            "grid_column": null,
            "grid_gap": null,
            "grid_row": null,
            "grid_template_areas": null,
            "grid_template_columns": null,
            "grid_template_rows": null,
            "height": null,
            "justify_content": null,
            "justify_items": null,
            "left": null,
            "margin": null,
            "max_height": null,
            "max_width": null,
            "min_height": null,
            "min_width": null,
            "object_fit": null,
            "object_position": null,
            "order": null,
            "overflow": null,
            "overflow_x": null,
            "overflow_y": null,
            "padding": null,
            "right": null,
            "top": null,
            "visibility": null,
            "width": null
          }
        },
        "c9b96be564814b5cae329af1b3982d8f": {
          "model_module": "@jupyter-widgets/controls",
          "model_name": "DescriptionStyleModel",
          "model_module_version": "1.5.0",
          "state": {
            "_model_module": "@jupyter-widgets/controls",
            "_model_module_version": "1.5.0",
            "_model_name": "DescriptionStyleModel",
            "_view_count": null,
            "_view_module": "@jupyter-widgets/base",
            "_view_module_version": "1.2.0",
            "_view_name": "StyleView",
            "description_width": ""
          }
        },
        "85fb6b2e92944fe3b9558ea1a02d8ea1": {
          "model_module": "@jupyter-widgets/base",
          "model_name": "LayoutModel",
          "model_module_version": "1.2.0",
          "state": {
            "_model_module": "@jupyter-widgets/base",
            "_model_module_version": "1.2.0",
            "_model_name": "LayoutModel",
            "_view_count": null,
            "_view_module": "@jupyter-widgets/base",
            "_view_module_version": "1.2.0",
            "_view_name": "LayoutView",
            "align_content": null,
            "align_items": null,
            "align_self": null,
            "border": null,
            "bottom": null,
            "display": null,
            "flex": null,
            "flex_flow": null,
            "grid_area": null,
            "grid_auto_columns": null,
            "grid_auto_flow": null,
            "grid_auto_rows": null,
            "grid_column": null,
            "grid_gap": null,
            "grid_row": null,
            "grid_template_areas": null,
            "grid_template_columns": null,
            "grid_template_rows": null,
            "height": null,
            "justify_content": null,
            "justify_items": null,
            "left": null,
            "margin": null,
            "max_height": null,
            "max_width": null,
            "min_height": null,
            "min_width": null,
            "object_fit": null,
            "object_position": null,
            "order": null,
            "overflow": null,
            "overflow_x": null,
            "overflow_y": null,
            "padding": null,
            "right": null,
            "top": null,
            "visibility": null,
            "width": null
          }
        },
        "24160d3f67a54518a05c8cc1abf5f646": {
          "model_module": "@jupyter-widgets/controls",
          "model_name": "ProgressStyleModel",
          "model_module_version": "1.5.0",
          "state": {
            "_model_module": "@jupyter-widgets/controls",
            "_model_module_version": "1.5.0",
            "_model_name": "ProgressStyleModel",
            "_view_count": null,
            "_view_module": "@jupyter-widgets/base",
            "_view_module_version": "1.2.0",
            "_view_name": "StyleView",
            "bar_color": null,
            "description_width": ""
          }
        },
        "02696174bbcd4071af685f98c9363564": {
          "model_module": "@jupyter-widgets/base",
          "model_name": "LayoutModel",
          "model_module_version": "1.2.0",
          "state": {
            "_model_module": "@jupyter-widgets/base",
            "_model_module_version": "1.2.0",
            "_model_name": "LayoutModel",
            "_view_count": null,
            "_view_module": "@jupyter-widgets/base",
            "_view_module_version": "1.2.0",
            "_view_name": "LayoutView",
            "align_content": null,
            "align_items": null,
            "align_self": null,
            "border": null,
            "bottom": null,
            "display": null,
            "flex": null,
            "flex_flow": null,
            "grid_area": null,
            "grid_auto_columns": null,
            "grid_auto_flow": null,
            "grid_auto_rows": null,
            "grid_column": null,
            "grid_gap": null,
            "grid_row": null,
            "grid_template_areas": null,
            "grid_template_columns": null,
            "grid_template_rows": null,
            "height": null,
            "justify_content": null,
            "justify_items": null,
            "left": null,
            "margin": null,
            "max_height": null,
            "max_width": null,
            "min_height": null,
            "min_width": null,
            "object_fit": null,
            "object_position": null,
            "order": null,
            "overflow": null,
            "overflow_x": null,
            "overflow_y": null,
            "padding": null,
            "right": null,
            "top": null,
            "visibility": null,
            "width": null
          }
        },
        "e7bc55d2dfdf4ddf940341647404ba30": {
          "model_module": "@jupyter-widgets/controls",
          "model_name": "DescriptionStyleModel",
          "model_module_version": "1.5.0",
          "state": {
            "_model_module": "@jupyter-widgets/controls",
            "_model_module_version": "1.5.0",
            "_model_name": "DescriptionStyleModel",
            "_view_count": null,
            "_view_module": "@jupyter-widgets/base",
            "_view_module_version": "1.2.0",
            "_view_name": "StyleView",
            "description_width": ""
          }
        }
      }
    }
  },
  "nbformat": 4,
  "nbformat_minor": 0
}